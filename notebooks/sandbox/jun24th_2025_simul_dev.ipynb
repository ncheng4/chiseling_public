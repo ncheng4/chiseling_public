{
 "cells": [
  {
   "cell_type": "code",
   "execution_count": 1,
   "id": "c4671c3d-9564-463d-a3b9-d4cf3b94d452",
   "metadata": {},
   "outputs": [],
   "source": [
    "%load_ext autoreload\n",
    "%autoreload 2"
   ]
  },
  {
   "cell_type": "code",
   "execution_count": 2,
   "id": "ac8c63f1-253c-4ef0-a5c2-b7a642bb596e",
   "metadata": {},
   "outputs": [],
   "source": [
    "import numpy as np\n",
    "import scipy.stats\n",
    "\n",
    "import sys\n",
    "sys.path.append(\"../../../\")\n",
    "\n",
    "from chiseling.dgps.basic_linear_rct import BasicLinearRCT\n",
    "from chiseling.source.learners.baselearners_general import linreg_learner\n",
    "from chiseling.source.strategies.simul_data_splitting_strategy import SimulDataSplittingStrategy"
   ]
  },
  {
   "cell_type": "code",
   "execution_count": 3,
   "id": "f12e2f26-7473-4e94-974e-210185688604",
   "metadata": {},
   "outputs": [],
   "source": [
    "# Hyperparameters\n",
    "n = 1000\n",
    "d = 20\n",
    "s_prog = 20\n",
    "s_effect = 20\n",
    "theta_prog = 0\n",
    "theta_effect = 0\n",
    "tau = 0\n",
    "\n",
    "alpha = 0.05\n",
    "\n",
    "random_seed = 42"
   ]
  },
  {
   "cell_type": "code",
   "execution_count": 4,
   "id": "456fd559-314b-48a4-9894-6479aaabbe3b",
   "metadata": {},
   "outputs": [],
   "source": [
    "# Sample data\n",
    "sampler = BasicLinearRCT(d, s_prog, s_effect, theta_prog, theta_effect, tau, ipw_transform=True, random_seed=random_seed)\n",
    "X, Y = sampler.sample(n)"
   ]
  },
  {
   "cell_type": "code",
   "execution_count": 5,
   "id": "8997531b-a9e8-42f3-9061-8c7cbbe0ca77",
   "metadata": {},
   "outputs": [],
   "source": [
    "# Run data splitting\n",
    "simul_datasplit = SimulDataSplittingStrategy(X=X,\n",
    "                                             Y=Y,\n",
    "                                             train_ratio=0.2,\n",
    "                                             learner=linreg_learner,\n",
    "                                             alpha=alpha,\n",
    "                                             test_thresh=0,\n",
    "                                             random_seed=random_seed)\n",
    "\n",
    "simul_datasplit.run_strategy()"
   ]
  },
  {
   "cell_type": "code",
   "execution_count": 6,
   "id": "0a0bbd17-c79c-439e-aba6-5baad3ab43dc",
   "metadata": {},
   "outputs": [
    {
     "data": {
      "text/plain": [
       "False"
      ]
     },
     "execution_count": 6,
     "metadata": {},
     "output_type": "execute_result"
    }
   ],
   "source": [
    "# Data split rejection\n",
    "simul_datasplit.rejected"
   ]
  },
  {
   "cell_type": "code",
   "execution_count": 7,
   "id": "13f94fc1-d53a-49ac-9cf0-e4965dc7f79e",
   "metadata": {},
   "outputs": [
    {
     "data": {
      "text/plain": [
       "(0, 0, nan, 0, 0, nan)"
      ]
     },
     "execution_count": 7,
     "metadata": {},
     "output_type": "execute_result"
    }
   ],
   "source": [
    "# Chiseling region metrics\n",
    "sampler.estimate_region_metrics(simul_datasplit.region)"
   ]
  },
  {
   "cell_type": "code",
   "execution_count": 8,
   "id": "9a330656-6063-4053-a9c3-bd54fa11ac4a",
   "metadata": {},
   "outputs": [
    {
     "data": {
      "text/plain": [
       "array([0.        , 0.08365663, 0.1694563 , 0.2342705 , 0.31184793,\n",
       "       0.42406887, 0.52500027, 0.60388579, 0.75644881, 0.97838346])"
      ]
     },
     "execution_count": 8,
     "metadata": {},
     "output_type": "execute_result"
    }
   ],
   "source": [
    "# Inspect cutoffs\n",
    "simul_datasplit.test_cutoffs"
   ]
  },
  {
   "cell_type": "code",
   "execution_count": 9,
   "id": "85ee70ce-2d40-4a9d-8a2b-949b74688941",
   "metadata": {},
   "outputs": [
    {
     "data": {
      "text/plain": [
       "array([-0.17415008, -0.18434898, -0.11085581, -0.08880834, -0.05217202,\n",
       "       -0.14311253, -0.24716928, -0.35845606, -0.50111139, -0.79545064])"
      ]
     },
     "execution_count": 9,
     "metadata": {},
     "output_type": "execute_result"
    }
   ],
   "source": [
    "# Inspect LCB\n",
    "simul_datasplit.lcb"
   ]
  },
  {
   "cell_type": "markdown",
   "id": "b4f64981-fb04-48bb-9590-7f198dae6442",
   "metadata": {},
   "source": [
    "### Check coverage"
   ]
  },
  {
   "cell_type": "code",
   "execution_count": 10,
   "id": "21d1e36c-de3a-434f-951a-b8e362dad89c",
   "metadata": {},
   "outputs": [],
   "source": [
    "n_sims = 2000"
   ]
  },
  {
   "cell_type": "code",
   "execution_count": 11,
   "id": "54a69e75-ad93-4147-8439-8177674ff30e",
   "metadata": {},
   "outputs": [],
   "source": [
    "all_rejections = []\n",
    "for _ in range(n_sims):\n",
    "    X, Y = sampler.sample(n)\n",
    "    # Run data splitting\n",
    "    simul_datasplit = SimulDataSplittingStrategy(X=X,\n",
    "                                                 Y=Y,\n",
    "                                                 train_ratio=0.2,\n",
    "                                                 learner=linreg_learner,\n",
    "                                                 alpha=alpha,\n",
    "                                                 test_thresh=0,\n",
    "                                                 random_seed=random_seed)\n",
    "    simul_datasplit.run_strategy()\n",
    "    # Data split rejection\n",
    "    all_rejections.append(simul_datasplit.rejected)\n",
    "all_rejections = np.array(all_rejections)"
   ]
  },
  {
   "cell_type": "code",
   "execution_count": 12,
   "id": "2c4ec7d0-e1be-487f-9498-9a9056ae1cbb",
   "metadata": {},
   "outputs": [
    {
     "data": {
      "text/plain": [
       "(np.float64(0.057), np.float64(0.00518415856238985))"
      ]
     },
     "execution_count": 12,
     "metadata": {},
     "output_type": "execute_result"
    }
   ],
   "source": [
    "all_rejections.mean(), all_rejections.std() / np.sqrt(n_sims)"
   ]
  },
  {
   "cell_type": "code",
   "execution_count": 13,
   "id": "83772a54-d660-49d2-b00c-91463574b324",
   "metadata": {},
   "outputs": [
    {
     "data": {
      "text/plain": [
       "np.float64(0.0466316828752203)"
      ]
     },
     "execution_count": 13,
     "metadata": {},
     "output_type": "execute_result"
    }
   ],
   "source": [
    "all_rejections.mean() - 2 * (all_rejections.std() / np.sqrt(n_sims))"
   ]
  },
  {
   "cell_type": "code",
   "execution_count": null,
   "id": "b61272e6-6007-497c-9deb-e4753acea03c",
   "metadata": {},
   "outputs": [],
   "source": []
  }
 ],
 "metadata": {
  "kernelspec": {
   "display_name": "Python 3 (ipykernel)",
   "language": "python",
   "name": "python3"
  },
  "language_info": {
   "codemirror_mode": {
    "name": "ipython",
    "version": 3
   },
   "file_extension": ".py",
   "mimetype": "text/x-python",
   "name": "python",
   "nbconvert_exporter": "python",
   "pygments_lexer": "ipython3",
   "version": "3.12.9"
  }
 },
 "nbformat": 4,
 "nbformat_minor": 5
}
