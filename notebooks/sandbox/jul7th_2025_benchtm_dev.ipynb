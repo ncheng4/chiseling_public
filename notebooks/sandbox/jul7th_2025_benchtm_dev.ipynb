{
 "cells": [
  {
   "cell_type": "code",
   "execution_count": 1,
   "id": "25da44ee-d483-431e-9c6b-8dbebca342be",
   "metadata": {},
   "outputs": [],
   "source": [
    "%load_ext autoreload\n",
    "%autoreload 2"
   ]
  },
  {
   "cell_type": "code",
   "execution_count": 2,
   "id": "975ae49d-ae65-47b3-b467-aa81adc3bf0d",
   "metadata": {},
   "outputs": [],
   "source": [
    "import numpy as np\n",
    "import scipy.stats\n",
    "import matplotlib.pyplot as plt\n",
    "\n",
    "import sys\n",
    "sys.path.append(\"../../../\")\n",
    "\n",
    "from chiseling.dgps.benchtm import BenchTM\n",
    "from chiseling.source.learners.baselearners_causal import make_causal_random_forest_learner\n",
    "from chiseling.source.protocol.IRST import UnitRegistrar, IRST\n",
    "from chiseling.source.protocol.utils import aipw_intercept_pseudo_outcome\n",
    "from chiseling.source.strategies.data_splitting_strategy import DataSplittingStrategy\n",
    "from chiseling.source.strategies.alpha_spending_strategy import AlphaSpendingStrategy\n",
    "\n",
    "from chiseling.benchmark.benchmark import Benchmark"
   ]
  },
  {
   "cell_type": "code",
   "execution_count": 3,
   "id": "243dd6e1-b3cb-42b8-9402-2d1115b5bcd3",
   "metadata": {},
   "outputs": [],
   "source": [
    "# Hyperparameters\n",
    "n = 500\n",
    "\n",
    "alpha = 0.05\n",
    "\n",
    "random_seed = 0\n",
    "\n",
    "benchtm_path = \"../../../benchtm/\""
   ]
  },
  {
   "cell_type": "code",
   "execution_count": 4,
   "id": "ca87bdbf-8d3b-4268-b7a3-51f35565100b",
   "metadata": {},
   "outputs": [],
   "source": [
    "# Sample data\n",
    "sampler = BenchTM(scenario=1, benchtm_path=benchtm_path, random_seed=random_seed)\n",
    "TX, Y = sampler.sample(n)"
   ]
  },
  {
   "cell_type": "code",
   "execution_count": 5,
   "id": "02398a69-26ec-4f86-984b-b3e52aa0f224",
   "metadata": {},
   "outputs": [
    {
     "data": {
      "text/plain": [
       "(np.float64(0.2123999999999997),\n",
       " np.float64(1.0),\n",
       " np.float64(0.2123999999999997),\n",
       " 0,\n",
       " 0,\n",
       " 0)"
      ]
     },
     "execution_count": 5,
     "metadata": {},
     "output_type": "execute_result"
    }
   ],
   "source": [
    "sampler.get_optimal_region_metrics()"
   ]
  },
  {
   "cell_type": "code",
   "execution_count": 6,
   "id": "961b0968-0eba-424c-8a4f-10f152d03424",
   "metadata": {},
   "outputs": [],
   "source": [
    "# Initialize protocol\n",
    "unit_reg = UnitRegistrar(random_seed)\n",
    "regTX = unit_reg.register_units(TX)\n",
    "pY = aipw_intercept_pseudo_outcome(T=TX[:,0], X=TX[:,1:], Y=Y,\n",
    "                                   propensities=0.5, random_seed=random_seed)\n",
    "protocol = IRST(regTX, Y, pY=pY, alpha=alpha)"
   ]
  },
  {
   "cell_type": "code",
   "execution_count": 7,
   "id": "20534651-e637-4bf2-a528-32861ae8ff73",
   "metadata": {},
   "outputs": [],
   "source": [
    "# Make random forest learner\n",
    "rf_learner = make_causal_random_forest_learner(random_seed=random_seed)"
   ]
  },
  {
   "cell_type": "code",
   "execution_count": 8,
   "id": "44d7fa25-7bfd-43e1-876b-fb803966e69c",
   "metadata": {
    "scrolled": true
   },
   "outputs": [
    {
     "name": "stdout",
     "output_type": "stream",
     "text": [
      "METRICS = {'curr_sample_efficiency': 1.0, 'spent_alpha': np.float64(0.0), 'remaining_alpha': np.float64(0.05), 'n_shrink_revealed': 116, 'n_left_in_region': 284, 'region_mass_estimate': np.float64(0.71)}\n",
      "SUMMARY: rejected = True, spent_alpha = 0.050000000000000044, n_left_in_region = 284, region_mass-estimate = 0.71\n"
     ]
    }
   ],
   "source": [
    "# Run chiseling\n",
    "strategy = AlphaSpendingStrategy(protocol=protocol,\n",
    "                                 test_thresh=0,\n",
    "                                 learner=rf_learner,\n",
    "                                 n_burn_in=0.2,\n",
    "                                 reveal_batch_size=int(0.05 * n),\n",
    "                                 refit_batch_size=int(0.05 * n),\n",
    "                                 alpha_spending_fn='instantaneous',\n",
    "                                 random_seed=random_seed)\n",
    "\n",
    "strategy.run_strategy(verbose=True)"
   ]
  },
  {
   "cell_type": "code",
   "execution_count": 9,
   "id": "702ba380-ff60-41ea-a89d-72957bdd8819",
   "metadata": {},
   "outputs": [
    {
     "data": {
      "text/html": [
       "<div>\n",
       "<style scoped>\n",
       "    .dataframe tbody tr th:only-of-type {\n",
       "        vertical-align: middle;\n",
       "    }\n",
       "\n",
       "    .dataframe tbody tr th {\n",
       "        vertical-align: top;\n",
       "    }\n",
       "\n",
       "    .dataframe thead th {\n",
       "        text-align: right;\n",
       "    }\n",
       "</style>\n",
       "<table border=\"1\" class=\"dataframe\">\n",
       "  <thead>\n",
       "    <tr style=\"text-align: right;\">\n",
       "      <th></th>\n",
       "      <th>stage_number</th>\n",
       "      <th>mean</th>\n",
       "      <th>variance</th>\n",
       "      <th>sample_size</th>\n",
       "      <th>test_stat</th>\n",
       "      <th>alloc_alpha</th>\n",
       "      <th>remaining_alpha</th>\n",
       "      <th>crit_val</th>\n",
       "      <th>rejection</th>\n",
       "    </tr>\n",
       "  </thead>\n",
       "  <tbody>\n",
       "    <tr>\n",
       "      <th>0</th>\n",
       "      <td>-1</td>\n",
       "      <td>0.232159</td>\n",
       "      <td>5.948922</td>\n",
       "      <td>500</td>\n",
       "      <td>2.128392</td>\n",
       "      <td>0.00</td>\n",
       "      <td>0.05</td>\n",
       "      <td>inf</td>\n",
       "      <td>False</td>\n",
       "    </tr>\n",
       "    <tr>\n",
       "      <th>1</th>\n",
       "      <td>6</td>\n",
       "      <td>0.425972</td>\n",
       "      <td>5.868100</td>\n",
       "      <td>284</td>\n",
       "      <td>2.963406</td>\n",
       "      <td>0.05</td>\n",
       "      <td>0.00</td>\n",
       "      <td>1.644854</td>\n",
       "      <td>True</td>\n",
       "    </tr>\n",
       "  </tbody>\n",
       "</table>\n",
       "</div>"
      ],
      "text/plain": [
       "   stage_number      mean  variance  sample_size  test_stat  alloc_alpha  \\\n",
       "0            -1  0.232159  5.948922          500   2.128392         0.00   \n",
       "1             6  0.425972  5.868100          284   2.963406         0.05   \n",
       "\n",
       "   remaining_alpha  crit_val  rejection  \n",
       "0             0.05       inf      False  \n",
       "1             0.00  1.644854       True  "
      ]
     },
     "execution_count": 9,
     "metadata": {},
     "output_type": "execute_result"
    }
   ],
   "source": [
    "protocol.testing_history"
   ]
  },
  {
   "cell_type": "code",
   "execution_count": 10,
   "id": "5b0ed7f3-7767-41c2-bd56-6e51d7e6103c",
   "metadata": {},
   "outputs": [],
   "source": [
    "# Run data splitting\n",
    "datasplit = DataSplittingStrategy(X=TX,\n",
    "                                  Y=Y,\n",
    "                                  train_ratio=0.2,\n",
    "                                  learner=rf_learner,\n",
    "                                  alpha=alpha,\n",
    "                                  test_thresh=0,\n",
    "                                  random_seed=random_seed)\n",
    "datasplit.run_strategy()"
   ]
  },
  {
   "cell_type": "code",
   "execution_count": 11,
   "id": "4332a469-93a2-4021-86f1-42f376218307",
   "metadata": {},
   "outputs": [
    {
     "data": {
      "text/plain": [
       "np.True_"
      ]
     },
     "execution_count": 11,
     "metadata": {},
     "output_type": "execute_result"
    }
   ],
   "source": [
    "# Data split rejection\n",
    "datasplit.rejected"
   ]
  },
  {
   "cell_type": "code",
   "execution_count": 12,
   "id": "6e225c14-c5ce-444b-9d49-0d209087680f",
   "metadata": {},
   "outputs": [
    {
     "data": {
      "text/plain": [
       "(np.float64(0.1443905291526125),\n",
       " np.float64(0.69951),\n",
       " np.float64(0.2064166761770561),\n",
       " np.float64(0.009407306854545234),\n",
       " np.float64(0.0014498129531080898),\n",
       " np.float64(0.013441617026597047))"
      ]
     },
     "execution_count": 12,
     "metadata": {},
     "output_type": "execute_result"
    }
   ],
   "source": [
    "# Chiseling region metrics\n",
    "sampler.estimate_region_metrics(protocol.rejected_region)"
   ]
  },
  {
   "cell_type": "code",
   "execution_count": 13,
   "id": "e84af2a3-e7ff-48e5-a168-73bafa5e62a8",
   "metadata": {},
   "outputs": [
    {
     "data": {
      "text/plain": [
       "(np.float64(0.1397319904819037),\n",
       " np.float64(0.68119),\n",
       " np.float64(0.2051292451179608),\n",
       " np.float64(0.009945025675872857),\n",
       " np.float64(0.001473669514850599),\n",
       " np.float64(0.014592742572596547))"
      ]
     },
     "execution_count": 13,
     "metadata": {},
     "output_type": "execute_result"
    }
   ],
   "source": [
    "# Data region metrics\n",
    "sampler.estimate_region_metrics(datasplit.region)"
   ]
  },
  {
   "cell_type": "code",
   "execution_count": 16,
   "id": "2d512ed2-6f90-4909-848c-aff19eb6dae4",
   "metadata": {},
   "outputs": [],
   "source": [
    "# settings = {\"task_id\": 0,\n",
    "#             \"dgp\": \"BenchTM\",\n",
    "#             \"benchtm_path\": benchtm_path,\n",
    "#             \"scenario\": 1,\n",
    "#             \"n\": n,\n",
    "#             \"outcome_transform\": \"aipw_intercept_fair\",\n",
    "#             \"alpha\": alpha,\n",
    "#             \"random_seed\": random_seed,\n",
    "#             \"strategy\": \"ChiselingEqualAlpha\",\n",
    "#             \"reveal_batch_size\": max(1, int(0.05 * n)),\n",
    "#             \"refit_batch_size\": max(1, int(0.05 * n)),\n",
    "#             \"test_thresh\": 0,\n",
    "#             \"learner\": \"causal_random_forest_learner\",\n",
    "#             \"n_sims\": 10}\n",
    "\n",
    "settings = {\"task_id\": 0,\n",
    "            \"dgp\": \"BenchTM\",\n",
    "            \"benchtm_path\": benchtm_path,\n",
    "            \"scenario\": 1,\n",
    "            \"n\": n,\n",
    "            \"outcome_transform\": \"aipw_intercept_fair\",\n",
    "            \"alpha\": alpha,\n",
    "            \"random_seed\": random_seed,\n",
    "            \"strategy\": \"Chiseling\",\n",
    "            \"alpha_spending_fn\": \"instantaneous\",\n",
    "            \"boundary_strategy\": \"random\",\n",
    "            \"n_burn_in\": 0.05,\n",
    "            \"reveal_batch_size\": max(1, int(0.05 * n)),\n",
    "            \"refit_batch_size\": max(1, int(0.05 * n)),\n",
    "            \"test_thresh\": 0,\n",
    "            \"learner\": \"causal_random_forest_learner\",\n",
    "            \"n_sims\": 10}\n",
    "\n",
    "# settings = {\"task_id\": 0,\n",
    "#             \"dgp\": \"BenchTM\",\n",
    "#             \"benchtm_path\": benchtm_path,\n",
    "#             \"scenario\": 1,\n",
    "#             \"n\": n,\n",
    "#             \"outcome_transform\": \"aipw_intercept_fair\",\n",
    "#             \"alpha\": alpha,\n",
    "#             \"random_seed\": random_seed,\n",
    "#             \"strategy\": \"TTestStrategy\",\n",
    "#             \"reveal_batch_size\": max(1, int(0.05 * n)),\n",
    "#             \"refit_batch_size\": max(1, int(0.05 * n)),\n",
    "#             \"test_thresh\": 0,\n",
    "#             \"learner\": \"causal_random_forest_learner\",\n",
    "#             \"n_sims\": 10}"
   ]
  },
  {
   "cell_type": "code",
   "execution_count": 17,
   "id": "de527e1a-f0b5-4faa-9b2a-33ec30d74284",
   "metadata": {},
   "outputs": [
    {
     "data": {
      "text/html": [
       "<div>\n",
       "<style scoped>\n",
       "    .dataframe tbody tr th:only-of-type {\n",
       "        vertical-align: middle;\n",
       "    }\n",
       "\n",
       "    .dataframe tbody tr th {\n",
       "        vertical-align: top;\n",
       "    }\n",
       "\n",
       "    .dataframe thead th {\n",
       "        text-align: right;\n",
       "    }\n",
       "</style>\n",
       "<table border=\"1\" class=\"dataframe\">\n",
       "  <thead>\n",
       "    <tr style=\"text-align: right;\">\n",
       "      <th></th>\n",
       "      <th>task_id</th>\n",
       "      <th>sim_id</th>\n",
       "      <th>rejected</th>\n",
       "      <th>region_mass</th>\n",
       "      <th>subgroup_mean</th>\n",
       "      <th>subgroup_utility</th>\n",
       "      <th>region_mass_se</th>\n",
       "      <th>subgroup_mean_se</th>\n",
       "      <th>subgroup_utility_se</th>\n",
       "    </tr>\n",
       "  </thead>\n",
       "  <tbody>\n",
       "    <tr>\n",
       "      <th>0</th>\n",
       "      <td>0</td>\n",
       "      <td>0</td>\n",
       "      <td>False</td>\n",
       "      <td>0.00000</td>\n",
       "      <td>NaN</td>\n",
       "      <td>0.000000</td>\n",
       "      <td>0.000000</td>\n",
       "      <td>NaN</td>\n",
       "      <td>0.000000</td>\n",
       "    </tr>\n",
       "    <tr>\n",
       "      <th>1</th>\n",
       "      <td>0</td>\n",
       "      <td>1</td>\n",
       "      <td>False</td>\n",
       "      <td>0.00000</td>\n",
       "      <td>NaN</td>\n",
       "      <td>0.000000</td>\n",
       "      <td>0.000000</td>\n",
       "      <td>NaN</td>\n",
       "      <td>0.000000</td>\n",
       "    </tr>\n",
       "    <tr>\n",
       "      <th>2</th>\n",
       "      <td>0</td>\n",
       "      <td>2</td>\n",
       "      <td>False</td>\n",
       "      <td>0.00000</td>\n",
       "      <td>NaN</td>\n",
       "      <td>0.000000</td>\n",
       "      <td>0.000000</td>\n",
       "      <td>NaN</td>\n",
       "      <td>0.000000</td>\n",
       "    </tr>\n",
       "    <tr>\n",
       "      <th>3</th>\n",
       "      <td>0</td>\n",
       "      <td>3</td>\n",
       "      <td>True</td>\n",
       "      <td>0.64363</td>\n",
       "      <td>0.21619</td>\n",
       "      <td>0.139147</td>\n",
       "      <td>0.001514</td>\n",
       "      <td>0.016103</td>\n",
       "      <td>0.010369</td>\n",
       "    </tr>\n",
       "    <tr>\n",
       "      <th>4</th>\n",
       "      <td>0</td>\n",
       "      <td>4</td>\n",
       "      <td>False</td>\n",
       "      <td>0.00000</td>\n",
       "      <td>NaN</td>\n",
       "      <td>0.000000</td>\n",
       "      <td>0.000000</td>\n",
       "      <td>NaN</td>\n",
       "      <td>0.000000</td>\n",
       "    </tr>\n",
       "  </tbody>\n",
       "</table>\n",
       "</div>"
      ],
      "text/plain": [
       "   task_id  sim_id  rejected  region_mass  subgroup_mean  subgroup_utility  \\\n",
       "0        0       0     False      0.00000            NaN          0.000000   \n",
       "1        0       1     False      0.00000            NaN          0.000000   \n",
       "2        0       2     False      0.00000            NaN          0.000000   \n",
       "3        0       3      True      0.64363        0.21619          0.139147   \n",
       "4        0       4     False      0.00000            NaN          0.000000   \n",
       "\n",
       "   region_mass_se  subgroup_mean_se  subgroup_utility_se  \n",
       "0        0.000000               NaN             0.000000  \n",
       "1        0.000000               NaN             0.000000  \n",
       "2        0.000000               NaN             0.000000  \n",
       "3        0.001514          0.016103             0.010369  \n",
       "4        0.000000               NaN             0.000000  "
      ]
     },
     "execution_count": 17,
     "metadata": {},
     "output_type": "execute_result"
    }
   ],
   "source": [
    "benchmark = Benchmark(settings)\n",
    "benchmark.simulate_batch()\n",
    "benchmark.simulation_results_df.head()"
   ]
  },
  {
   "cell_type": "code",
   "execution_count": 18,
   "id": "5b20877b-9471-4154-92b2-1e2c6f57f2df",
   "metadata": {},
   "outputs": [
    {
     "data": {
      "text/plain": [
       "np.float64(0.3)"
      ]
     },
     "execution_count": 18,
     "metadata": {},
     "output_type": "execute_result"
    }
   ],
   "source": [
    "benchmark.simulation_results_df.rejected.mean()"
   ]
  },
  {
   "cell_type": "code",
   "execution_count": null,
   "id": "400832ba-e61f-484c-8a1b-f6a10877ea82",
   "metadata": {},
   "outputs": [],
   "source": []
  }
 ],
 "metadata": {
  "kernelspec": {
   "display_name": "Python 3 (ipykernel)",
   "language": "python",
   "name": "python3"
  },
  "language_info": {
   "codemirror_mode": {
    "name": "ipython",
    "version": 3
   },
   "file_extension": ".py",
   "mimetype": "text/x-python",
   "name": "python",
   "nbconvert_exporter": "python",
   "pygments_lexer": "ipython3",
   "version": "3.12.9"
  }
 },
 "nbformat": 4,
 "nbformat_minor": 5
}
