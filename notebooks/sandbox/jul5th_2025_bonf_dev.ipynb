{
 "cells": [
  {
   "cell_type": "code",
   "execution_count": 54,
   "id": "25da44ee-d483-431e-9c6b-8dbebca342be",
   "metadata": {},
   "outputs": [
    {
     "name": "stdout",
     "output_type": "stream",
     "text": [
      "The autoreload extension is already loaded. To reload it, use:\n",
      "  %reload_ext autoreload\n"
     ]
    }
   ],
   "source": [
    "%load_ext autoreload\n",
    "%autoreload 2"
   ]
  },
  {
   "cell_type": "code",
   "execution_count": 55,
   "id": "975ae49d-ae65-47b3-b467-aa81adc3bf0d",
   "metadata": {},
   "outputs": [],
   "source": [
    "import numpy as np\n",
    "import scipy.stats\n",
    "import matplotlib.pyplot as plt\n",
    "\n",
    "import sys\n",
    "sys.path.append(\"../../../\")\n",
    "\n",
    "from chiseling.dgps.basic_binary_regression import BasicBinaryRegression\n",
    "from chiseling.source.learners.baselearners_binary import logreg_learner\n",
    "from chiseling.source.protocol.IRST import UnitRegistrar, IRSTBinary\n",
    "from chiseling.source.strategies.chiseling import Chiseling\n",
    "from chiseling.source.strategies.bonferroni_combiner import BonferroniCombiner\n",
    "\n",
    "from chiseling.benchmark.benchmark import Benchmark"
   ]
  },
  {
   "cell_type": "code",
   "execution_count": 56,
   "id": "5c340ff5-3961-4f9e-bf29-bbd75c56adb9",
   "metadata": {},
   "outputs": [],
   "source": [
    "# Hyperparameters\n",
    "d = 100\n",
    "s = 5\n",
    "rho = 0.2\n",
    "n = 5000\n",
    "theta = 0.6\n",
    "tau = 1.365\n",
    "\n",
    "test_thresh = 0.9\n",
    "alpha = 0.05\n",
    "alpha_min = 0\n",
    "\n",
    "random_seed = 26"
   ]
  },
  {
   "cell_type": "code",
   "execution_count": 57,
   "id": "935620f5-3000-4047-a310-d1f62e60a0bd",
   "metadata": {},
   "outputs": [],
   "source": [
    "strategy_settings = {\"reveal_batch_size\": max(1, int(n * 0.01)),\n",
    "                     \"refit_batch_size\": max(1, int(n * 0.05)),\n",
    "                     \"alpha_spending_fn\": \"uniform\",\n",
    "                     \"boundary_strategy\": \"margin\",\n",
    "                     \"n_min\": 1,\n",
    "                     \"n_burn_in\": 0.5,\n",
    "                     \"test_thresh\": test_thresh,\n",
    "                     \"learner\": logreg_learner,\n",
    "                     \"use_learner_weights\": False,\n",
    "                     \"binary\": True,\n",
    "                     \"alpha_min\": alpha_min}"
   ]
  },
  {
   "cell_type": "code",
   "execution_count": 58,
   "id": "6e45d553-3ac8-4e81-8324-6247ff4f2c56",
   "metadata": {},
   "outputs": [],
   "source": [
    "sampler = BasicBinaryRegression(d, s, rho, theta, tau, random_seed=random_seed)\n",
    "X, Y = sampler.sample(n)"
   ]
  },
  {
   "cell_type": "code",
   "execution_count": 59,
   "id": "bf1c6899-542c-4514-995f-890aa4d1ea7d",
   "metadata": {},
   "outputs": [],
   "source": [
    "# Run chiseling\n",
    "strategy = BonferroniCombiner(X=X,\n",
    "                              Y=Y,\n",
    "                              strategy=\"Chiseling\",\n",
    "                              strategy_settings=strategy_settings,\n",
    "                              alpha=alpha,\n",
    "                              splits=[0.2,0.5,0.8],\n",
    "                              random_seed=random_seed)\n",
    "strategy.run_strategy()"
   ]
  },
  {
   "cell_type": "code",
   "execution_count": 60,
   "id": "76c23876-2ac7-4d51-9dca-47261314018b",
   "metadata": {},
   "outputs": [
    {
     "data": {
      "text/plain": [
       "[True, True, True]"
      ]
     },
     "execution_count": 60,
     "metadata": {},
     "output_type": "execute_result"
    }
   ],
   "source": [
    "strategy.split_rejections"
   ]
  },
  {
   "cell_type": "code",
   "execution_count": 61,
   "id": "6ace774b-074e-4cbc-83ec-17f246645308",
   "metadata": {},
   "outputs": [
    {
     "data": {
      "text/plain": [
       "np.float64(0.8)"
      ]
     },
     "execution_count": 61,
     "metadata": {},
     "output_type": "execute_result"
    }
   ],
   "source": [
    "strategy.rejected_region_split"
   ]
  },
  {
   "cell_type": "code",
   "execution_count": 62,
   "id": "1046fede-5742-47d4-8cd9-24cfcb14d7bb",
   "metadata": {},
   "outputs": [
    {
     "data": {
      "text/plain": [
       "<chiseling.source.protocol.IRST.Region at 0x12fb574a0>"
      ]
     },
     "execution_count": 62,
     "metadata": {},
     "output_type": "execute_result"
    }
   ],
   "source": [
    "strategy.rejected_region"
   ]
  },
  {
   "cell_type": "code",
   "execution_count": 48,
   "id": "0dbb7cd1-d8d5-4f33-ad8e-4400bc61cec2",
   "metadata": {},
   "outputs": [],
   "source": [
    "import pandas as pd"
   ]
  },
  {
   "cell_type": "code",
   "execution_count": 49,
   "id": "bcba7d45-6f1b-4600-8922-e2a51acdbec8",
   "metadata": {},
   "outputs": [],
   "source": [
    "task_df = pd.read_csv(\"../../task_arrays/binary_regression.tasks.tsv\", sep=\"\\t\")"
   ]
  },
  {
   "cell_type": "code",
   "execution_count": 50,
   "id": "be7d957e-da39-4166-8a08-472695816ef1",
   "metadata": {},
   "outputs": [
    {
     "data": {
      "text/plain": [
       "{'dgp': 'BasicBinaryRegression',\n",
       " 'n': 5000,\n",
       " 'd': 100,\n",
       " 's': 5,\n",
       " 'rho': 0.2,\n",
       " 'theta': 0.6,\n",
       " 'tau': 1.365,\n",
       " 'alpha': 0.05,\n",
       " 'test_thresh': 0.9,\n",
       " 'learner': 'logreg_learner',\n",
       " 'binary': True,\n",
       " 'subgroup_size': 0.1,\n",
       " 'strategy': 'BonferroniCombiner',\n",
       " 'bonf_strategy': 'Chiseling',\n",
       " 'n_burn_in': 0.5,\n",
       " 'reveal_batch_prop': 0.01,\n",
       " 'refit_batch_prop': 0.05,\n",
       " 'n_min': 1.0,\n",
       " 'alpha_spending_fn': 'uniform',\n",
       " 'boundary_strategy': 'margin',\n",
       " 'alpha_min': 0.0,\n",
       " 'use_learner_weights': False,\n",
       " 'train_ratio': nan,\n",
       " 'reveal_batch_size': 50.0,\n",
       " 'refit_batch_size': 250.0,\n",
       " 'n_sims': 50,\n",
       " 'task_id': 7650,\n",
       " 'random_seed': 363733648}"
      ]
     },
     "execution_count": 50,
     "metadata": {},
     "output_type": "execute_result"
    }
   ],
   "source": [
    "task_df.iloc[0].to_dict()"
   ]
  },
  {
   "cell_type": "code",
   "execution_count": 51,
   "id": "5fba383a-46cd-44b0-897e-93487b69a410",
   "metadata": {},
   "outputs": [],
   "source": [
    "benchmark = Benchmark(task_df.iloc[0].to_dict())"
   ]
  },
  {
   "cell_type": "code",
   "execution_count": 52,
   "id": "c5e31b5d-45d9-428f-9a7c-31008f3fd930",
   "metadata": {
    "scrolled": true
   },
   "outputs": [],
   "source": [
    "benchmark.simulate_batch()"
   ]
  },
  {
   "cell_type": "code",
   "execution_count": 53,
   "id": "5237656b-dadd-48c3-a568-bc73e6fdb074",
   "metadata": {},
   "outputs": [
    {
     "data": {
      "text/plain": [
       "np.float64(0.16)"
      ]
     },
     "execution_count": 53,
     "metadata": {},
     "output_type": "execute_result"
    }
   ],
   "source": [
    "benchmark.simulation_results_df.rejected.mean()"
   ]
  },
  {
   "cell_type": "code",
   "execution_count": null,
   "id": "1888e1de-b7e1-4331-b0c5-fd407db84e57",
   "metadata": {},
   "outputs": [],
   "source": []
  },
  {
   "cell_type": "code",
   "execution_count": null,
   "id": "0a7a8741-27d0-4a1c-a938-372b2e3b871e",
   "metadata": {},
   "outputs": [],
   "source": []
  },
  {
   "cell_type": "code",
   "execution_count": null,
   "id": "686b00f5-c267-479f-a770-6e7a95248f8b",
   "metadata": {},
   "outputs": [],
   "source": []
  }
 ],
 "metadata": {
  "kernelspec": {
   "display_name": "Python 3 (ipykernel)",
   "language": "python",
   "name": "python3"
  },
  "language_info": {
   "codemirror_mode": {
    "name": "ipython",
    "version": 3
   },
   "file_extension": ".py",
   "mimetype": "text/x-python",
   "name": "python",
   "nbconvert_exporter": "python",
   "pygments_lexer": "ipython3",
   "version": "3.12.9"
  }
 },
 "nbformat": 4,
 "nbformat_minor": 5
}
