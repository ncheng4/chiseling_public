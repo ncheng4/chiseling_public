{
 "cells": [
  {
   "cell_type": "code",
   "execution_count": 1,
   "id": "25da44ee-d483-431e-9c6b-8dbebca342be",
   "metadata": {},
   "outputs": [],
   "source": [
    "%load_ext autoreload\n",
    "%autoreload 2"
   ]
  },
  {
   "cell_type": "code",
   "execution_count": 2,
   "id": "975ae49d-ae65-47b3-b467-aa81adc3bf0d",
   "metadata": {},
   "outputs": [],
   "source": [
    "import numpy as np\n",
    "import scipy.stats\n",
    "import matplotlib.pyplot as plt\n",
    "\n",
    "import sys\n",
    "sys.path.append(\"../../../\")\n",
    "\n",
    "from chiseling.dgps.basic_binary_regression import BasicBinaryRegression, search_for_target_specification_binary_regression\n",
    "from chiseling.source.learners.baselearners_binary import make_logregcv_learner\n",
    "from chiseling.source.protocol.IRST import UnitRegistrar, IRSTBinary\n",
    "from chiseling.source.strategies.alpha_spending_strategy import AlphaSpendingStrategy\n",
    "from chiseling.source.strategies.data_splitting_strategy import DataSplittingStrategy\n",
    "from chiseling.source.strategies.simul_data_splitting_strategy import SimulDataSplittingStrategy"
   ]
  },
  {
   "cell_type": "code",
   "execution_count": 3,
   "id": "243dd6e1-b3cb-42b8-9402-2d1115b5bcd3",
   "metadata": {},
   "outputs": [],
   "source": [
    "# Hyperparameters\n",
    "n = 3000\n",
    "d = 100\n",
    "s = 5\n",
    "rho = 0.25\n",
    "theta = 2\n",
    "\n",
    "mu = 0.9\n",
    "alpha = 0.05\n",
    "\n",
    "random_seed = 42"
   ]
  },
  {
   "cell_type": "code",
   "execution_count": 4,
   "id": "b4ed7b6c-11a3-442a-9a47-f8912d75115a",
   "metadata": {},
   "outputs": [
    {
     "name": "stdout",
     "output_type": "stream",
     "text": [
      "0.9563642393294414\n"
     ]
    }
   ],
   "source": [
    "tau = search_for_target_specification_binary_regression(d, s, rho, theta, mu, 0.3, random_seed=random_seed)\n",
    "print(tau)"
   ]
  },
  {
   "cell_type": "code",
   "execution_count": 5,
   "id": "ca87bdbf-8d3b-4268-b7a3-51f35565100b",
   "metadata": {},
   "outputs": [],
   "source": [
    "# Sample data\n",
    "sampler = BasicBinaryRegression(d, s, rho, theta, tau, random_seed=random_seed)\n",
    "X, Y = sampler.sample(n)\n",
    "pY1X = sampler.calculate_probs(X)"
   ]
  },
  {
   "cell_type": "code",
   "execution_count": 6,
   "id": "dfc79a8c-178f-4977-8e68-525ad3ad5c2b",
   "metadata": {},
   "outputs": [
    {
     "data": {
      "text/plain": [
       "(np.float64(0.0190926477941471),\n",
       " np.float64(0.30411),\n",
       " np.float64(0.9627820452933055),\n",
       " np.float64(0.00010421588924076496),\n",
       " np.float64(0.001454740897548426),\n",
       " np.float64(0.00016505379462710193))"
      ]
     },
     "execution_count": 6,
     "metadata": {},
     "output_type": "execute_result"
    }
   ],
   "source": [
    "sampler.get_optimal_region_metrics(mu)"
   ]
  },
  {
   "cell_type": "code",
   "execution_count": 7,
   "id": "961b0968-0eba-424c-8a4f-10f152d03424",
   "metadata": {},
   "outputs": [],
   "source": [
    "# Initialize protocol\n",
    "unit_reg = UnitRegistrar(random_seed)\n",
    "regX = unit_reg.register_units(X)\n",
    "protocol = IRSTBinary(regX, Y, test_thresh=mu, alpha=alpha)"
   ]
  },
  {
   "cell_type": "code",
   "execution_count": 8,
   "id": "20534651-e637-4bf2-a528-32861ae8ff73",
   "metadata": {},
   "outputs": [],
   "source": [
    "# Make random forest learner\n",
    "logregcv_learner = make_logregcv_learner(random_seed=random_seed)"
   ]
  },
  {
   "cell_type": "code",
   "execution_count": 9,
   "id": "44d7fa25-7bfd-43e1-876b-fb803966e69c",
   "metadata": {
    "scrolled": true
   },
   "outputs": [
    {
     "name": "stdout",
     "output_type": "stream",
     "text": [
      "METRICS = {'curr_sample_efficiency': 1.0, 'spent_alpha': np.float64(0.0), 'remaining_alpha': np.float64(0.05), 'n_shrink_revealed': 1645, 'n_left_in_region': 755, 'region_mass_estimate': np.float64(0.3145833333333333)}\n",
      "SUMMARY: rejected = True, spent_alpha = 0.050000000000000044, n_left_in_region = 755, region_mass-estimate = 0.3145833333333333\n"
     ]
    }
   ],
   "source": [
    "# Run chiseling\n",
    "strategy = AlphaSpendingStrategy(protocol=protocol,\n",
    "                                 test_thresh=mu,\n",
    "                                 learner=logregcv_learner,\n",
    "                                 n_burn_in=0.2,\n",
    "                                 batch_size=int(0.05 * n),\n",
    "                                 n_min=2,\n",
    "                                 alpha_min=0,\n",
    "                                 alpha_spending_fn='instantaneous',\n",
    "                                 tiebreak=False,\n",
    "                                 use_learner_weights=True,\n",
    "                                 skip_const_predictor=False,\n",
    "                                 random_seed=random_seed)\n",
    "\n",
    "strategy.run_strategy(verbose=True)"
   ]
  },
  {
   "cell_type": "code",
   "execution_count": 10,
   "id": "702ba380-ff60-41ea-a89d-72957bdd8819",
   "metadata": {},
   "outputs": [
    {
     "data": {
      "text/html": [
       "<div>\n",
       "<style scoped>\n",
       "    .dataframe tbody tr th:only-of-type {\n",
       "        vertical-align: middle;\n",
       "    }\n",
       "\n",
       "    .dataframe tbody tr th {\n",
       "        vertical-align: top;\n",
       "    }\n",
       "\n",
       "    .dataframe thead th {\n",
       "        text-align: right;\n",
       "    }\n",
       "</style>\n",
       "<table border=\"1\" class=\"dataframe\">\n",
       "  <thead>\n",
       "    <tr style=\"text-align: right;\">\n",
       "      <th></th>\n",
       "      <th>stage_number</th>\n",
       "      <th>test_stat</th>\n",
       "      <th>sample_size</th>\n",
       "      <th>alloc_alpha</th>\n",
       "      <th>remaining_alpha</th>\n",
       "      <th>crit_val</th>\n",
       "      <th>rejection</th>\n",
       "    </tr>\n",
       "  </thead>\n",
       "  <tbody>\n",
       "    <tr>\n",
       "      <th>0</th>\n",
       "      <td>-1</td>\n",
       "      <td>1895</td>\n",
       "      <td>3000</td>\n",
       "      <td>0.00</td>\n",
       "      <td>0.05</td>\n",
       "      <td>inf</td>\n",
       "      <td>False</td>\n",
       "    </tr>\n",
       "    <tr>\n",
       "      <th>1</th>\n",
       "      <td>0</td>\n",
       "      <td>1895</td>\n",
       "      <td>3000</td>\n",
       "      <td>0.00</td>\n",
       "      <td>0.05</td>\n",
       "      <td>inf</td>\n",
       "      <td>False</td>\n",
       "    </tr>\n",
       "    <tr>\n",
       "      <th>2</th>\n",
       "      <td>13</td>\n",
       "      <td>733</td>\n",
       "      <td>755</td>\n",
       "      <td>0.05</td>\n",
       "      <td>0.00</td>\n",
       "      <td>692.0</td>\n",
       "      <td>True</td>\n",
       "    </tr>\n",
       "  </tbody>\n",
       "</table>\n",
       "</div>"
      ],
      "text/plain": [
       "   stage_number  test_stat  sample_size  alloc_alpha  remaining_alpha  \\\n",
       "0            -1       1895         3000         0.00             0.05   \n",
       "1             0       1895         3000         0.00             0.05   \n",
       "2            13        733          755         0.05             0.00   \n",
       "\n",
       "   crit_val  rejection  \n",
       "0       inf      False  \n",
       "1       inf      False  \n",
       "2     692.0       True  "
      ]
     },
     "execution_count": 10,
     "metadata": {},
     "output_type": "execute_result"
    }
   ],
   "source": [
    "protocol.testing_history"
   ]
  },
  {
   "cell_type": "code",
   "execution_count": 11,
   "id": "5b0ed7f3-7767-41c2-bd56-6e51d7e6103c",
   "metadata": {},
   "outputs": [],
   "source": [
    "# Run data splitting\n",
    "datasplit = DataSplittingStrategy(X=X,\n",
    "                                  Y=Y,\n",
    "                                  train_ratio=0.2,\n",
    "                                  learner=logregcv_learner,\n",
    "                                  alpha=alpha,\n",
    "                                  test_thresh=mu,\n",
    "                                  binary=True,\n",
    "                                  n_min=1,\n",
    "                                  random_seed=random_seed)\n",
    "datasplit.run_strategy()"
   ]
  },
  {
   "cell_type": "code",
   "execution_count": 12,
   "id": "4332a469-93a2-4021-86f1-42f376218307",
   "metadata": {},
   "outputs": [
    {
     "data": {
      "text/plain": [
       "np.True_"
      ]
     },
     "execution_count": 12,
     "metadata": {},
     "output_type": "execute_result"
    }
   ],
   "source": [
    "# Data split rejection\n",
    "datasplit.rejected"
   ]
  },
  {
   "cell_type": "code",
   "execution_count": 13,
   "id": "6e225c14-c5ce-444b-9d49-0d209087680f",
   "metadata": {},
   "outputs": [
    {
     "data": {
      "text/plain": [
       "(np.float64(0.018631077207550906),\n",
       " np.float64(0.29968),\n",
       " np.float64(0.9621699052574443),\n",
       " np.float64(0.00010550513145491585),\n",
       " np.float64(0.00144869561192129),\n",
       " np.float64(0.00018336460904315872))"
      ]
     },
     "execution_count": 13,
     "metadata": {},
     "output_type": "execute_result"
    }
   ],
   "source": [
    "# Chiseling region metrics\n",
    "sampler.estimate_region_metrics(mu, protocol.rejected_region)"
   ]
  },
  {
   "cell_type": "code",
   "execution_count": 14,
   "id": "e84af2a3-e7ff-48e5-a168-73bafa5e62a8",
   "metadata": {},
   "outputs": [
    {
     "data": {
      "text/plain": [
       "(np.float64(0.01105204541986031),\n",
       " np.float64(0.12259),\n",
       " np.float64(0.9901545429468988),\n",
       " np.float64(9.379430026336653e-05),\n",
       " np.float64(0.0010371195297553702),\n",
       " np.float64(6.045568293229058e-05))"
      ]
     },
     "execution_count": 14,
     "metadata": {},
     "output_type": "execute_result"
    }
   ],
   "source": [
    "# Data region metrics\n",
    "sampler.estimate_region_metrics(mu, datasplit.region)"
   ]
  },
  {
   "cell_type": "code",
   "execution_count": 15,
   "id": "037061af-0a8e-4c7e-b7eb-d60ce3f8a84d",
   "metadata": {},
   "outputs": [],
   "source": [
    "# Run simultaneous data splitting\n",
    "datasplit = SimulDataSplittingStrategy(X=X,\n",
    "                                       Y=Y,\n",
    "                                       pY1X=pY1X,\n",
    "                                       train_ratio=0.2,\n",
    "                                       learner=logregcv_learner,\n",
    "                                       alpha=alpha,\n",
    "                                       test_thresh=mu,\n",
    "                                       n_min=1,\n",
    "                                       random_seed=random_seed)\n",
    "datasplit.run_strategy()"
   ]
  },
  {
   "cell_type": "code",
   "execution_count": 16,
   "id": "47d55e75-8a6e-49fd-a193-158eb3ebb161",
   "metadata": {},
   "outputs": [
    {
     "data": {
      "text/plain": [
       "array([0.98734177, 0.99029706, 0.98997144, 0.98949353, 0.98881728,\n",
       "       0.99416261, 0.99422767, 0.99432462, 0.99448631, 0.9947453 ])"
      ]
     },
     "execution_count": 16,
     "metadata": {},
     "output_type": "execute_result"
    }
   ],
   "source": [
    "datasplit.lcb"
   ]
  },
  {
   "cell_type": "code",
   "execution_count": 17,
   "id": "95a5a5d5-63b1-4f2e-a16b-0b034903055e",
   "metadata": {},
   "outputs": [
    {
     "data": {
      "text/plain": [
       "True"
      ]
     },
     "execution_count": 17,
     "metadata": {},
     "output_type": "execute_result"
    }
   ],
   "source": [
    "# Simul split rejection\n",
    "datasplit.rejected"
   ]
  },
  {
   "cell_type": "code",
   "execution_count": 18,
   "id": "82c8b992-e0c8-4970-bd2b-46236e18443b",
   "metadata": {},
   "outputs": [
    {
     "data": {
      "text/plain": [
       "(np.float64(0.011201043879296692),\n",
       " np.float64(0.12434),\n",
       " np.float64(0.990083994525468),\n",
       " np.float64(9.428875580425302e-05),\n",
       " np.float64(0.0010434537095626235),\n",
       " np.float64(5.94574521599615e-05))"
      ]
     },
     "execution_count": 18,
     "metadata": {},
     "output_type": "execute_result"
    }
   ],
   "source": [
    "# Simul split region metrics\n",
    "sampler.estimate_region_metrics(mu, datasplit.region)"
   ]
  },
  {
   "cell_type": "code",
   "execution_count": null,
   "id": "09903e5a-21ce-4108-85ce-8280b194643c",
   "metadata": {},
   "outputs": [],
   "source": []
  }
 ],
 "metadata": {
  "kernelspec": {
   "display_name": "Python 3 (ipykernel)",
   "language": "python",
   "name": "python3"
  },
  "language_info": {
   "codemirror_mode": {
    "name": "ipython",
    "version": 3
   },
   "file_extension": ".py",
   "mimetype": "text/x-python",
   "name": "python",
   "nbconvert_exporter": "python",
   "pygments_lexer": "ipython3",
   "version": "3.12.9"
  }
 },
 "nbformat": 4,
 "nbformat_minor": 5
}
