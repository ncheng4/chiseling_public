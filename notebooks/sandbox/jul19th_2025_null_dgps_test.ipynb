{
 "cells": [
  {
   "cell_type": "code",
   "execution_count": 15,
   "id": "c4671c3d-9564-463d-a3b9-d4cf3b94d452",
   "metadata": {},
   "outputs": [
    {
     "name": "stdout",
     "output_type": "stream",
     "text": [
      "The autoreload extension is already loaded. To reload it, use:\n",
      "  %reload_ext autoreload\n"
     ]
    }
   ],
   "source": [
    "%load_ext autoreload\n",
    "%autoreload 2"
   ]
  },
  {
   "cell_type": "code",
   "execution_count": 20,
   "id": "ac8c63f1-253c-4ef0-a5c2-b7a642bb596e",
   "metadata": {},
   "outputs": [],
   "source": [
    "import numpy as np\n",
    "import scipy.stats\n",
    "\n",
    "import sys\n",
    "sys.path.append(\"../../../\")\n",
    "\n",
    "from chiseling.benchmark.benchmark import Benchmark"
   ]
  },
  {
   "cell_type": "markdown",
   "id": "1232724f-4d3e-4eb4-b9d7-6d171f92ab2d",
   "metadata": {},
   "source": [
    "### Test binary"
   ]
  },
  {
   "cell_type": "code",
   "execution_count": 29,
   "id": "0047b38c-a649-417c-bd14-79348700f4c4",
   "metadata": {},
   "outputs": [],
   "source": [
    "settings = {'dgp': 'NullDGPs',\n",
    "            'n': 2000,\n",
    "            'd': 50,\n",
    "            'binary': True,\n",
    "            'cov_type': 'expo',\n",
    "            'err_type': 'expo',\n",
    "            'SPECIAL_TOKEN_NULLDGPS': True,\n",
    "            'SPECIAL_TOKEN_NULLDGPS_TRANSFORM_TYPE': None,\n",
    "            'alpha': 0.05,\n",
    "            'test_thresh': 0.5,\n",
    "            'learner': 'mlp_regressor_learner',\n",
    "            'strategy': 'Chiseling',\n",
    "            'n_burn_in': 0.1,\n",
    "            'margin_width': 1,\n",
    "            'n_min': 30,\n",
    "            'shrink_to_boundary': False,\n",
    "            'n_sims': 2,\n",
    "            'task_id': 0,\n",
    "            'random_seed': 42}"
   ]
  },
  {
   "cell_type": "code",
   "execution_count": 30,
   "id": "fbb307dd-64ea-4c2e-be73-1c83f63a95d1",
   "metadata": {},
   "outputs": [],
   "source": [
    "benchmark = Benchmark(settings)"
   ]
  },
  {
   "cell_type": "code",
   "execution_count": 31,
   "id": "26138078-0555-4401-b60b-ad4fd975e841",
   "metadata": {},
   "outputs": [],
   "source": [
    "benchmark.simulate_batch()"
   ]
  },
  {
   "cell_type": "code",
   "execution_count": 32,
   "id": "70be1d8c-c24c-4013-8bd0-c10d53deb19e",
   "metadata": {},
   "outputs": [
    {
     "data": {
      "text/plain": [
       "np.float64(0.0)"
      ]
     },
     "execution_count": 32,
     "metadata": {},
     "output_type": "execute_result"
    }
   ],
   "source": [
    "benchmark.simulation_results_df.rejected.mean()"
   ]
  },
  {
   "cell_type": "markdown",
   "id": "2c9aaff1-c74e-4fc9-95a8-d10d63eeb5e2",
   "metadata": {},
   "source": [
    "### Test IPW"
   ]
  },
  {
   "cell_type": "code",
   "execution_count": 7,
   "id": "aa718d3f-7edf-4224-b006-c219ba614482",
   "metadata": {},
   "outputs": [],
   "source": [
    "settings = {'dgp': 'NullDGPs',\n",
    "            'n': 100,\n",
    "            'd': 50,\n",
    "            'binary': False,\n",
    "            'cov_type': 'corrnorm',\n",
    "            'err_type': 't5',\n",
    "            'SPECIAL_TOKEN_NULLDGPS': True,\n",
    "            'SPECIAL_TOKEN_NULLDGPS_TRANSFORM_TYPE': 'ipw',\n",
    "            'alpha': 0.05,\n",
    "            'test_thresh': 0,\n",
    "            'learner': 'ridgecv_learner',\n",
    "            'strategy': 'Chiseling',\n",
    "            'n_burn_in': 0.1,\n",
    "            'margin_width': 1,\n",
    "            'n_min': 30,\n",
    "            'shrink_to_boundary': False,\n",
    "            'n_sims': 100,\n",
    "            'task_id': 0,\n",
    "            'random_seed': 42}"
   ]
  },
  {
   "cell_type": "code",
   "execution_count": 8,
   "id": "a757ae58-790a-4448-b98a-3b42df858ab8",
   "metadata": {},
   "outputs": [],
   "source": [
    "benchmark = Benchmark(settings)"
   ]
  },
  {
   "cell_type": "code",
   "execution_count": 9,
   "id": "1d587528-3e66-419d-aea2-aa2de8c7f5d8",
   "metadata": {},
   "outputs": [],
   "source": [
    "benchmark.simulate_batch()"
   ]
  },
  {
   "cell_type": "code",
   "execution_count": 10,
   "id": "d1a18d4c-17c3-4c58-a077-8a06460c30c9",
   "metadata": {},
   "outputs": [
    {
     "data": {
      "text/plain": [
       "np.float64(0.08)"
      ]
     },
     "execution_count": 10,
     "metadata": {},
     "output_type": "execute_result"
    }
   ],
   "source": [
    "benchmark.simulation_results_df.rejected.mean()"
   ]
  },
  {
   "cell_type": "markdown",
   "id": "e7e7ce73-e1d1-4297-bffb-523c647e8b0c",
   "metadata": {},
   "source": [
    "### Test AIPW"
   ]
  },
  {
   "cell_type": "code",
   "execution_count": 11,
   "id": "c1256aeb-e20e-4418-9fa2-d6e7d45bd317",
   "metadata": {},
   "outputs": [],
   "source": [
    "settings = {'dgp': 'NullDGPs',\n",
    "            'n': 100,\n",
    "            'd': 50,\n",
    "            'binary': False,\n",
    "            'cov_type': 'binary',\n",
    "            'err_type': 't5',\n",
    "            'SPECIAL_TOKEN_NULLDGPS': True,\n",
    "            'SPECIAL_TOKEN_NULLDGPS_TRANSFORM_TYPE': 'aipw',\n",
    "            'alpha': 0.05,\n",
    "            'test_thresh': 0,\n",
    "            'learner': 'ridgecv_learner',\n",
    "            'strategy': 'Chiseling',\n",
    "            'n_burn_in': 0.1,\n",
    "            'margin_width': 1,\n",
    "            'n_min': 30,\n",
    "            'shrink_to_boundary': False,\n",
    "            'n_sims': 100,\n",
    "            'task_id': 0,\n",
    "            'random_seed': 42}"
   ]
  },
  {
   "cell_type": "code",
   "execution_count": 12,
   "id": "8bd5620d-d068-40ed-81ff-6f83298b7d97",
   "metadata": {},
   "outputs": [],
   "source": [
    "benchmark = Benchmark(settings)"
   ]
  },
  {
   "cell_type": "code",
   "execution_count": 13,
   "id": "ddf4f6b0-6b74-4cec-8395-fa9f853f4fb5",
   "metadata": {},
   "outputs": [],
   "source": [
    "benchmark.simulate_batch()"
   ]
  },
  {
   "cell_type": "code",
   "execution_count": 14,
   "id": "249c270b-fc44-4e87-bf6f-f70b3551dbff",
   "metadata": {},
   "outputs": [
    {
     "data": {
      "text/plain": [
       "np.float64(0.05)"
      ]
     },
     "execution_count": 14,
     "metadata": {},
     "output_type": "execute_result"
    }
   ],
   "source": [
    "benchmark.simulation_results_df.rejected.mean()"
   ]
  },
  {
   "cell_type": "code",
   "execution_count": null,
   "id": "b22e3321-bc5b-4300-a602-b4a78dfe1efe",
   "metadata": {},
   "outputs": [],
   "source": []
  }
 ],
 "metadata": {
  "kernelspec": {
   "display_name": "Python 3 (ipykernel)",
   "language": "python",
   "name": "python3"
  },
  "language_info": {
   "codemirror_mode": {
    "name": "ipython",
    "version": 3
   },
   "file_extension": ".py",
   "mimetype": "text/x-python",
   "name": "python",
   "nbconvert_exporter": "python",
   "pygments_lexer": "ipython3",
   "version": "3.12.9"
  }
 },
 "nbformat": 4,
 "nbformat_minor": 5
}
