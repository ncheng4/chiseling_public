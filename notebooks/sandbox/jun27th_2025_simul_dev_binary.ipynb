{
 "cells": [
  {
   "cell_type": "code",
   "execution_count": 1,
   "id": "c4671c3d-9564-463d-a3b9-d4cf3b94d452",
   "metadata": {},
   "outputs": [],
   "source": [
    "%load_ext autoreload\n",
    "%autoreload 2"
   ]
  },
  {
   "cell_type": "code",
   "execution_count": 2,
   "id": "ac8c63f1-253c-4ef0-a5c2-b7a642bb596e",
   "metadata": {},
   "outputs": [],
   "source": [
    "import numpy as np\n",
    "import scipy.stats\n",
    "\n",
    "import sys\n",
    "sys.path.append(\"../../../\")\n",
    "\n",
    "from chiseling.dgps.basic_binary_regression import BasicBinaryRegression\n",
    "from chiseling.source.learners.baselearners_binary import logreg_learner, make_logregcv_learner\n",
    "from chiseling.source.strategies.simul_data_splitting_strategy import SimulDataSplittingStrategy\n",
    "from chiseling.source.strategies.data_splitting_strategy import DataSplittingStrategy"
   ]
  },
  {
   "cell_type": "code",
   "execution_count": 3,
   "id": "f12e2f26-7473-4e94-974e-210185688604",
   "metadata": {},
   "outputs": [],
   "source": [
    "# Hyperparameters\n",
    "n = 500\n",
    "d = 10\n",
    "s = 5\n",
    "rho = 0.2\n",
    "theta = 0\n",
    "tau = 0\n",
    "\n",
    "test_thresh = 0.5\n",
    "\n",
    "alpha = 0.05\n",
    "\n",
    "random_seed = 42"
   ]
  },
  {
   "cell_type": "code",
   "execution_count": 4,
   "id": "bceabd59-0f41-494f-8c86-c5ae431ef101",
   "metadata": {},
   "outputs": [],
   "source": [
    "# logregcv_learner = make_logregcv_learner()\n",
    "logregcv_learner = logreg_learner"
   ]
  },
  {
   "cell_type": "code",
   "execution_count": 5,
   "id": "456fd559-314b-48a4-9894-6479aaabbe3b",
   "metadata": {},
   "outputs": [],
   "source": [
    "# Sample data\n",
    "sampler = BasicBinaryRegression(d, s, rho, theta, tau, random_seed=random_seed)\n",
    "X, Y = sampler.sample(n)\n",
    "pY1X = sampler.calculate_probs(X)"
   ]
  },
  {
   "cell_type": "code",
   "execution_count": 6,
   "id": "8997531b-a9e8-42f3-9061-8c7cbbe0ca77",
   "metadata": {},
   "outputs": [],
   "source": [
    "# Run data splitting\n",
    "simul_datasplit = SimulDataSplittingStrategy(X=X,\n",
    "                                             Y=Y,\n",
    "                                             pY1X=pY1X,\n",
    "                                             train_ratio=0.2,\n",
    "                                             learner=logregcv_learner,\n",
    "                                             alpha=alpha,\n",
    "                                             test_thresh=test_thresh,\n",
    "                                             random_seed=random_seed)\n",
    "\n",
    "simul_datasplit.run_strategy()"
   ]
  },
  {
   "cell_type": "code",
   "execution_count": 7,
   "id": "0a0bbd17-c79c-439e-aba6-5baad3ab43dc",
   "metadata": {},
   "outputs": [
    {
     "data": {
      "text/plain": [
       "False"
      ]
     },
     "execution_count": 7,
     "metadata": {},
     "output_type": "execute_result"
    }
   ],
   "source": [
    "# Data split rejection\n",
    "simul_datasplit.rejected"
   ]
  },
  {
   "cell_type": "code",
   "execution_count": 8,
   "id": "13f94fc1-d53a-49ac-9cf0-e4965dc7f79e",
   "metadata": {},
   "outputs": [
    {
     "data": {
      "text/plain": [
       "(0, 0, nan, 0, 0, nan)"
      ]
     },
     "execution_count": 8,
     "metadata": {},
     "output_type": "execute_result"
    }
   ],
   "source": [
    "# Chiseling region metrics\n",
    "sampler.estimate_region_metrics(test_thresh, simul_datasplit.region)"
   ]
  },
  {
   "cell_type": "code",
   "execution_count": 9,
   "id": "9a330656-6063-4053-a9c3-bd54fa11ac4a",
   "metadata": {},
   "outputs": [
    {
     "data": {
      "text/plain": [
       "array([0.5       , 0.51496306, 0.52680911, 0.54220859, 0.55467855,\n",
       "       0.57790781, 0.58900664])"
      ]
     },
     "execution_count": 9,
     "metadata": {},
     "output_type": "execute_result"
    }
   ],
   "source": [
    "# Inspect cutoffs\n",
    "simul_datasplit.test_cutoffs"
   ]
  },
  {
   "cell_type": "code",
   "execution_count": 10,
   "id": "85ee70ce-2d40-4a9d-8a2b-949b74688941",
   "metadata": {},
   "outputs": [
    {
     "data": {
      "text/plain": [
       "array([0.44908989, 0.47172674, 0.47629735, 0.47266549, 0.43695448,\n",
       "       0.44022503, 0.46243744])"
      ]
     },
     "execution_count": 10,
     "metadata": {},
     "output_type": "execute_result"
    }
   ],
   "source": [
    "# Inspect LCB\n",
    "simul_datasplit.lcb"
   ]
  },
  {
   "cell_type": "markdown",
   "id": "b4f64981-fb04-48bb-9590-7f198dae6442",
   "metadata": {},
   "source": [
    "### Check coverage"
   ]
  },
  {
   "cell_type": "code",
   "execution_count": 11,
   "id": "21d1e36c-de3a-434f-951a-b8e362dad89c",
   "metadata": {},
   "outputs": [],
   "source": [
    "n_sims = 2000"
   ]
  },
  {
   "cell_type": "code",
   "execution_count": 12,
   "id": "54a69e75-ad93-4147-8439-8177674ff30e",
   "metadata": {},
   "outputs": [],
   "source": [
    "all_rejections = []\n",
    "for _ in range(n_sims):\n",
    "    # Sample data\n",
    "    X, Y = sampler.sample(n)\n",
    "    pY1X = sampler.calculate_probs(X)\n",
    "    # Run data splitting\n",
    "    simul_datasplit = SimulDataSplittingStrategy(X=X,\n",
    "                                                 Y=Y,\n",
    "                                                 pY1X=pY1X,\n",
    "                                                 train_ratio=0.2,\n",
    "                                                 learner=logregcv_learner,\n",
    "                                                 alpha=alpha,\n",
    "                                                 test_thresh=test_thresh,\n",
    "                                                 random_seed=random_seed)\n",
    "    \n",
    "    simul_datasplit.run_strategy()\n",
    "    # Data split rejection\n",
    "    all_rejections.append(simul_datasplit.rejected)\n",
    "all_rejections = np.array(all_rejections)"
   ]
  },
  {
   "cell_type": "code",
   "execution_count": 13,
   "id": "2c4ec7d0-e1be-487f-9498-9a9056ae1cbb",
   "metadata": {},
   "outputs": [
    {
     "data": {
      "text/plain": [
       "(np.float64(0.0535), np.float64(0.005031786462082824))"
      ]
     },
     "execution_count": 13,
     "metadata": {},
     "output_type": "execute_result"
    }
   ],
   "source": [
    "all_rejections.mean(), all_rejections.std() / np.sqrt(n_sims)"
   ]
  },
  {
   "cell_type": "code",
   "execution_count": 14,
   "id": "83772a54-d660-49d2-b00c-91463574b324",
   "metadata": {},
   "outputs": [
    {
     "data": {
      "text/plain": [
       "np.float64(0.04343642707583435)"
      ]
     },
     "execution_count": 14,
     "metadata": {},
     "output_type": "execute_result"
    }
   ],
   "source": [
    "all_rejections.mean() - 2 * (all_rejections.std() / np.sqrt(n_sims))"
   ]
  },
  {
   "cell_type": "markdown",
   "id": "3ef74b10-6182-4bad-867e-3ff062e54a13",
   "metadata": {},
   "source": [
    "Check coverage of data splitting, binary randomized"
   ]
  },
  {
   "cell_type": "code",
   "execution_count": 15,
   "id": "29125514-31ab-48a9-b372-bd85df3aaf05",
   "metadata": {},
   "outputs": [],
   "source": [
    "n_sims = 2000"
   ]
  },
  {
   "cell_type": "code",
   "execution_count": 16,
   "id": "2810a602-f19e-40e5-99ec-d7cee9628a06",
   "metadata": {},
   "outputs": [],
   "source": [
    "all_rejections = []\n",
    "for _ in range(n_sims):\n",
    "    # Sample data\n",
    "    X, Y = sampler.sample(n)\n",
    "    # Run data splitting\n",
    "    simul_datasplit = DataSplittingStrategy(X=X,\n",
    "                                            Y=Y,\n",
    "                                            train_ratio=0.2,\n",
    "                                            learner=logregcv_learner,\n",
    "                                            alpha=alpha,\n",
    "                                            test_thresh=test_thresh,\n",
    "                                            binary=True,\n",
    "                                            randomize=True,\n",
    "                                            random_seed=random_seed)\n",
    "    \n",
    "    simul_datasplit.run_strategy()\n",
    "    # Data split rejection\n",
    "    all_rejections.append(simul_datasplit.rejected)\n",
    "all_rejections = np.array(all_rejections)"
   ]
  },
  {
   "cell_type": "code",
   "execution_count": 17,
   "id": "9fe1b94d-b91c-4433-893d-3967de77e3d4",
   "metadata": {},
   "outputs": [
    {
     "data": {
      "text/plain": [
       "(np.float64(0.042), np.float64(0.004485309353879618))"
      ]
     },
     "execution_count": 17,
     "metadata": {},
     "output_type": "execute_result"
    }
   ],
   "source": [
    "all_rejections.mean(), all_rejections.std() / np.sqrt(n_sims)"
   ]
  },
  {
   "cell_type": "code",
   "execution_count": 18,
   "id": "22819dcd-2293-403f-88b1-a6e2fe8e8e0a",
   "metadata": {},
   "outputs": [
    {
     "data": {
      "text/plain": [
       "np.float64(0.03302938129224077)"
      ]
     },
     "execution_count": 18,
     "metadata": {},
     "output_type": "execute_result"
    }
   ],
   "source": [
    "all_rejections.mean() - 2 * (all_rejections.std() / np.sqrt(n_sims))"
   ]
  },
  {
   "cell_type": "code",
   "execution_count": 19,
   "id": "6b12b722-7f3a-422a-a907-76e689d67689",
   "metadata": {},
   "outputs": [
    {
     "data": {
      "text/plain": [
       "np.float64(0.050970618707759235)"
      ]
     },
     "execution_count": 19,
     "metadata": {},
     "output_type": "execute_result"
    }
   ],
   "source": [
    "all_rejections.mean() + 2 * (all_rejections.std() / np.sqrt(n_sims))"
   ]
  },
  {
   "cell_type": "code",
   "execution_count": null,
   "id": "c7a6d29a-7360-4448-a9cc-e89c09ddc8ee",
   "metadata": {},
   "outputs": [],
   "source": []
  }
 ],
 "metadata": {
  "kernelspec": {
   "display_name": "Python 3 (ipykernel)",
   "language": "python",
   "name": "python3"
  },
  "language_info": {
   "codemirror_mode": {
    "name": "ipython",
    "version": 3
   },
   "file_extension": ".py",
   "mimetype": "text/x-python",
   "name": "python",
   "nbconvert_exporter": "python",
   "pygments_lexer": "ipython3",
   "version": "3.12.9"
  }
 },
 "nbformat": 4,
 "nbformat_minor": 5
}
