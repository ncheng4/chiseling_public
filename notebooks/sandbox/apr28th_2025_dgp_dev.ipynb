{
 "cells": [
  {
   "cell_type": "code",
   "execution_count": 1,
   "id": "25da44ee-d483-431e-9c6b-8dbebca342be",
   "metadata": {},
   "outputs": [],
   "source": [
    "%load_ext autoreload\n",
    "%autoreload 2"
   ]
  },
  {
   "cell_type": "code",
   "execution_count": 2,
   "id": "975ae49d-ae65-47b3-b467-aa81adc3bf0d",
   "metadata": {},
   "outputs": [],
   "source": [
    "import numpy as np\n",
    "import scipy.stats\n",
    "import matplotlib.pyplot as plt\n",
    "\n",
    "import sys\n",
    "sys.path.append(\"../../../\")\n",
    "\n",
    "from chiseling.dgps.binary_design_rct import BinaryDesignRCT, search_for_target_specification_binary_design_rct\n",
    "from chiseling.source.learners.baselearners_general import make_lassocv_learner, make_elasticnetcv_learner, make_random_forest_learner\n",
    "from chiseling.source.protocol.IRST import UnitRegistrar, IRST\n",
    "from chiseling.source.strategies.alpha_spending_strategy import AlphaSpendingStrategy\n",
    "from chiseling.source.strategies.data_splitting_strategy import DataSplittingStrategy"
   ]
  },
  {
   "cell_type": "code",
   "execution_count": 3,
   "id": "243dd6e1-b3cb-42b8-9402-2d1115b5bcd3",
   "metadata": {},
   "outputs": [],
   "source": [
    "# Hyperparameters\n",
    "n = 5000\n",
    "d = 150\n",
    "s = 15\n",
    "target_size = 0.1\n",
    "amplifier = 5\n",
    "theta = 0.2 * amplifier\n",
    "tau = -1 * amplifier\n",
    "rho = 0.5\n",
    "\n",
    "alpha = 0.05\n",
    "\n",
    "random_seed = 42"
   ]
  },
  {
   "cell_type": "code",
   "execution_count": 4,
   "id": "609a55ef-e235-40d0-ae24-7861f5e79444",
   "metadata": {},
   "outputs": [],
   "source": [
    "p = search_for_target_specification_binary_design_rct(d, s, rho, theta, tau, target_size, np.random.RandomState(random_seed))"
   ]
  },
  {
   "cell_type": "code",
   "execution_count": 5,
   "id": "ca87bdbf-8d3b-4268-b7a3-51f35565100b",
   "metadata": {},
   "outputs": [],
   "source": [
    "# Sample data\n",
    "sampler = BinaryDesignRCT(d, s, p, rho, theta, tau, ipw_transform=True, random_seed=random_seed)\n",
    "X, Y = sampler.sample(n)"
   ]
  },
  {
   "cell_type": "code",
   "execution_count": 6,
   "id": "1fa04528-b4ee-4415-8bc8-d3f3823da4cc",
   "metadata": {},
   "outputs": [
    {
     "data": {
      "image/png": "[encoded data removed]",
      "text/plain": [
       "<Figure size 640x480 with 1 Axes>"
      ]
     },
     "metadata": {},
     "output_type": "display_data"
    }
   ],
   "source": [
    "plt.hist(Y, bins=50)\n",
    "plt.show()"
   ]
  },
  {
   "cell_type": "code",
   "execution_count": 7,
   "id": "dfc79a8c-178f-4977-8e68-525ad3ad5c2b",
   "metadata": {},
   "outputs": [
    {
     "data": {
      "text/plain": [
       "(np.float64(0.1893),\n",
       " np.float64(0.09976),\n",
       " np.float64(1.8975541299117884),\n",
       " np.float64(0.0021418345174172536),\n",
       " np.float64(0.0009476705250243884),\n",
       " np.float64(0.011662981624640334))"
      ]
     },
     "execution_count": 7,
     "metadata": {},
     "output_type": "execute_result"
    }
   ],
   "source": [
    "sampler.get_optimal_region_metrics()"
   ]
  },
  {
   "cell_type": "code",
   "execution_count": 8,
   "id": "961b0968-0eba-424c-8a4f-10f152d03424",
   "metadata": {},
   "outputs": [],
   "source": [
    "# Initialize protocol\n",
    "unit_reg = UnitRegistrar(random_seed)\n",
    "regX = unit_reg.register_units(X)\n",
    "protocol = IRST(regX, Y, alpha=alpha)"
   ]
  },
  {
   "cell_type": "code",
   "execution_count": 9,
   "id": "20534651-e637-4bf2-a528-32861ae8ff73",
   "metadata": {},
   "outputs": [],
   "source": [
    "# Make LassoCV learner\n",
    "lassocv_learner = make_lassocv_learner(random_seed=random_seed)"
   ]
  },
  {
   "cell_type": "code",
   "execution_count": 10,
   "id": "44d7fa25-7bfd-43e1-876b-fb803966e69c",
   "metadata": {
    "scrolled": true
   },
   "outputs": [
    {
     "name": "stdout",
     "output_type": "stream",
     "text": [
      "METRICS = {'curr_sample_efficiency': 1.0, 'spent_alpha': np.float64(0.0), 'remaining_alpha': np.float64(0.05), 'n_shrink_revealed': 3537, 'n_left_in_region': 463, 'region_mass_estimate': np.float64(0.11574999999999999)}\n",
      "SUMMARY: rejected = True, spent_alpha = 0.010000000000000009, n_left_in_region = 463, region_mass-estimate = 0.11574999999999999\n"
     ]
    }
   ],
   "source": [
    "# Run chiseling\n",
    "strategy = AlphaSpendingStrategy(protocol=protocol,\n",
    "                                 test_thresh=0,\n",
    "                                 learner=lassocv_learner,\n",
    "                                 n_burn_in=0.2,\n",
    "                                 batch_size=int(0.05 * n),\n",
    "                                 n_min=30,\n",
    "                                 alpha_min=1e-3,\n",
    "                                 alpha_spending_fn='uniform',\n",
    "                                 tiebreak=False,\n",
    "                                 use_learner_weights=True,\n",
    "                                 skip_const_predictor=False,\n",
    "                                 random_seed=random_seed)\n",
    "\n",
    "strategy.run_strategy(verbose=True)"
   ]
  },
  {
   "cell_type": "code",
   "execution_count": 11,
   "id": "702ba380-ff60-41ea-a89d-72957bdd8819",
   "metadata": {},
   "outputs": [
    {
     "data": {
      "text/html": [
       "<div>\n",
       "<style scoped>\n",
       "    .dataframe tbody tr th:only-of-type {\n",
       "        vertical-align: middle;\n",
       "    }\n",
       "\n",
       "    .dataframe tbody tr th {\n",
       "        vertical-align: top;\n",
       "    }\n",
       "\n",
       "    .dataframe thead th {\n",
       "        text-align: right;\n",
       "    }\n",
       "</style>\n",
       "<table border=\"1\" class=\"dataframe\">\n",
       "  <thead>\n",
       "    <tr style=\"text-align: right;\">\n",
       "      <th></th>\n",
       "      <th>stage_number</th>\n",
       "      <th>mean</th>\n",
       "      <th>variance</th>\n",
       "      <th>sample_size</th>\n",
       "      <th>test_stat</th>\n",
       "      <th>alloc_alpha</th>\n",
       "      <th>remaining_alpha</th>\n",
       "      <th>crit_val</th>\n",
       "      <th>rejection</th>\n",
       "    </tr>\n",
       "  </thead>\n",
       "  <tbody>\n",
       "    <tr>\n",
       "      <th>0</th>\n",
       "      <td>-1</td>\n",
       "      <td>-2.342173</td>\n",
       "      <td>17.991118</td>\n",
       "      <td>5000</td>\n",
       "      <td>-39.045858</td>\n",
       "      <td>0.00</td>\n",
       "      <td>0.050000</td>\n",
       "      <td>inf</td>\n",
       "      <td>False</td>\n",
       "    </tr>\n",
       "    <tr>\n",
       "      <th>1</th>\n",
       "      <td>16</td>\n",
       "      <td>1.454414</td>\n",
       "      <td>10.149881</td>\n",
       "      <td>463</td>\n",
       "      <td>9.823090</td>\n",
       "      <td>0.01</td>\n",
       "      <td>0.040404</td>\n",
       "      <td>2.326348</td>\n",
       "      <td>True</td>\n",
       "    </tr>\n",
       "  </tbody>\n",
       "</table>\n",
       "</div>"
      ],
      "text/plain": [
       "   stage_number      mean   variance  sample_size  test_stat  alloc_alpha  \\\n",
       "0            -1 -2.342173  17.991118         5000 -39.045858         0.00   \n",
       "1            16  1.454414  10.149881          463   9.823090         0.01   \n",
       "\n",
       "   remaining_alpha  crit_val  rejection  \n",
       "0         0.050000       inf      False  \n",
       "1         0.040404  2.326348       True  "
      ]
     },
     "execution_count": 11,
     "metadata": {},
     "output_type": "execute_result"
    }
   ],
   "source": [
    "protocol.testing_history"
   ]
  },
  {
   "cell_type": "code",
   "execution_count": 12,
   "id": "4e76f0af-aea3-42ff-b7b4-4ae1c4a3e141",
   "metadata": {},
   "outputs": [
    {
     "data": {
      "text/plain": [
       "np.int64(15)"
      ]
     },
     "execution_count": 12,
     "metadata": {},
     "output_type": "execute_result"
    }
   ],
   "source": [
    "protocol.protocol_metadata.rev_stage.max()"
   ]
  },
  {
   "cell_type": "code",
   "execution_count": 13,
   "id": "21e002a3-0ecf-47cc-a087-fe0315733373",
   "metadata": {},
   "outputs": [
    {
     "data": {
      "text/html": [
       "<div>\n",
       "<style scoped>\n",
       "    .dataframe tbody tr th:only-of-type {\n",
       "        vertical-align: middle;\n",
       "    }\n",
       "\n",
       "    .dataframe tbody tr th {\n",
       "        vertical-align: top;\n",
       "    }\n",
       "\n",
       "    .dataframe thead th {\n",
       "        text-align: right;\n",
       "    }\n",
       "</style>\n",
       "<table border=\"1\" class=\"dataframe\">\n",
       "  <thead>\n",
       "    <tr style=\"text-align: right;\">\n",
       "      <th></th>\n",
       "      <th>orig_ind</th>\n",
       "      <th>pt_order</th>\n",
       "      <th>pseudo_pt_order</th>\n",
       "      <th>rev_stage</th>\n",
       "      <th>is_random</th>\n",
       "      <th>reg_mass_est</th>\n",
       "      <th>unmasking_score</th>\n",
       "      <th>pseudo_reg_mass_est</th>\n",
       "      <th>pseudo_unmasking_score</th>\n",
       "    </tr>\n",
       "  </thead>\n",
       "  <tbody>\n",
       "    <tr>\n",
       "      <th>26</th>\n",
       "      <td>31</td>\n",
       "      <td>1081</td>\n",
       "      <td>105.0</td>\n",
       "      <td>1</td>\n",
       "      <td>False</td>\n",
       "      <td>0.97950</td>\n",
       "      <td>(-4.60194278371668,)</td>\n",
       "      <td>0.9788</td>\n",
       "      <td>(-4.60194278371668,)</td>\n",
       "    </tr>\n",
       "    <tr>\n",
       "      <th>30</th>\n",
       "      <td>35</td>\n",
       "      <td>1108</td>\n",
       "      <td>144.0</td>\n",
       "      <td>1</td>\n",
       "      <td>False</td>\n",
       "      <td>0.97275</td>\n",
       "      <td>(-4.535314446031515,)</td>\n",
       "      <td>0.9710</td>\n",
       "      <td>(-4.535314446031515,)</td>\n",
       "    </tr>\n",
       "    <tr>\n",
       "      <th>82</th>\n",
       "      <td>92</td>\n",
       "      <td>1048</td>\n",
       "      <td>65.0</td>\n",
       "      <td>1</td>\n",
       "      <td>False</td>\n",
       "      <td>0.98775</td>\n",
       "      <td>(-4.712188015200548,)</td>\n",
       "      <td>0.9868</td>\n",
       "      <td>(-4.712188015200548,)</td>\n",
       "    </tr>\n",
       "    <tr>\n",
       "      <th>95</th>\n",
       "      <td>106</td>\n",
       "      <td>1085</td>\n",
       "      <td>110.0</td>\n",
       "      <td>1</td>\n",
       "      <td>False</td>\n",
       "      <td>0.97850</td>\n",
       "      <td>(-4.601556942558155,)</td>\n",
       "      <td>0.9778</td>\n",
       "      <td>(-4.601556942558155,)</td>\n",
       "    </tr>\n",
       "    <tr>\n",
       "      <th>119</th>\n",
       "      <td>136</td>\n",
       "      <td>1070</td>\n",
       "      <td>92.0</td>\n",
       "      <td>1</td>\n",
       "      <td>False</td>\n",
       "      <td>0.98225</td>\n",
       "      <td>(-4.646931915528125,)</td>\n",
       "      <td>0.9814</td>\n",
       "      <td>(-4.646931915528125,)</td>\n",
       "    </tr>\n",
       "    <tr>\n",
       "      <th>...</th>\n",
       "      <td>...</td>\n",
       "      <td>...</td>\n",
       "      <td>...</td>\n",
       "      <td>...</td>\n",
       "      <td>...</td>\n",
       "      <td>...</td>\n",
       "      <td>...</td>\n",
       "      <td>...</td>\n",
       "      <td>...</td>\n",
       "    </tr>\n",
       "    <tr>\n",
       "      <th>4362</th>\n",
       "      <td>4812</td>\n",
       "      <td>1047</td>\n",
       "      <td>64.0</td>\n",
       "      <td>1</td>\n",
       "      <td>False</td>\n",
       "      <td>0.98800</td>\n",
       "      <td>(-4.723256520761293,)</td>\n",
       "      <td>0.9870</td>\n",
       "      <td>(-4.723256520761293,)</td>\n",
       "    </tr>\n",
       "    <tr>\n",
       "      <th>4406</th>\n",
       "      <td>4858</td>\n",
       "      <td>1017</td>\n",
       "      <td>29.0</td>\n",
       "      <td>1</td>\n",
       "      <td>False</td>\n",
       "      <td>0.99550</td>\n",
       "      <td>(-4.936099847891381,)</td>\n",
       "      <td>0.9940</td>\n",
       "      <td>(-4.936099847891381,)</td>\n",
       "    </tr>\n",
       "    <tr>\n",
       "      <th>4411</th>\n",
       "      <td>4864</td>\n",
       "      <td>1069</td>\n",
       "      <td>91.0</td>\n",
       "      <td>1</td>\n",
       "      <td>False</td>\n",
       "      <td>0.98250</td>\n",
       "      <td>(-4.647401558748427,)</td>\n",
       "      <td>0.9816</td>\n",
       "      <td>(-4.647401558748427,)</td>\n",
       "    </tr>\n",
       "    <tr>\n",
       "      <th>4465</th>\n",
       "      <td>4922</td>\n",
       "      <td>1205</td>\n",
       "      <td>258.0</td>\n",
       "      <td>1</td>\n",
       "      <td>False</td>\n",
       "      <td>0.94850</td>\n",
       "      <td>(-4.370087907669452,)</td>\n",
       "      <td>0.9482</td>\n",
       "      <td>(-4.370087907669452,)</td>\n",
       "    </tr>\n",
       "    <tr>\n",
       "      <th>4518</th>\n",
       "      <td>4977</td>\n",
       "      <td>1163</td>\n",
       "      <td>207.0</td>\n",
       "      <td>1</td>\n",
       "      <td>False</td>\n",
       "      <td>0.95900</td>\n",
       "      <td>(-4.442620431584542,)</td>\n",
       "      <td>0.9584</td>\n",
       "      <td>(-4.442620431584542,)</td>\n",
       "    </tr>\n",
       "  </tbody>\n",
       "</table>\n",
       "<p>250 rows × 9 columns</p>\n",
       "</div>"
      ],
      "text/plain": [
       "      orig_ind  pt_order  pseudo_pt_order  rev_stage  is_random  reg_mass_est  \\\n",
       "26          31      1081            105.0          1      False       0.97950   \n",
       "30          35      1108            144.0          1      False       0.97275   \n",
       "82          92      1048             65.0          1      False       0.98775   \n",
       "95         106      1085            110.0          1      False       0.97850   \n",
       "119        136      1070             92.0          1      False       0.98225   \n",
       "...        ...       ...              ...        ...        ...           ...   \n",
       "4362      4812      1047             64.0          1      False       0.98800   \n",
       "4406      4858      1017             29.0          1      False       0.99550   \n",
       "4411      4864      1069             91.0          1      False       0.98250   \n",
       "4465      4922      1205            258.0          1      False       0.94850   \n",
       "4518      4977      1163            207.0          1      False       0.95900   \n",
       "\n",
       "            unmasking_score  pseudo_reg_mass_est pseudo_unmasking_score  \n",
       "26     (-4.60194278371668,)               0.9788   (-4.60194278371668,)  \n",
       "30    (-4.535314446031515,)               0.9710  (-4.535314446031515,)  \n",
       "82    (-4.712188015200548,)               0.9868  (-4.712188015200548,)  \n",
       "95    (-4.601556942558155,)               0.9778  (-4.601556942558155,)  \n",
       "119   (-4.646931915528125,)               0.9814  (-4.646931915528125,)  \n",
       "...                     ...                  ...                    ...  \n",
       "4362  (-4.723256520761293,)               0.9870  (-4.723256520761293,)  \n",
       "4406  (-4.936099847891381,)               0.9940  (-4.936099847891381,)  \n",
       "4411  (-4.647401558748427,)               0.9816  (-4.647401558748427,)  \n",
       "4465  (-4.370087907669452,)               0.9482  (-4.370087907669452,)  \n",
       "4518  (-4.442620431584542,)               0.9584  (-4.442620431584542,)  \n",
       "\n",
       "[250 rows x 9 columns]"
      ]
     },
     "execution_count": 13,
     "metadata": {},
     "output_type": "execute_result"
    }
   ],
   "source": [
    "protocol.protocol_metadata[protocol.protocol_metadata.rev_stage == 1]"
   ]
  },
  {
   "cell_type": "code",
   "execution_count": 14,
   "id": "413b8d53-c936-45cb-a62a-d71907c1e613",
   "metadata": {},
   "outputs": [],
   "source": [
    "# So here's what we got:\n",
    "# High dimensional binary design, correlated covariates, non-normal errors\n",
    "# I can set p = 0.5, theta = 0, and tau > 0, rho = 0.5 to showcase the non-heterogeneous setting\n",
    "# Use both random forest and lasso here, and demonstrate all three alpha spending fns\n",
    "# Then do optimal size among 75%, 50%, 25%, 10%, 5%, and scale CATE so that power is non-trivial on range n = 1000 to 4000\n",
    "# Might have to do this last step somewhat manually\n",
    "\n",
    "# Note: a unit is in optimal region if it possesses at least 6 of the 15 (possibly rare) attributes\n",
    "\n",
    "# I think we should just have a separate set of simulations for Type I error:\n",
    "# high dimensional, low dimensional, error distributions, correlated designs, etc.\n",
    "# maybe this should somewhat subsume the settings that I experiment on\n",
    "\n",
    "# After this: we do Gaussian design high-dimensional non-sparse logistic regression\n",
    "# Here, we fix the target risk as 90%, and we shift the logits down to tune the optimal subgroup size"
   ]
  },
  {
   "cell_type": "code",
   "execution_count": null,
   "id": "5b0ed7f3-7767-41c2-bd56-6e51d7e6103c",
   "metadata": {},
   "outputs": [],
   "source": []
  }
 ],
 "metadata": {
  "kernelspec": {
   "display_name": "Python 3 (ipykernel)",
   "language": "python",
   "name": "python3"
  },
  "language_info": {
   "codemirror_mode": {
    "name": "ipython",
    "version": 3
   },
   "file_extension": ".py",
   "mimetype": "text/x-python",
   "name": "python",
   "nbconvert_exporter": "python",
   "pygments_lexer": "ipython3",
   "version": "3.12.9"
  }
 },
 "nbformat": 4,
 "nbformat_minor": 5
}
