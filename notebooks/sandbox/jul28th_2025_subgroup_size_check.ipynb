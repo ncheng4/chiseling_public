{
 "cells": [
  {
   "cell_type": "code",
   "execution_count": 1,
   "id": "f6d69418-cd67-443d-928b-17106199a8b9",
   "metadata": {},
   "outputs": [],
   "source": [
    "import numpy as np\n",
    "import scipy.stats\n",
    "\n",
    "import sys\n",
    "sys.path.append(\"../../../\")\n",
    "from chiseling.dgps.basic_binary_regression import BasicBinaryRegression\n",
    "\n",
    "from chiseling.source.learners.baselearners_binary import logreg_learner\n",
    "from sklearn.model_selection import train_test_split\n",
    "\n",
    "import matplotlib.pyplot as plt"
   ]
  },
  {
   "cell_type": "code",
   "execution_count": 2,
   "id": "e0e53169-79c4-49da-8218-8cd383c60f9e",
   "metadata": {},
   "outputs": [],
   "source": [
    "n_sims = 300\n",
    "random_seed = 42"
   ]
  },
  {
   "cell_type": "code",
   "execution_count": 3,
   "id": "f32f8327-73f2-4a8e-9bb7-6b9b31f9fd56",
   "metadata": {},
   "outputs": [],
   "source": [
    "sampler = BasicBinaryRegression(d=100, s=5, rho=0.2, theta=2, tau=2.2, random_seed=42)"
   ]
  },
  {
   "cell_type": "code",
   "execution_count": 4,
   "id": "2045cad1-b41d-4440-9cda-c791d95574df",
   "metadata": {},
   "outputs": [],
   "source": [
    "all_n_sub_preds = []\n",
    "for _ in range(n_sims):\n",
    "    X, Y = sampler.sample(1000)\n",
    "    X_train, X_test, Y_train, Y_test = train_test_split(X, Y, train_size=0.9)\n",
    "    predictor, _ = logreg_learner(X_train, Y_train)\n",
    "    n_sub_preds = (predictor(X_test).flatten() > 0.9).sum()\n",
    "    all_n_sub_preds.append(n_sub_preds)\n",
    "all_n_sub_preds = np.array(all_n_sub_preds)"
   ]
  },
  {
   "cell_type": "code",
   "execution_count": 5,
   "id": "8e8fdd5e-34bb-4f0f-a47f-66da4bff8f9f",
   "metadata": {},
   "outputs": [
    {
     "data": {
      "image/png": "[encoded data removed]",
      "text/plain": [
       "<Figure size 640x480 with 1 Axes>"
      ]
     },
     "metadata": {},
     "output_type": "display_data"
    }
   ],
   "source": [
    "plt.hist(all_n_sub_preds, bins=50)\n",
    "plt.show()"
   ]
  },
  {
   "cell_type": "code",
   "execution_count": 6,
   "id": "d90d2633-adb3-44e1-a2c9-089392cf6112",
   "metadata": {},
   "outputs": [],
   "source": [
    "n_sims = 100"
   ]
  },
  {
   "cell_type": "code",
   "execution_count": 7,
   "id": "450a064f-797d-411e-8e16-a89ade20a875",
   "metadata": {},
   "outputs": [],
   "source": [
    "sampler = BasicBinaryRegression(d=100, s=5, rho=0.2, theta=1.5, tau=-1.936)"
   ]
  },
  {
   "cell_type": "code",
   "execution_count": 8,
   "id": "7c93354a-967a-4020-8dad-de7ec773a0c8",
   "metadata": {},
   "outputs": [],
   "source": [
    "all_n_sub_preds = []\n",
    "for _ in range(n_sims):\n",
    "    X, Y = sampler.sample(25000)\n",
    "    X_train, X_test, Y_train, Y_test = train_test_split(X, Y, train_size=0.8)\n",
    "    predictor, _ = logreg_learner(X_train, Y_train)\n",
    "    n_sub_preds = (predictor(X_test).flatten() > 0.9).sum()\n",
    "    all_n_sub_preds.append(n_sub_preds)\n",
    "all_n_sub_preds = np.array(all_n_sub_preds)"
   ]
  },
  {
   "cell_type": "code",
   "execution_count": 9,
   "id": "09356658-f314-4114-b69d-52bd1116255a",
   "metadata": {},
   "outputs": [
    {
     "data": {
      "image/png": "[encoded data removed]",
      "text/plain": [
       "<Figure size 640x480 with 1 Axes>"
      ]
     },
     "metadata": {},
     "output_type": "display_data"
    }
   ],
   "source": [
    "plt.hist(all_n_sub_preds, bins=50)\n",
    "plt.show()"
   ]
  },
  {
   "cell_type": "code",
   "execution_count": null,
   "id": "17d17b70-2cb7-4bbf-89d0-44c6c148d7a5",
   "metadata": {},
   "outputs": [],
   "source": []
  }
 ],
 "metadata": {
  "kernelspec": {
   "display_name": "Python 3 (ipykernel)",
   "language": "python",
   "name": "python3"
  },
  "language_info": {
   "codemirror_mode": {
    "name": "ipython",
    "version": 3
   },
   "file_extension": ".py",
   "mimetype": "text/x-python",
   "name": "python",
   "nbconvert_exporter": "python",
   "pygments_lexer": "ipython3",
   "version": "3.12.9"
  }
 },
 "nbformat": 4,
 "nbformat_minor": 5
}
