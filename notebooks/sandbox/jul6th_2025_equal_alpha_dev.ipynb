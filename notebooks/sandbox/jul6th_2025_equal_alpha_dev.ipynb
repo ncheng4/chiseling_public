{
 "cells": [
  {
   "cell_type": "code",
   "execution_count": 9,
   "id": "25da44ee-d483-431e-9c6b-8dbebca342be",
   "metadata": {},
   "outputs": [
    {
     "name": "stdout",
     "output_type": "stream",
     "text": [
      "The autoreload extension is already loaded. To reload it, use:\n",
      "  %reload_ext autoreload\n"
     ]
    }
   ],
   "source": [
    "%load_ext autoreload\n",
    "%autoreload 2"
   ]
  },
  {
   "cell_type": "code",
   "execution_count": 10,
   "id": "975ae49d-ae65-47b3-b467-aa81adc3bf0d",
   "metadata": {},
   "outputs": [],
   "source": [
    "import numpy as np\n",
    "import scipy.stats\n",
    "import matplotlib.pyplot as plt\n",
    "\n",
    "import sys\n",
    "sys.path.append(\"../../../\")\n",
    "\n",
    "from chiseling.dgps.binary_design_rct import BinaryDesignRCT\n",
    "from chiseling.source.learners.baselearners_general import linreg_learner\n",
    "from chiseling.source.protocol.IRST import UnitRegistrar, IRSTBinary\n",
    "from chiseling.source.strategies.legacy.chiseling import ChiselingEqualAlpha\n",
    "\n",
    "from chiseling.benchmark.benchmark import Benchmark"
   ]
  },
  {
   "cell_type": "code",
   "execution_count": 3,
   "id": "5c340ff5-3961-4f9e-bf29-bbd75c56adb9",
   "metadata": {},
   "outputs": [],
   "source": [
    "# Hyperparameters\n",
    "n = 2000\n",
    "\n",
    "d = 15\n",
    "p = 0.5\n",
    "s = 7\n",
    "\n",
    "f_opt = \"step\"\n",
    "k = 4\n",
    "tau = 0.1\n",
    "theta = None\n",
    "gamma = 0\n",
    "\n",
    "alpha = 0.05\n",
    "test_thresh = 0\n",
    "random_seed = 224"
   ]
  },
  {
   "cell_type": "code",
   "execution_count": 4,
   "id": "935620f5-3000-4047-a310-d1f62e60a0bd",
   "metadata": {},
   "outputs": [],
   "source": [
    "strategy_settings = {\"reveal_batch_size\": max(1, int(n * 0.01)),\n",
    "                     \"refit_batch_size\": max(1, int(n * 0.05)),\n",
    "                     \"test_thresh\": test_thresh,\n",
    "                     \"learner\": linreg_learner,\n",
    "                     \"alpha\": alpha,\n",
    "                     \"random_seed\": random_seed}"
   ]
  },
  {
   "cell_type": "code",
   "execution_count": 5,
   "id": "6e45d553-3ac8-4e81-8324-6247ff4f2c56",
   "metadata": {},
   "outputs": [],
   "source": [
    "sampler = BinaryDesignRCT(d, p, s, k=k, tau=tau, theta=theta, gamma=gamma, f_opt=f_opt,\n",
    "                          random_seed=random_seed)\n",
    "X, Y = sampler.sample(n)"
   ]
  },
  {
   "cell_type": "code",
   "execution_count": 6,
   "id": "bf1c6899-542c-4514-995f-890aa4d1ea7d",
   "metadata": {},
   "outputs": [],
   "source": [
    "# Run chiseling\n",
    "strategy = ChiselingEqualAlpha(X=X,\n",
    "            \t\t\t\t   Y=Y,\n",
    "            \t\t\t\t   **strategy_settings)\n",
    "strategy.run_strategy()"
   ]
  },
  {
   "cell_type": "code",
   "execution_count": 7,
   "id": "497554da-387b-4933-8afa-11d00a73a338",
   "metadata": {},
   "outputs": [],
   "source": [
    "region = strategy.protocol.get_rejected_region()"
   ]
  },
  {
   "cell_type": "code",
   "execution_count": 8,
   "id": "8efcfbc4-01d8-482b-aaaf-e28c935b26e6",
   "metadata": {},
   "outputs": [
    {
     "data": {
      "text/plain": [
       "True"
      ]
     },
     "execution_count": 8,
     "metadata": {},
     "output_type": "execute_result"
    }
   ],
   "source": [
    "region is not None"
   ]
  },
  {
   "cell_type": "code",
   "execution_count": null,
   "id": "4867b9fe-9956-49e5-bee0-8a12d73d9549",
   "metadata": {},
   "outputs": [],
   "source": []
  }
 ],
 "metadata": {
  "kernelspec": {
   "display_name": "Python 3 (ipykernel)",
   "language": "python",
   "name": "python3"
  },
  "language_info": {
   "codemirror_mode": {
    "name": "ipython",
    "version": 3
   },
   "file_extension": ".py",
   "mimetype": "text/x-python",
   "name": "python",
   "nbconvert_exporter": "python",
   "pygments_lexer": "ipython3",
   "version": "3.12.9"
  }
 },
 "nbformat": 4,
 "nbformat_minor": 5
}
