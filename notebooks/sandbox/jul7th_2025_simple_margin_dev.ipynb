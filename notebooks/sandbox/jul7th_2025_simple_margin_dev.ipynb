{
 "cells": [
  {
   "cell_type": "code",
   "execution_count": 1,
   "id": "25da44ee-d483-431e-9c6b-8dbebca342be",
   "metadata": {},
   "outputs": [],
   "source": [
    "%load_ext autoreload\n",
    "%autoreload 2"
   ]
  },
  {
   "cell_type": "code",
   "execution_count": 2,
   "id": "975ae49d-ae65-47b3-b467-aa81adc3bf0d",
   "metadata": {},
   "outputs": [],
   "source": [
    "import numpy as np\n",
    "import scipy.stats\n",
    "import matplotlib.pyplot as plt\n",
    "\n",
    "import sys\n",
    "sys.path.append(\"../../../\")\n",
    "\n",
    "from chiseling.dgps.binary_design_rct import BinaryDesignRCT\n",
    "from chiseling.source.learners.baselearners_general import linreg_learner\n",
    "from chiseling.source.protocol.IRST import UnitRegistrar, IRSTBinary\n",
    "from chiseling.source.strategies.chiseling import Chiseling\n",
    "from chiseling.source.strategies.bonferroni_combiner import BonferroniCombiner\n",
    "\n",
    "from chiseling.benchmark.benchmark import Benchmark"
   ]
  },
  {
   "cell_type": "code",
   "execution_count": 3,
   "id": "5c340ff5-3961-4f9e-bf29-bbd75c56adb9",
   "metadata": {},
   "outputs": [],
   "source": [
    "# Hyperparameters\n",
    "n = 2000\n",
    "\n",
    "d = 15\n",
    "p = 0.5\n",
    "s = 7\n",
    "\n",
    "f_opt = \"step\"\n",
    "k = 4\n",
    "tau = 0.4\n",
    "theta = None\n",
    "gamma = 0\n",
    "\n",
    "alpha = 0.05\n",
    "test_thresh = 0\n",
    "random_seed = 80"
   ]
  },
  {
   "cell_type": "code",
   "execution_count": 4,
   "id": "935620f5-3000-4047-a310-d1f62e60a0bd",
   "metadata": {},
   "outputs": [],
   "source": [
    "strategy_settings = {\"n_burn_in\": 0.2,\n",
    "                     \"margin_width\": 1,\n",
    "                     \"reveal_batch_size\": max(1, int(n * 0.01)),\n",
    "                     \"refit_batch_size\": max(1, int(n * 0.05)),\n",
    "                     \"test_thresh\": test_thresh,\n",
    "                     \"learner\": linreg_learner,\n",
    "                     \"alpha\": alpha,\n",
    "                     \"random_seed\": random_seed}"
   ]
  },
  {
   "cell_type": "code",
   "execution_count": 5,
   "id": "6e45d553-3ac8-4e81-8324-6247ff4f2c56",
   "metadata": {},
   "outputs": [],
   "source": [
    "sampler = BinaryDesignRCT(d, p, s, k=k, tau=tau, theta=theta, gamma=gamma, f_opt=f_opt,\n",
    "                          random_seed=random_seed)\n",
    "X, Y = sampler.sample(n)"
   ]
  },
  {
   "cell_type": "code",
   "execution_count": 6,
   "id": "bf1c6899-542c-4514-995f-890aa4d1ea7d",
   "metadata": {
    "scrolled": true
   },
   "outputs": [],
   "source": [
    "# Run chiseling\n",
    "strategy = Chiseling(X=X,\n",
    "                     Y=Y,\n",
    "                     **strategy_settings)\n",
    "strategy.run_strategy()"
   ]
  },
  {
   "cell_type": "code",
   "execution_count": 7,
   "id": "497554da-387b-4933-8afa-11d00a73a338",
   "metadata": {},
   "outputs": [],
   "source": [
    "region = strategy.protocol.get_rejected_region()"
   ]
  },
  {
   "cell_type": "code",
   "execution_count": 8,
   "id": "8efcfbc4-01d8-482b-aaaf-e28c935b26e6",
   "metadata": {},
   "outputs": [
    {
     "data": {
      "text/plain": [
       "True"
      ]
     },
     "execution_count": 8,
     "metadata": {},
     "output_type": "execute_result"
    }
   ],
   "source": [
    "region is not None"
   ]
  },
  {
   "cell_type": "code",
   "execution_count": 9,
   "id": "980258c8-9d0b-4f01-9066-815c3be51f0f",
   "metadata": {
    "scrolled": true
   },
   "outputs": [
    {
     "data": {
      "text/plain": [
       "{'rejected': True,\n",
       " 'spent_alpha': np.float64(0.001480384900074072),\n",
       " 'remaining_alpha': np.float64(0.048591549295774694),\n",
       " 'n_left_in_region': 1411,\n",
       " 'region_mass_estimate': np.float64(0.8818750000000003)}"
      ]
     },
     "execution_count": 9,
     "metadata": {},
     "output_type": "execute_result"
    }
   ],
   "source": [
    "strategy.strategy.metrics[\"FINAL\"]"
   ]
  },
  {
   "cell_type": "code",
   "execution_count": 10,
   "id": "0efbfdbc-39d6-441f-9fee-11864fc3dc28",
   "metadata": {},
   "outputs": [],
   "source": [
    "strategy_settings = {\"margin_width\": 1,\n",
    "                     \"reveal_batch_size\": max(1, int(n * 0.01)),\n",
    "                     \"refit_batch_size\": max(1, int(n * 0.05)),\n",
    "                     \"test_thresh\": test_thresh,\n",
    "                     \"learner\": linreg_learner,\n",
    "                     \"alpha\": alpha,\n",
    "                     \"random_seed\": random_seed}"
   ]
  },
  {
   "cell_type": "code",
   "execution_count": 11,
   "id": "04ee8b5b-c6b1-4d70-bb49-dbaa24c4221b",
   "metadata": {},
   "outputs": [],
   "source": [
    "# Run chiseling\n",
    "strategy = BonferroniCombiner(X=X,\n",
    "                              Y=Y,\n",
    "                              strategy=\"Chiseling\",\n",
    "                              strategy_settings=strategy_settings,\n",
    "                              alpha=alpha,\n",
    "                              random_seed=random_seed)\n",
    "strategy.run_strategy()"
   ]
  },
  {
   "cell_type": "code",
   "execution_count": 12,
   "id": "37b4130a-7ae2-49bd-a6e6-9c200b08ad33",
   "metadata": {},
   "outputs": [
    {
     "data": {
      "text/plain": [
       "np.float64(0.8)"
      ]
     },
     "execution_count": 12,
     "metadata": {},
     "output_type": "execute_result"
    }
   ],
   "source": [
    "strategy.rejected_region_split"
   ]
  },
  {
   "cell_type": "code",
   "execution_count": 13,
   "id": "80988a21-c949-40fe-9d26-09ab84e3edc7",
   "metadata": {},
   "outputs": [
    {
     "data": {
      "text/plain": [
       "<chiseling.source.protocol.IRST.Region at 0x12faafa70>"
      ]
     },
     "execution_count": 13,
     "metadata": {},
     "output_type": "execute_result"
    }
   ],
   "source": [
    "strategy.rejected_region"
   ]
  },
  {
   "cell_type": "markdown",
   "id": "10a5e834-c091-41de-8bd0-c28aa5532432",
   "metadata": {},
   "source": [
    "### Benchmark module tests"
   ]
  },
  {
   "cell_type": "code",
   "execution_count": 22,
   "id": "07abba94-f61f-4deb-9034-3b0a71cd6e0e",
   "metadata": {},
   "outputs": [],
   "source": [
    "# Hyperparameters\n",
    "n = 2000\n",
    "\n",
    "d = 15\n",
    "p = 0.5\n",
    "s = 7\n",
    "\n",
    "# f_opt = \"linear\"\n",
    "# k = None\n",
    "# tau = 0\n",
    "# theta = 0.02\n",
    "# gamma = None\n",
    "\n",
    "f_opt = \"step\"\n",
    "k = 4\n",
    "tau = 0.2\n",
    "theta = None\n",
    "gamma = 0.1\n",
    "gamma = 0\n",
    "\n",
    "alpha = 0.05\n",
    "random_seed = 42"
   ]
  },
  {
   "cell_type": "code",
   "execution_count": 23,
   "id": "b81ce75a-232e-464d-9145-3c90dd5dc75a",
   "metadata": {},
   "outputs": [],
   "source": [
    "# settings = {\"task_id\": 0,\n",
    "#             \"dgp\": \"BinaryDesignRCT\",\n",
    "#              \"n\": n,\n",
    "#              \"d\": d,\n",
    "#              \"p\": p,\n",
    "#              \"s\": s,\n",
    "#              \"k\": k,\n",
    "#              \"tau\": tau,\n",
    "#              \"theta\": theta,\n",
    "#              \"gamma\": gamma,\n",
    "#              \"f_opt\": f_opt,\n",
    "#              \"ipw_transform\": True,\n",
    "#              \"alpha\": alpha,\n",
    "#              \"random_seed\": random_seed,\n",
    "#              \"strategy\": \"TTestStrategy\",\n",
    "#              \"test_thresh\": 0,\n",
    "#              \"learner\": None,\n",
    "#              \"n_sims\": 100}\n",
    "\n",
    "settings = {\"task_id\": 0,\n",
    "            \"dgp\": \"BinaryDesignRCT\",\n",
    "             \"n\": n,\n",
    "             \"d\": d,\n",
    "             \"p\": p,\n",
    "             \"s\": s,\n",
    "             \"k\": k,\n",
    "             \"tau\": tau,\n",
    "             \"theta\": theta,\n",
    "             \"gamma\": gamma,\n",
    "             \"f_opt\": f_opt,\n",
    "             \"ipw_transform\": True,\n",
    "             \"alpha\": alpha,\n",
    "             \"random_seed\": random_seed,\n",
    "             \"strategy\": \"Chiseling\",\n",
    "             \"n_burn_in\": 0.05,\n",
    "             \"margin_width\": 0.5,\n",
    "             \"reveal_batch_size\": max(1, int(0.01 * n)),\n",
    "             \"refit_batch_size\": max(1, int(0.05 * n)),\n",
    "             \"test_thresh\": 0,\n",
    "             \"learner\": \"linreg_learner\",\n",
    "             \"use_learner_weights\": False,\n",
    "             \"n_sims\": 100}"
   ]
  },
  {
   "cell_type": "code",
   "execution_count": 24,
   "id": "d4614c5d-7fe7-46d9-a07a-ac9e5affdae9",
   "metadata": {},
   "outputs": [
    {
     "data": {
      "text/html": [
       "<div>\n",
       "<style scoped>\n",
       "    .dataframe tbody tr th:only-of-type {\n",
       "        vertical-align: middle;\n",
       "    }\n",
       "\n",
       "    .dataframe tbody tr th {\n",
       "        vertical-align: top;\n",
       "    }\n",
       "\n",
       "    .dataframe thead th {\n",
       "        text-align: right;\n",
       "    }\n",
       "</style>\n",
       "<table border=\"1\" class=\"dataframe\">\n",
       "  <thead>\n",
       "    <tr style=\"text-align: right;\">\n",
       "      <th></th>\n",
       "      <th>task_id</th>\n",
       "      <th>sim_id</th>\n",
       "      <th>rejected</th>\n",
       "      <th>region_mass</th>\n",
       "      <th>subgroup_mean</th>\n",
       "      <th>subgroup_utility</th>\n",
       "      <th>region_mass_se</th>\n",
       "      <th>subgroup_mean_se</th>\n",
       "      <th>subgroup_utility_se</th>\n",
       "    </tr>\n",
       "  </thead>\n",
       "  <tbody>\n",
       "    <tr>\n",
       "      <th>0</th>\n",
       "      <td>0</td>\n",
       "      <td>0</td>\n",
       "      <td>True</td>\n",
       "      <td>0.80271</td>\n",
       "      <td>0.099206</td>\n",
       "      <td>0.079634</td>\n",
       "      <td>0.001258</td>\n",
       "      <td>0.000353</td>\n",
       "      <td>0.000310</td>\n",
       "    </tr>\n",
       "    <tr>\n",
       "      <th>1</th>\n",
       "      <td>0</td>\n",
       "      <td>1</td>\n",
       "      <td>True</td>\n",
       "      <td>0.49400</td>\n",
       "      <td>0.114684</td>\n",
       "      <td>0.056654</td>\n",
       "      <td>0.001581</td>\n",
       "      <td>0.000445</td>\n",
       "      <td>0.000285</td>\n",
       "    </tr>\n",
       "    <tr>\n",
       "      <th>2</th>\n",
       "      <td>0</td>\n",
       "      <td>2</td>\n",
       "      <td>True</td>\n",
       "      <td>0.79968</td>\n",
       "      <td>0.106485</td>\n",
       "      <td>0.085154</td>\n",
       "      <td>0.001266</td>\n",
       "      <td>0.000353</td>\n",
       "      <td>0.000313</td>\n",
       "    </tr>\n",
       "    <tr>\n",
       "      <th>3</th>\n",
       "      <td>0</td>\n",
       "      <td>3</td>\n",
       "      <td>False</td>\n",
       "      <td>0.00000</td>\n",
       "      <td>NaN</td>\n",
       "      <td>0.000000</td>\n",
       "      <td>0.000000</td>\n",
       "      <td>NaN</td>\n",
       "      <td>0.000000</td>\n",
       "    </tr>\n",
       "    <tr>\n",
       "      <th>4</th>\n",
       "      <td>0</td>\n",
       "      <td>4</td>\n",
       "      <td>False</td>\n",
       "      <td>0.00000</td>\n",
       "      <td>NaN</td>\n",
       "      <td>0.000000</td>\n",
       "      <td>0.000000</td>\n",
       "      <td>NaN</td>\n",
       "      <td>0.000000</td>\n",
       "    </tr>\n",
       "  </tbody>\n",
       "</table>\n",
       "</div>"
      ],
      "text/plain": [
       "   task_id  sim_id  rejected  region_mass  subgroup_mean  subgroup_utility  \\\n",
       "0        0       0      True      0.80271       0.099206          0.079634   \n",
       "1        0       1      True      0.49400       0.114684          0.056654   \n",
       "2        0       2      True      0.79968       0.106485          0.085154   \n",
       "3        0       3     False      0.00000            NaN          0.000000   \n",
       "4        0       4     False      0.00000            NaN          0.000000   \n",
       "\n",
       "   region_mass_se  subgroup_mean_se  subgroup_utility_se  \n",
       "0        0.001258          0.000353             0.000310  \n",
       "1        0.001581          0.000445             0.000285  \n",
       "2        0.001266          0.000353             0.000313  \n",
       "3        0.000000               NaN             0.000000  \n",
       "4        0.000000               NaN             0.000000  "
      ]
     },
     "execution_count": 24,
     "metadata": {},
     "output_type": "execute_result"
    }
   ],
   "source": [
    "benchmark = Benchmark(settings)\n",
    "benchmark.simulate_batch()\n",
    "benchmark.simulation_results_df.head()"
   ]
  },
  {
   "cell_type": "code",
   "execution_count": 25,
   "id": "ae88ba22-84f3-44d3-8f30-8b895603a53a",
   "metadata": {},
   "outputs": [
    {
     "data": {
      "text/plain": [
       "np.float64(0.63)"
      ]
     },
     "execution_count": 25,
     "metadata": {},
     "output_type": "execute_result"
    }
   ],
   "source": [
    "benchmark.simulation_results_df.rejected.mean(axis=0)"
   ]
  },
  {
   "cell_type": "code",
   "execution_count": null,
   "id": "fe8781d9-f67e-493e-9e1b-643813a9beb9",
   "metadata": {},
   "outputs": [],
   "source": []
  }
 ],
 "metadata": {
  "kernelspec": {
   "display_name": "Python 3 (ipykernel)",
   "language": "python",
   "name": "python3"
  },
  "language_info": {
   "codemirror_mode": {
    "name": "ipython",
    "version": 3
   },
   "file_extension": ".py",
   "mimetype": "text/x-python",
   "name": "python",
   "nbconvert_exporter": "python",
   "pygments_lexer": "ipython3",
   "version": "3.12.9"
  }
 },
 "nbformat": 4,
 "nbformat_minor": 5
}
