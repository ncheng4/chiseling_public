{
 "cells": [
  {
   "cell_type": "code",
   "execution_count": 1,
   "id": "25da44ee-d483-431e-9c6b-8dbebca342be",
   "metadata": {},
   "outputs": [],
   "source": [
    "%load_ext autoreload\n",
    "%autoreload 2"
   ]
  },
  {
   "cell_type": "code",
   "execution_count": 2,
   "id": "975ae49d-ae65-47b3-b467-aa81adc3bf0d",
   "metadata": {},
   "outputs": [],
   "source": [
    "import numpy as np\n",
    "import scipy.stats\n",
    "import matplotlib.pyplot as plt\n",
    "\n",
    "import sys\n",
    "sys.path.append(\"../../../\")\n",
    "\n",
    "from chiseling.dgps.kang_schafer_rct import KangSchaferRCT\n",
    "from chiseling.source.learners.baselearners_general import make_random_forest_learner\n",
    "from chiseling.source.protocol.IRST import UnitRegistrar, IRST\n",
    "from chiseling.source.strategies.alpha_spending_strategy import AlphaSpendingStrategy\n",
    "from chiseling.source.strategies.data_splitting_strategy import DataSplittingStrategy"
   ]
  },
  {
   "cell_type": "code",
   "execution_count": 3,
   "id": "243dd6e1-b3cb-42b8-9402-2d1115b5bcd3",
   "metadata": {},
   "outputs": [],
   "source": [
    "# Hyperparameters\n",
    "n = 500\n",
    "\n",
    "alpha = 0.05\n",
    "\n",
    "random_seed = 42"
   ]
  },
  {
   "cell_type": "code",
   "execution_count": 4,
   "id": "ca87bdbf-8d3b-4268-b7a3-51f35565100b",
   "metadata": {},
   "outputs": [],
   "source": [
    "# Sample data\n",
    "sampler = KangSchaferRCT(ipw_transform=True, random_seed=random_seed)\n",
    "X, Y = sampler.sample(n)"
   ]
  },
  {
   "cell_type": "code",
   "execution_count": 5,
   "id": "1fa04528-b4ee-4415-8bc8-d3f3823da4cc",
   "metadata": {},
   "outputs": [
    {
     "data": {
      "image/png": "[encoded data removed]",
      "text/plain": [
       "<Figure size 640x480 with 1 Axes>"
      ]
     },
     "metadata": {},
     "output_type": "display_data"
    }
   ],
   "source": [
    "plt.hist(Y, bins=50)\n",
    "plt.show()"
   ]
  },
  {
   "cell_type": "code",
   "execution_count": 6,
   "id": "dfc79a8c-178f-4977-8e68-525ad3ad5c2b",
   "metadata": {},
   "outputs": [
    {
     "data": {
      "text/plain": [
       "(np.float64(14.439398392469112),\n",
       " np.float64(0.49842),\n",
       " np.float64(28.970343069036378),\n",
       " np.float64(0.06707365058439946),\n",
       " np.float64(0.0015811309357545314),\n",
       " np.float64(0.09830438882591734))"
      ]
     },
     "execution_count": 6,
     "metadata": {},
     "output_type": "execute_result"
    }
   ],
   "source": [
    "sampler.get_optimal_region_metrics()"
   ]
  },
  {
   "cell_type": "code",
   "execution_count": 7,
   "id": "961b0968-0eba-424c-8a4f-10f152d03424",
   "metadata": {},
   "outputs": [],
   "source": [
    "# Initialize protocol\n",
    "unit_reg = UnitRegistrar(random_seed)\n",
    "regX = unit_reg.register_units(X)\n",
    "protocol = IRST(regX, Y, alpha=alpha)"
   ]
  },
  {
   "cell_type": "code",
   "execution_count": 8,
   "id": "20534651-e637-4bf2-a528-32861ae8ff73",
   "metadata": {},
   "outputs": [],
   "source": [
    "# Make random forest learner\n",
    "rf_learner = make_random_forest_learner(random_seed=random_seed)"
   ]
  },
  {
   "cell_type": "code",
   "execution_count": 9,
   "id": "44d7fa25-7bfd-43e1-876b-fb803966e69c",
   "metadata": {
    "scrolled": true
   },
   "outputs": [
    {
     "name": "stdout",
     "output_type": "stream",
     "text": [
      "METRICS = {'curr_sample_efficiency': 1.0, 'spent_alpha': np.float64(0.0), 'remaining_alpha': np.float64(0.05), 'n_shrink_revealed': 170, 'n_left_in_region': 230, 'region_mass_estimate': np.float64(0.5750000000000001)}\n",
      "SUMMARY: rejected = True, spent_alpha = 0.050000000000000044, n_left_in_region = 230, region_mass-estimate = 0.5750000000000001\n"
     ]
    }
   ],
   "source": [
    "# Run chiseling\n",
    "strategy = AlphaSpendingStrategy(protocol=protocol,\n",
    "                                 test_thresh=0,\n",
    "                                 learner=rf_learner,\n",
    "                                 n_burn_in=0.2,\n",
    "                                 batch_size=int(0.05 * n),\n",
    "                                 n_min=2,\n",
    "                                 alpha_min=0,\n",
    "                                 alpha_spending_fn='instantaneous',\n",
    "                                 tiebreak=False,\n",
    "                                 use_learner_weights=False,\n",
    "                                 skip_const_predictor=False,\n",
    "                                 random_seed=random_seed)\n",
    "\n",
    "strategy.run_strategy(verbose=True)"
   ]
  },
  {
   "cell_type": "code",
   "execution_count": 10,
   "id": "702ba380-ff60-41ea-a89d-72957bdd8819",
   "metadata": {},
   "outputs": [
    {
     "data": {
      "text/html": [
       "<div>\n",
       "<style scoped>\n",
       "    .dataframe tbody tr th:only-of-type {\n",
       "        vertical-align: middle;\n",
       "    }\n",
       "\n",
       "    .dataframe tbody tr th {\n",
       "        vertical-align: top;\n",
       "    }\n",
       "\n",
       "    .dataframe thead th {\n",
       "        text-align: right;\n",
       "    }\n",
       "</style>\n",
       "<table border=\"1\" class=\"dataframe\">\n",
       "  <thead>\n",
       "    <tr style=\"text-align: right;\">\n",
       "      <th></th>\n",
       "      <th>stage_number</th>\n",
       "      <th>mean</th>\n",
       "      <th>variance</th>\n",
       "      <th>sample_size</th>\n",
       "      <th>test_stat</th>\n",
       "      <th>alloc_alpha</th>\n",
       "      <th>remaining_alpha</th>\n",
       "      <th>crit_val</th>\n",
       "      <th>rejection</th>\n",
       "    </tr>\n",
       "  </thead>\n",
       "  <tbody>\n",
       "    <tr>\n",
       "      <th>0</th>\n",
       "      <td>-1</td>\n",
       "      <td>2.596670</td>\n",
       "      <td>15510.265315</td>\n",
       "      <td>500</td>\n",
       "      <td>0.466221</td>\n",
       "      <td>0.00</td>\n",
       "      <td>0.05</td>\n",
       "      <td>inf</td>\n",
       "      <td>False</td>\n",
       "    </tr>\n",
       "    <tr>\n",
       "      <th>1</th>\n",
       "      <td>0</td>\n",
       "      <td>2.596670</td>\n",
       "      <td>15510.265315</td>\n",
       "      <td>500</td>\n",
       "      <td>0.466221</td>\n",
       "      <td>0.00</td>\n",
       "      <td>0.05</td>\n",
       "      <td>inf</td>\n",
       "      <td>False</td>\n",
       "    </tr>\n",
       "    <tr>\n",
       "      <th>2</th>\n",
       "      <td>9</td>\n",
       "      <td>18.537613</td>\n",
       "      <td>16183.207961</td>\n",
       "      <td>230</td>\n",
       "      <td>2.209965</td>\n",
       "      <td>0.05</td>\n",
       "      <td>0.00</td>\n",
       "      <td>1.644854</td>\n",
       "      <td>True</td>\n",
       "    </tr>\n",
       "  </tbody>\n",
       "</table>\n",
       "</div>"
      ],
      "text/plain": [
       "   stage_number       mean      variance  sample_size  test_stat  alloc_alpha  \\\n",
       "0            -1   2.596670  15510.265315          500   0.466221         0.00   \n",
       "1             0   2.596670  15510.265315          500   0.466221         0.00   \n",
       "2             9  18.537613  16183.207961          230   2.209965         0.05   \n",
       "\n",
       "   remaining_alpha  crit_val  rejection  \n",
       "0             0.05       inf      False  \n",
       "1             0.05       inf      False  \n",
       "2             0.00  1.644854       True  "
      ]
     },
     "execution_count": 10,
     "metadata": {},
     "output_type": "execute_result"
    }
   ],
   "source": [
    "protocol.testing_history"
   ]
  },
  {
   "cell_type": "code",
   "execution_count": 11,
   "id": "5b0ed7f3-7767-41c2-bd56-6e51d7e6103c",
   "metadata": {},
   "outputs": [],
   "source": [
    "# Run data splitting\n",
    "datasplit = DataSplittingStrategy(X=X,\n",
    "                                  Y=Y,\n",
    "                                  train_ratio=0.2,\n",
    "                                  learner=rf_learner,\n",
    "                                  alpha=alpha,\n",
    "                                  test_thresh=0,\n",
    "                                  random_seed=random_seed)\n",
    "datasplit.run_strategy()"
   ]
  },
  {
   "cell_type": "code",
   "execution_count": 12,
   "id": "4332a469-93a2-4021-86f1-42f376218307",
   "metadata": {},
   "outputs": [
    {
     "data": {
      "text/plain": [
       "np.False_"
      ]
     },
     "execution_count": 12,
     "metadata": {},
     "output_type": "execute_result"
    }
   ],
   "source": [
    "# Data split rejection\n",
    "datasplit.rejected"
   ]
  },
  {
   "cell_type": "code",
   "execution_count": 13,
   "id": "6e225c14-c5ce-444b-9d49-0d209087680f",
   "metadata": {},
   "outputs": [
    {
     "data": {
      "text/plain": [
       "(np.float64(10.896012876683496),\n",
       " np.float64(0.57555),\n",
       " np.float64(18.931479240176344),\n",
       " np.float64(0.07512009680803813),\n",
       " np.float64(0.001562984956741427),\n",
       " np.float64(0.11996692878505695))"
      ]
     },
     "execution_count": 13,
     "metadata": {},
     "output_type": "execute_result"
    }
   ],
   "source": [
    "# Chiseling region metrics\n",
    "sampler.estimate_region_metrics(protocol.rejected_region)"
   ]
  },
  {
   "cell_type": "code",
   "execution_count": 14,
   "id": "e84af2a3-e7ff-48e5-a168-73bafa5e62a8",
   "metadata": {},
   "outputs": [
    {
     "data": {
      "text/plain": [
       "(np.float64(8.833127473961625),\n",
       " np.float64(0.47709),\n",
       " np.float64(18.514593627956202),\n",
       " np.float64(0.06880485729399166),\n",
       " np.float64(0.001579478179336454),\n",
       " np.float64(0.1305436577884834))"
      ]
     },
     "execution_count": 14,
     "metadata": {},
     "output_type": "execute_result"
    }
   ],
   "source": [
    "# Data region metrics\n",
    "sampler.estimate_region_metrics(datasplit.region)"
   ]
  },
  {
   "cell_type": "code",
   "execution_count": null,
   "id": "de527e1a-f0b5-4faa-9b2a-33ec30d74284",
   "metadata": {},
   "outputs": [],
   "source": []
  }
 ],
 "metadata": {
  "kernelspec": {
   "display_name": "Python 3 (ipykernel)",
   "language": "python",
   "name": "python3"
  },
  "language_info": {
   "codemirror_mode": {
    "name": "ipython",
    "version": 3
   },
   "file_extension": ".py",
   "mimetype": "text/x-python",
   "name": "python",
   "nbconvert_exporter": "python",
   "pygments_lexer": "ipython3",
   "version": "3.12.9"
  }
 },
 "nbformat": 4,
 "nbformat_minor": 5
}
