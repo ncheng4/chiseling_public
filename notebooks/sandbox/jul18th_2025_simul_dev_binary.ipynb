{
 "cells": [
  {
   "cell_type": "code",
   "execution_count": 1,
   "id": "c4671c3d-9564-463d-a3b9-d4cf3b94d452",
   "metadata": {},
   "outputs": [],
   "source": [
    "%load_ext autoreload\n",
    "%autoreload 2"
   ]
  },
  {
   "cell_type": "code",
   "execution_count": 2,
   "id": "ac8c63f1-253c-4ef0-a5c2-b7a642bb596e",
   "metadata": {},
   "outputs": [],
   "source": [
    "import numpy as np\n",
    "import scipy.stats\n",
    "\n",
    "import sys\n",
    "sys.path.append(\"../../../\")"
   ]
  },
  {
   "cell_type": "code",
   "execution_count": 3,
   "id": "0caccb47-dbea-429f-a65b-bc60dc689f8e",
   "metadata": {},
   "outputs": [],
   "source": [
    "from chiseling.dgps.basic_binary_regression import BasicBinaryRegression\n",
    "from chiseling.source.learners.baselearners_binary import logreg_learner\n",
    "from chiseling.source.strategies.simul_data_splitting_strategy import SimulDataSplittingStrategy"
   ]
  },
  {
   "cell_type": "code",
   "execution_count": 4,
   "id": "f12e2f26-7473-4e94-974e-210185688604",
   "metadata": {},
   "outputs": [],
   "source": [
    "# Hyperparameters\n",
    "n = 1000\n",
    "d = 100\n",
    "s = 5\n",
    "rho = 0.2\n",
    "theta = 2\n",
    "tau = 2.2\n",
    "\n",
    "test_thresh = 0.9\n",
    "\n",
    "alpha = 0.05\n",
    "\n",
    "random_seed = 1000"
   ]
  },
  {
   "cell_type": "code",
   "execution_count": 5,
   "id": "456fd559-314b-48a4-9894-6479aaabbe3b",
   "metadata": {},
   "outputs": [],
   "source": [
    "# Sample data\n",
    "sampler = BasicBinaryRegression(d, s, rho, theta, tau, random_seed=random_seed)"
   ]
  },
  {
   "cell_type": "markdown",
   "id": "b4f64981-fb04-48bb-9590-7f198dae6442",
   "metadata": {},
   "source": [
    "### Check coverage"
   ]
  },
  {
   "cell_type": "code",
   "execution_count": 6,
   "id": "e9cfa789-925e-4bea-a914-0052c28eb893",
   "metadata": {},
   "outputs": [],
   "source": [
    "np.random.seed(random_seed)"
   ]
  },
  {
   "cell_type": "code",
   "execution_count": 7,
   "id": "21d1e36c-de3a-434f-951a-b8e362dad89c",
   "metadata": {},
   "outputs": [],
   "source": [
    "n_sims = 300"
   ]
  },
  {
   "cell_type": "code",
   "execution_count": 8,
   "id": "54a69e75-ad93-4147-8439-8177674ff30e",
   "metadata": {},
   "outputs": [
    {
     "name": "stdout",
     "output_type": "stream",
     "text": [
      "Progress 0\n",
      "Progress 50\n",
      "Progress 100\n",
      "Progress 150\n",
      "Progress 200\n",
      "Progress 250\n"
     ]
    }
   ],
   "source": [
    "all_rejections = []\n",
    "for _ in range(n_sims):\n",
    "    if _ % 50 == 0:\n",
    "        print(\"Progress\", _)\n",
    "    # Sample data\n",
    "    X, Y = sampler.sample(n)\n",
    "    # Run data splitting\n",
    "    rs = np.random.randint(0, 2**32-1)\n",
    "    simul_datasplit = SimulDataSplittingStrategy(X=X,\n",
    "                                                 Y=Y,\n",
    "                                                 train_ratio=0.5,\n",
    "                                                 learner=logreg_learner,\n",
    "                                                 alpha=alpha,\n",
    "                                                 test_thresh=test_thresh,\n",
    "                                                 n_min=30,\n",
    "                                                 binary=True,\n",
    "                                                 randomize=True,\n",
    "                                                 random_seed=rs)\n",
    "    simul_datasplit.run_strategy()\n",
    "    # Data split rejection\n",
    "    all_rejections.append(simul_datasplit.rejected)\n",
    "all_rejections = np.array(all_rejections)"
   ]
  },
  {
   "cell_type": "code",
   "execution_count": 9,
   "id": "2c4ec7d0-e1be-487f-9498-9a9056ae1cbb",
   "metadata": {},
   "outputs": [
    {
     "data": {
      "text/plain": [
       "(np.float64(0.9), np.float64(0.01732050807568877))"
      ]
     },
     "execution_count": 9,
     "metadata": {},
     "output_type": "execute_result"
    }
   ],
   "source": [
    "all_rejections.mean(), all_rejections.std() / np.sqrt(n_sims)"
   ]
  },
  {
   "cell_type": "code",
   "execution_count": 10,
   "id": "83772a54-d660-49d2-b00c-91463574b324",
   "metadata": {},
   "outputs": [
    {
     "data": {
      "text/plain": [
       "np.float64(0.8653589838486225)"
      ]
     },
     "execution_count": 10,
     "metadata": {},
     "output_type": "execute_result"
    }
   ],
   "source": [
    "all_rejections.mean() - 2 * (all_rejections.std() / np.sqrt(n_sims))"
   ]
  },
  {
   "cell_type": "code",
   "execution_count": 11,
   "id": "9c012c52-e512-42e1-86cb-c5d74466b03d",
   "metadata": {},
   "outputs": [
    {
     "data": {
      "text/plain": [
       "np.float64(0.9346410161513775)"
      ]
     },
     "execution_count": 11,
     "metadata": {},
     "output_type": "execute_result"
    }
   ],
   "source": [
    "all_rejections.mean() + 2 * (all_rejections.std() / np.sqrt(n_sims))"
   ]
  },
  {
   "cell_type": "markdown",
   "id": "fcf4471d-1e5a-452b-b6af-5fa6dc39c95e",
   "metadata": {},
   "source": [
    "### Benchmark module"
   ]
  },
  {
   "cell_type": "code",
   "execution_count": 12,
   "id": "b09d7d0d-84a8-452d-965c-5cdd79311106",
   "metadata": {},
   "outputs": [],
   "source": [
    "# from chiseling.benchmark.benchmark import Benchmark"
   ]
  },
  {
   "cell_type": "code",
   "execution_count": 13,
   "id": "0047b38c-a649-417c-bd14-79348700f4c4",
   "metadata": {},
   "outputs": [],
   "source": [
    "# settings = {'dgp': 'BasicBinaryRegression',\n",
    "#  'n': 1000,\n",
    "#  'd': 100,\n",
    "#  's': 5,\n",
    "#  'rho': 0.2,\n",
    "#  'theta': 2,\n",
    "#  'tau': 2.2,\n",
    "#  'alpha': 0.05,\n",
    "#  'test_thresh': 0.9,\n",
    "#  'learner': 'logreg_learner',\n",
    "#  'binary': True,\n",
    "#  'strategy': 'SimulDataSplittingStrategy',\n",
    "#  'n_min': 20,\n",
    "#  'train_ratio': 0.5,\n",
    "#  'n_sims': 100,\n",
    "#  'task_id': 900,\n",
    "#  'random_seed': 420}"
   ]
  },
  {
   "cell_type": "code",
   "execution_count": 14,
   "id": "fbb307dd-64ea-4c2e-be73-1c83f63a95d1",
   "metadata": {},
   "outputs": [],
   "source": [
    "# benchmark = Benchmark(settings)"
   ]
  },
  {
   "cell_type": "code",
   "execution_count": 15,
   "id": "26138078-0555-4401-b60b-ad4fd975e841",
   "metadata": {},
   "outputs": [],
   "source": [
    "# benchmark.simulate_batch()"
   ]
  },
  {
   "cell_type": "code",
   "execution_count": 16,
   "id": "70be1d8c-c24c-4013-8bd0-c10d53deb19e",
   "metadata": {},
   "outputs": [],
   "source": [
    "# benchmark.simulation_results_df.rejected.mean()"
   ]
  },
  {
   "cell_type": "code",
   "execution_count": 17,
   "id": "8283dd10-516d-46e1-bd9b-ab0b84254678",
   "metadata": {},
   "outputs": [],
   "source": [
    "# benchmark.simulation_results_df.rejected.std() / np.sqrt(benchmark.simulation_results_df.shape[0])"
   ]
  },
  {
   "cell_type": "code",
   "execution_count": null,
   "id": "9ade281f-bfca-4fd2-a3cc-d1853075101c",
   "metadata": {},
   "outputs": [],
   "source": []
  }
 ],
 "metadata": {
  "kernelspec": {
   "display_name": "Python 3 (ipykernel)",
   "language": "python",
   "name": "python3"
  },
  "language_info": {
   "codemirror_mode": {
    "name": "ipython",
    "version": 3
   },
   "file_extension": ".py",
   "mimetype": "text/x-python",
   "name": "python",
   "nbconvert_exporter": "python",
   "pygments_lexer": "ipython3",
   "version": "3.12.9"
  }
 },
 "nbformat": 4,
 "nbformat_minor": 5
}
