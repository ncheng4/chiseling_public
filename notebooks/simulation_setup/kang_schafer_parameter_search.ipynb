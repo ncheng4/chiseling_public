{
 "cells": [
  {
   "cell_type": "code",
   "execution_count": 1,
   "id": "a1c4025c-1cab-46e2-a6da-08ba95d06e13",
   "metadata": {},
   "outputs": [],
   "source": [
    "%load_ext autoreload\n",
    "%autoreload 2"
   ]
  },
  {
   "cell_type": "code",
   "execution_count": 2,
   "id": "fa69ab24-0a53-4f30-a5e3-b3757dfcd81d",
   "metadata": {},
   "outputs": [],
   "source": [
    "import numpy as np\n",
    "import pandas as pd\n",
    "import scipy.stats\n",
    "import matplotlib.pyplot as plt\n",
    "\n",
    "import sys\n",
    "sys.path.append(\"../../../\")\n",
    "\n",
    "from chiseling.benchmark.benchmark import Benchmark\n",
    "from chiseling.dgps.kang_schafer_rct import KangSchaferRCT"
   ]
  },
  {
   "cell_type": "code",
   "execution_count": 3,
   "id": "3632be86-5d29-48ee-899e-fd8101035df6",
   "metadata": {},
   "outputs": [],
   "source": [
    "# Hyperparameters\n",
    "tau = -24.35\n",
    "sigma = 125\n",
    "n = 3600\n",
    "\n",
    "test_thresh = 0\n",
    "alpha = 0.05\n",
    "\n",
    "random_seed = 42"
   ]
  },
  {
   "cell_type": "code",
   "execution_count": 4,
   "id": "c90b45c2-0f8d-4f5c-a68e-311288e2eab6",
   "metadata": {},
   "outputs": [
    {
     "data": {
      "text/plain": [
       "(np.float64(5.446058649762197),\n",
       " np.float64(0.25007),\n",
       " np.float64(21.778136720766984),\n",
       " np.float64(0.04116536734983108),\n",
       " np.float64(0.0013694341718388655),\n",
       " np.float64(0.11346768586249434))"
      ]
     },
     "execution_count": 4,
     "metadata": {},
     "output_type": "execute_result"
    }
   ],
   "source": [
    "sampler = KangSchaferRCT(tau=tau, sigma=sigma, random_seed=random_seed)\n",
    "sampler.get_optimal_region_metrics()"
   ]
  },
  {
   "cell_type": "code",
   "execution_count": 5,
   "id": "8e03d9f0-7b70-428f-a41d-bd53d8caa58a",
   "metadata": {},
   "outputs": [],
   "source": [
    "n_sims = 50"
   ]
  },
  {
   "cell_type": "code",
   "execution_count": 6,
   "id": "0faca7fd-d375-4f5e-aa46-a9cf374ac04b",
   "metadata": {},
   "outputs": [],
   "source": [
    "settings = {\"task_id\": 0,\n",
    "            \"dgp\": \"KangSchaferRCT\",\n",
    "             \"n\": n,\n",
    "             \"tau\": tau,\n",
    "             \"sigma\": sigma,\n",
    "             \"alpha\": alpha,\n",
    "             \"random_seed\": 42,\n",
    "             \"strategy\": \"DataSplittingStrategy\",\n",
    "             \"train_ratio\": 0.5,\n",
    "             \"test_thresh\": test_thresh,\n",
    "             \"learner\": \"ridgecv_learner\",\n",
    "             \"n_sims\": n_sims,\n",
    "             \"random_seed\": random_seed}"
   ]
  },
  {
   "cell_type": "code",
   "execution_count": 7,
   "id": "22453d3e-a56f-4231-a9bc-09aafce6762d",
   "metadata": {},
   "outputs": [
    {
     "data": {
      "text/html": [
       "<div>\n",
       "<style scoped>\n",
       "    .dataframe tbody tr th:only-of-type {\n",
       "        vertical-align: middle;\n",
       "    }\n",
       "\n",
       "    .dataframe tbody tr th {\n",
       "        vertical-align: top;\n",
       "    }\n",
       "\n",
       "    .dataframe thead th {\n",
       "        text-align: right;\n",
       "    }\n",
       "</style>\n",
       "<table border=\"1\" class=\"dataframe\">\n",
       "  <thead>\n",
       "    <tr style=\"text-align: right;\">\n",
       "      <th></th>\n",
       "      <th>task_id</th>\n",
       "      <th>sim_id</th>\n",
       "      <th>rejected</th>\n",
       "      <th>region_mass</th>\n",
       "      <th>subgroup_mean</th>\n",
       "      <th>subgroup_utility</th>\n",
       "      <th>region_mass_se</th>\n",
       "      <th>subgroup_mean_se</th>\n",
       "      <th>subgroup_utility_se</th>\n",
       "    </tr>\n",
       "  </thead>\n",
       "  <tbody>\n",
       "    <tr>\n",
       "      <th>0</th>\n",
       "      <td>0</td>\n",
       "      <td>0</td>\n",
       "      <td>False</td>\n",
       "      <td>0.00000</td>\n",
       "      <td>NaN</td>\n",
       "      <td>0.000000</td>\n",
       "      <td>0.000000</td>\n",
       "      <td>NaN</td>\n",
       "      <td>0.000000</td>\n",
       "    </tr>\n",
       "    <tr>\n",
       "      <th>1</th>\n",
       "      <td>0</td>\n",
       "      <td>1</td>\n",
       "      <td>True</td>\n",
       "      <td>0.08307</td>\n",
       "      <td>32.086213</td>\n",
       "      <td>2.665402</td>\n",
       "      <td>0.000873</td>\n",
       "      <td>0.253829</td>\n",
       "      <td>0.035054</td>\n",
       "    </tr>\n",
       "    <tr>\n",
       "      <th>2</th>\n",
       "      <td>0</td>\n",
       "      <td>2</td>\n",
       "      <td>False</td>\n",
       "      <td>0.00000</td>\n",
       "      <td>NaN</td>\n",
       "      <td>0.000000</td>\n",
       "      <td>0.000000</td>\n",
       "      <td>NaN</td>\n",
       "      <td>0.000000</td>\n",
       "    </tr>\n",
       "    <tr>\n",
       "      <th>3</th>\n",
       "      <td>0</td>\n",
       "      <td>3</td>\n",
       "      <td>True</td>\n",
       "      <td>0.26757</td>\n",
       "      <td>17.026659</td>\n",
       "      <td>4.555823</td>\n",
       "      <td>0.001400</td>\n",
       "      <td>0.132970</td>\n",
       "      <td>0.042825</td>\n",
       "    </tr>\n",
       "    <tr>\n",
       "      <th>4</th>\n",
       "      <td>0</td>\n",
       "      <td>4</td>\n",
       "      <td>True</td>\n",
       "      <td>0.19703</td>\n",
       "      <td>20.126221</td>\n",
       "      <td>3.965469</td>\n",
       "      <td>0.001258</td>\n",
       "      <td>0.161990</td>\n",
       "      <td>0.040737</td>\n",
       "    </tr>\n",
       "  </tbody>\n",
       "</table>\n",
       "</div>"
      ],
      "text/plain": [
       "   task_id  sim_id  rejected  region_mass  subgroup_mean  subgroup_utility  \\\n",
       "0        0       0     False      0.00000            NaN          0.000000   \n",
       "1        0       1      True      0.08307      32.086213          2.665402   \n",
       "2        0       2     False      0.00000            NaN          0.000000   \n",
       "3        0       3      True      0.26757      17.026659          4.555823   \n",
       "4        0       4      True      0.19703      20.126221          3.965469   \n",
       "\n",
       "   region_mass_se  subgroup_mean_se  subgroup_utility_se  \n",
       "0        0.000000               NaN             0.000000  \n",
       "1        0.000873          0.253829             0.035054  \n",
       "2        0.000000               NaN             0.000000  \n",
       "3        0.001400          0.132970             0.042825  \n",
       "4        0.001258          0.161990             0.040737  "
      ]
     },
     "execution_count": 7,
     "metadata": {},
     "output_type": "execute_result"
    }
   ],
   "source": [
    "benchmark = Benchmark(settings)\n",
    "benchmark.simulate_batch()\n",
    "benchmark.simulation_results_df.head()"
   ]
  },
  {
   "cell_type": "code",
   "execution_count": 8,
   "id": "fb5d9578-c787-4263-a0b6-e947f3b0abe7",
   "metadata": {},
   "outputs": [
    {
     "data": {
      "text/plain": [
       "(np.float64(0.44), np.float64(0.07091242083423346))"
      ]
     },
     "execution_count": 8,
     "metadata": {},
     "output_type": "execute_result"
    }
   ],
   "source": [
    "(benchmark.simulation_results_df.rejected.mean(),\n",
    " np.sqrt(benchmark.simulation_results_df.rejected.var() / n_sims))"
   ]
  },
  {
   "cell_type": "markdown",
   "id": "2316bf01-2eaf-4478-856c-4c60df903d63",
   "metadata": {},
   "source": [
    "### Settings\n",
    "\n",
    "For all: ```sigma = 125```\n",
    "\n",
    "- ```tau = 24.45, n = 500, size = 0.75```\n",
    "- ```tau = 0, n = 1500, size = 0.5```\n",
    "- ```tau = -24.35, n = 3600, size = 0.25```\n"
   ]
  },
  {
   "cell_type": "code",
   "execution_count": null,
   "id": "97bd0f7a-b243-4269-b195-0a821bd5e2c3",
   "metadata": {},
   "outputs": [],
   "source": []
  }
 ],
 "metadata": {
  "kernelspec": {
   "display_name": "Python 3 (ipykernel)",
   "language": "python",
   "name": "python3"
  },
  "language_info": {
   "codemirror_mode": {
    "name": "ipython",
    "version": 3
   },
   "file_extension": ".py",
   "mimetype": "text/x-python",
   "name": "python",
   "nbconvert_exporter": "python",
   "pygments_lexer": "ipython3",
   "version": "3.12.9"
  }
 },
 "nbformat": 4,
 "nbformat_minor": 5
}
