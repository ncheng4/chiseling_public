{
 "cells": [
  {
   "cell_type": "code",
   "execution_count": null,
   "id": "a1fbb602-c693-459a-8d9f-94b8027b4e97",
   "metadata": {},
   "outputs": [],
   "source": [
    "%load_ext autoreload\n",
    "%autoreload 2"
   ]
  },
  {
   "cell_type": "code",
   "execution_count": null,
   "id": "1f7014a7-73a5-4fbd-80ec-29154af8a597",
   "metadata": {},
   "outputs": [],
   "source": [
    "import numpy as np\n",
    "import pandas as pd\n",
    "import scipy.stats\n",
    "import matplotlib.pyplot as plt\n",
    "\n",
    "import sys\n",
    "sys.path.append(\"../../../\")\n",
    "\n",
    "from chiseling.dgps.bart_dataset import BARTDataset\n",
    "from chiseling.source.strategies.legacy.chiseling_interpretable import ChiselingInterpretable\n",
    "from chiseling.source.learners.baselearners_causal import make_causal_random_forest_classifier_learner\n",
    "from chiseling.source.protocol.IRST import UnitRegistrar\n",
    "from chiseling.source.protocol.utils import aipw_intercept_pseudo_outcome"
   ]
  },
  {
   "cell_type": "markdown",
   "id": "b0228c9a-42c0-4363-9825-3cf830a2da8d",
   "metadata": {},
   "source": [
    "### Config"
   ]
  },
  {
   "cell_type": "code",
   "execution_count": null,
   "id": "fbec3b22-c38a-4303-8179-e694eeec9790",
   "metadata": {},
   "outputs": [],
   "source": [
    "BART_PATH = \"./bart_dataset_processed.tsv.gz\"\n",
    "RANDOM_SEED = 42\n",
    "\n",
    "alpha = 0.05\n",
    "test_thresh_interpret = 0.45\n",
    "n_min = 30\n",
    "n_burn_in = 1000\n",
    "shrink_to_boundary = True\n",
    "\n",
    "FIGURE_SAVEPATH = \"../../../figures/\"\n",
    "SAVE = False"
   ]
  },
  {
   "cell_type": "markdown",
   "id": "6c4d5b46-eb71-431b-a2ce-014969cf053f",
   "metadata": {},
   "source": [
    "### Run interpretable random forest analysis"
   ]
  },
  {
   "cell_type": "code",
   "execution_count": null,
   "id": "7417a5ee-ef63-4fe3-92e6-755ed6cb2650",
   "metadata": {},
   "outputs": [],
   "source": [
    "np.random.seed(RANDOM_SEED)"
   ]
  },
  {
   "cell_type": "code",
   "execution_count": null,
   "id": "13c889e7-ba34-4f4e-ab90-9509ab57b02e",
   "metadata": {},
   "outputs": [],
   "source": [
    "# Get the data\n",
    "bart_sampler = BARTDataset(bart_path=BART_PATH, random_seed=RANDOM_SEED)\n",
    "# Get BART dataframe\n",
    "bart_df = bart_sampler.bart_df\n",
    "bart_df = bart_df.drop(\"year\", axis=1)\n",
    "# Extract variables\n",
    "Y = bart_df.loc[:,\"outcome\"].values\n",
    "TX = bart_df.iloc[:,1:].values\n",
    "# Get discrete covariate column indices (10 or fewer levels)\n",
    "bart_cov_df = bart_df.iloc[:,1:]\n",
    "discrete_col_inds = bart_cov_df.columns.get_indexer(bart_cov_df.columns[bart_cov_df.nunique(dropna=False).le(10)])\n",
    "print(\"n discrete feats = {} / n feats = {}\".format(len(discrete_col_inds), bart_cov_df.shape[1]))"
   ]
  },
  {
   "cell_type": "code",
   "execution_count": null,
   "id": "642ad5e8-19a0-4fca-a9fe-3997172f117a",
   "metadata": {},
   "outputs": [],
   "source": [
    "# Construct pseudo-outcome\n",
    "pY = aipw_intercept_pseudo_outcome(TX[:,0],\n",
    "                                   TX[:,1:],\n",
    "                                   Y,\n",
    "                                   bart_sampler.get_propensity(),\n",
    "                                   random_seed=RANDOM_SEED)\n",
    "print(\"mean = {}, se = {}\".format(pY.mean(), np.sqrt(pY.var() / pY.shape[0])))\n",
    "# Subtract off test_thresh_interpret\n",
    "pY = pY - test_thresh_interpret"
   ]
  },
  {
   "cell_type": "code",
   "execution_count": null,
   "id": "a4d12bfc-a229-4805-9adc-7a0f3b8be3ea",
   "metadata": {},
   "outputs": [],
   "source": [
    "# Make the learner\n",
    "learner = make_causal_random_forest_classifier_learner(random_seed=RANDOM_SEED)"
   ]
  },
  {
   "cell_type": "code",
   "execution_count": null,
   "id": "c8f22e24-3456-44ac-ab03-53137ef0a51a",
   "metadata": {},
   "outputs": [],
   "source": [
    "chiseling = ChiselingInterpretable(X=TX,\n",
    "                                   Y=Y,\n",
    "                                   test_thresh=test_thresh_interpret,\n",
    "                                   alpha=alpha,\n",
    "                                   learner=learner,\n",
    "                                   n_burn_in=n_burn_in,\n",
    "                                   pY=pY,\n",
    "                                   binary=False,\n",
    "                                   alpha_init=0,\n",
    "                                   refit_batch_prop=0.05,\n",
    "                                   reveal_batch_prop=0.01,\n",
    "                                   margin_width=1,\n",
    "                                   n_min=n_min,\n",
    "                                   alpha_min='auto',\n",
    "                    \t\t\t   use_learner_weights=False,\n",
    "                    \t\t\t   skip_const_predictor=False,\n",
    "                    \t\t\t   shrink_to_boundary=shrink_to_boundary,\n",
    "                    \t\t\t   tiebreak=False,\n",
    "                                   min_box_cond_samps=100,\n",
    "                                   ignored_facets=[0],\n",
    "                                   discrete_coords=discrete_col_inds,\n",
    "                    \t\t\t   random_seed=RANDOM_SEED)"
   ]
  },
  {
   "cell_type": "code",
   "execution_count": null,
   "id": "4a980ed9-9544-4360-95e8-d5d7e7a47960",
   "metadata": {
    "scrolled": true
   },
   "outputs": [],
   "source": [
    "chiseling.run_strategy(verbose=True)"
   ]
  },
  {
   "cell_type": "code",
   "execution_count": null,
   "id": "aa780000-f65e-4f07-99f0-0d82132c772f",
   "metadata": {},
   "outputs": [],
   "source": [
    "chiseling.protocol.testing_history"
   ]
  },
  {
   "cell_type": "code",
   "execution_count": null,
   "id": "51dfab91-ae63-477c-83aa-6f4eb7bf95e1",
   "metadata": {},
   "outputs": [],
   "source": [
    "chiseling.protocol.protocol_metadata.reg_mass_est.min()"
   ]
  },
  {
   "cell_type": "markdown",
   "id": "7064d70c-16ea-4161-b529-5c6c23558e0f",
   "metadata": {},
   "source": [
    "Inspect the rejected region"
   ]
  },
  {
   "cell_type": "code",
   "execution_count": null,
   "id": "eed3cc0f-9d61-4896-9ad1-0e578ae02e58",
   "metadata": {},
   "outputs": [],
   "source": [
    "# Get region\n",
    "region = chiseling.protocol.get_rejected_region()"
   ]
  },
  {
   "cell_type": "code",
   "execution_count": null,
   "id": "11c31b5e-f45d-4862-bb8a-f25c114d0ca1",
   "metadata": {},
   "outputs": [],
   "source": [
    "# Register units and check region membership\n",
    "unit_reg = UnitRegistrar(random_seed=RANDOM_SEED)\n",
    "regTX = unit_reg.register_units(TX)\n",
    "in_reg_indics = region.in_region(regTX)"
   ]
  },
  {
   "cell_type": "code",
   "execution_count": null,
   "id": "93970e24-7429-483b-a878-4d06ad80b6c4",
   "metadata": {},
   "outputs": [],
   "source": [
    "# Get original dataframe and subset to region units\n",
    "region_bart_df = bart_df.loc[in_reg_indics]"
   ]
  },
  {
   "cell_type": "code",
   "execution_count": null,
   "id": "c0603026-c14e-4276-9e9f-91ae923a49b2",
   "metadata": {},
   "outputs": [],
   "source": [
    "# Check subgroup treatment effect\n",
    "region_bart_df.groupby(\"treatment\").outcome.mean()"
   ]
  },
  {
   "cell_type": "code",
   "execution_count": null,
   "id": "956faf16-e672-4fcf-b90e-e83e3ba84659",
   "metadata": {},
   "outputs": [],
   "source": [
    "# Get bounds of region\n",
    "box_lb = region_bart_df.iloc[:,2:].min(axis=0).values\n",
    "box_ub = region_bart_df.iloc[:,2:].max(axis=0).values"
   ]
  },
  {
   "cell_type": "code",
   "execution_count": null,
   "id": "88638451-5488-479a-bf25-538a145330b4",
   "metadata": {},
   "outputs": [],
   "source": [
    "# Check whether each feature passes its inclusion creteria\n",
    "per_feature_inclusion_indics = ((box_lb <= bart_df.iloc[:,2:].values) &\n",
    "                                (bart_df.iloc[:,2:].values <= box_ub))"
   ]
  },
  {
   "cell_type": "code",
   "execution_count": null,
   "id": "c544e2ad-7336-4e6c-ae01-05637d1b3592",
   "metadata": {},
   "outputs": [],
   "source": [
    "# Average inclusion rate\n",
    "avg_inclusion_rate = per_feature_inclusion_indics.mean(axis=0)"
   ]
  },
  {
   "cell_type": "code",
   "execution_count": null,
   "id": "865eed34-58be-4432-96fe-b6172bc047d2",
   "metadata": {},
   "outputs": [],
   "source": [
    "# Visualize average inclusion rate\n",
    "fig, ax = plt.subplots(1,1,figsize=(6,3.5))\n",
    "\n",
    "ax.hist(per_feature_inclusion_indics.mean(axis=0), bins=50)\n",
    "plt.show()\n",
    "\n",
    "print(\"Number of inclusion rates < 1:\", (per_feature_inclusion_indics.mean(axis=0) < 1).sum())"
   ]
  },
  {
   "cell_type": "code",
   "execution_count": null,
   "id": "588a75b3-c3ac-4b02-8c45-64398d8c13fd",
   "metadata": {},
   "outputs": [],
   "source": [
    "# Sort features by average inclusion rate\n",
    "sorted_features = bart_df.columns.values[2:][np.argsort(avg_inclusion_rate)]\n",
    "sorted_avg_inclusion_rates = np.sort(avg_inclusion_rate)\n",
    "print(sorted_features[:5])\n",
    "print(sorted_avg_inclusion_rates[:5])"
   ]
  },
  {
   "cell_type": "code",
   "execution_count": null,
   "id": "06141b06-4fe1-4ffd-a19b-068e2a1080c8",
   "metadata": {},
   "outputs": [],
   "source": [
    "# See how much of region is replicated by first five features\n",
    "top5_features = sorted_features[:5]\n",
    "top5_inclusion_indics = per_feature_inclusion_indics[:,np.isin(bart_df.columns.values[2:],\n",
    "                                                               top5_features)]\n",
    "top5_inclusion_rate = top5_inclusion_indics.all(axis=1).mean()\n",
    "print(top5_inclusion_rate)"
   ]
  },
  {
   "cell_type": "code",
   "execution_count": null,
   "id": "ee1164d9-8283-42bf-b303-5263148d079c",
   "metadata": {},
   "outputs": [],
   "source": [
    "# Visualize top 10 features\n",
    "fig, ax = plt.subplots(2,5,figsize=(24,8))\n",
    "\n",
    "PANEL_COUNTER = 0\n",
    "AX0, AX1 = PANEL_COUNTER // 5, PANEL_COUNTER % 5\n",
    "\n",
    "for i in range(10):\n",
    "    feat = sorted_features[i]\n",
    "    # Calculate per feature subgroup ATE\n",
    "    feat_region_inds = (region_bart_df.loc[:,feat].min() <= bart_df.loc[:,feat])\n",
    "    feat_region_inds = feat_region_inds & (bart_df.loc[:,feat] <= region_bart_df.loc[:,feat].max())\n",
    "    feat_region_df = bart_df.loc[feat_region_inds]\n",
    "    feat_trt_effect_df = feat_region_df.groupby(\"treatment\").outcome.mean()\n",
    "    feat_trt_effect = feat_trt_effect_df[1] - feat_trt_effect_df[0]\n",
    "    # Plot\n",
    "    ax[AX0, AX1].hist(bart_df.loc[:,feat].values, bins=50, density=True)\n",
    "    ax[AX0, AX1].axvline(region_bart_df.loc[:,feat].min(), color=\"red\")\n",
    "    ax[AX0, AX1].axvline(region_bart_df.loc[:,feat].max(), color=\"green\")\n",
    "    ax[AX0, AX1].set_title(feat)\n",
    "    print(\"{}: inclusion rate = {}, trt effect = {}\".format(feat, sorted_avg_inclusion_rates[i], feat_trt_effect))\n",
    "    # Increment panel\n",
    "    PANEL_COUNTER += 1\n",
    "    AX0, AX1 = PANEL_COUNTER // 5, PANEL_COUNTER % 5\n",
    "    \n",
    "plt.show()"
   ]
  },
  {
   "cell_type": "code",
   "execution_count": null,
   "id": "2840ba7f-85a9-4676-aed7-7d178845e4ac",
   "metadata": {},
   "outputs": [],
   "source": [
    "# Get indicators for points that were revealed randomly\n",
    "meta = chiseling.protocol.protocol_metadata\n",
    "rand_inds = meta[meta.is_random].orig_ind.values\n",
    "rand_indics = np.isin(np.arange(len(TX)), rand_inds)\n",
    "nonrand_indics = ~rand_indics"
   ]
  },
  {
   "cell_type": "code",
   "execution_count": null,
   "id": "784fd889-fb1a-4937-853b-0ae6026c60fa",
   "metadata": {},
   "outputs": [],
   "source": [
    "# Calculate the running estimate of intersection subgroup ATE compared to per-feature subgroup ATE\n",
    "feat_region_inds = True\n",
    "subgroup_ATEs = []\n",
    "feat_subgroup_ATEs = []\n",
    "subgroup_sizes = []\n",
    "feat_subgroup_sizes = []\n",
    "for feat in sorted_features:\n",
    "    # Get the region indicators\n",
    "    per_feat_region_inds = nonrand_indics\n",
    "    per_feat_region_inds = per_feat_region_inds & (region_bart_df.loc[:,feat].min() <= bart_df.loc[:,feat])\n",
    "    per_feat_region_inds = per_feat_region_inds & (bart_df.loc[:,feat] <= region_bart_df.loc[:,feat].max())\n",
    "    feat_region_inds = feat_region_inds & per_feat_region_inds\n",
    "    # Calculate ATEs\n",
    "    per_feat_region_df = bart_df.loc[per_feat_region_inds]\n",
    "    per_feat_trt_effect_df = per_feat_region_df.groupby(\"treatment\").outcome.mean()\n",
    "    per_feat_trt_effect = per_feat_trt_effect_df[1] - per_feat_trt_effect_df[0]\n",
    "    feat_subgroup_ATEs.append(per_feat_trt_effect)\n",
    "    subgroup_region_df = bart_df.loc[feat_region_inds]\n",
    "    subgroup_trt_effect_df = subgroup_region_df.groupby(\"treatment\").outcome.mean()\n",
    "    subgroup_trt_effect = subgroup_trt_effect_df[1] - subgroup_trt_effect_df[0]\n",
    "    subgroup_ATEs.append(subgroup_trt_effect)\n",
    "    # Calculate sizes\n",
    "    subgroup_sizes.append(feat_region_inds.mean())\n",
    "    feat_subgroup_sizes.append(per_feat_region_inds.mean())\n",
    "subgroup_ATEs = np.array(subgroup_ATEs)\n",
    "feat_subgroup_ATEs = np.array(feat_subgroup_ATEs)\n",
    "subgroup_sizes = np.array(subgroup_sizes)\n",
    "feat_subgroup_sizes = np.array(feat_subgroup_sizes)"
   ]
  },
  {
   "cell_type": "code",
   "execution_count": null,
   "id": "a2712d5f-580e-4bfe-98e4-728496648c35",
   "metadata": {},
   "outputs": [],
   "source": [
    "fig, ax = plt.subplots(1,2,figsize=(12,5))\n",
    "\n",
    "LABEL_FONTSIZE = 18\n",
    "MARKERSIZE = 25\n",
    "LINEWIDTH = 1\n",
    "LINEALPHA = 0.6\n",
    "TICK_FONTSIZE = 13\n",
    "LEGEND_FONTSIZE = 13\n",
    "FULL_COLOR = \"#2032DA\"\n",
    "PER_COLOR = \"#69C1B9\"\n",
    "FINAL_COLOR = \"#2032DA\"\n",
    "ATE_COLOR = \"red\"\n",
    "\n",
    "N_FEATURES = 40\n",
    "FULL_TRT_EFFECT = bart_df.groupby(\"treatment\").outcome.mean()[1] - bart_df.groupby(\"treatment\").outcome.mean()[0]\n",
    "\n",
    "ax[0].plot(np.arange(1,1+N_FEATURES), subgroup_ATEs[:N_FEATURES], color=FULL_COLOR, linewidth=LINEWIDTH, alpha=LINEALPHA)\n",
    "ax[0].scatter(np.arange(1,1+N_FEATURES), subgroup_ATEs[:N_FEATURES], s=MARKERSIZE, label=\"Running Intersection\",\n",
    "              color=FULL_COLOR)\n",
    "ax[0].plot(np.arange(1,1+N_FEATURES), feat_subgroup_ATEs[:N_FEATURES], color=PER_COLOR, linewidth=LINEWIDTH, alpha=LINEALPHA)\n",
    "ax[0].scatter(np.arange(1,1+N_FEATURES), feat_subgroup_ATEs[:N_FEATURES], s=MARKERSIZE, label=\"Single Feature\",\n",
    "              color=PER_COLOR)\n",
    "ax[0].axhline(subgroup_ATEs[-1], color=FINAL_COLOR, label=\"Final Subgroup\")\n",
    "ax[0].axhline(FULL_TRT_EFFECT, color=ATE_COLOR, label=\"Full Population\")\n",
    "ax[0].spines[['right', 'top']].set_visible(False)\n",
    "ax[0].tick_params(axis='both', which='major', labelsize=TICK_FONTSIZE)\n",
    "\n",
    "ax[1].plot(np.arange(1,1+N_FEATURES), subgroup_sizes[:N_FEATURES], color=FULL_COLOR, linewidth=LINEWIDTH, alpha=LINEALPHA)\n",
    "ax[1].scatter(np.arange(1,1+N_FEATURES), subgroup_sizes[:N_FEATURES], s=MARKERSIZE, label=\"Running Intersection\",\n",
    "              color=FULL_COLOR)\n",
    "ax[1].plot(np.arange(1,1+N_FEATURES), feat_subgroup_sizes[:N_FEATURES], color=PER_COLOR, linewidth=LINEWIDTH, alpha=LINEALPHA)\n",
    "ax[1].scatter(np.arange(1,1+N_FEATURES), feat_subgroup_sizes[:N_FEATURES], s=MARKERSIZE, label=\"Single Feature\",\n",
    "              color=PER_COLOR)\n",
    "ax[1].axhline(subgroup_sizes[-1], color=FINAL_COLOR, label=\"Final Subgroup\")\n",
    "ax[1].spines[['right', 'top']].set_visible(False)\n",
    "ax[1].tick_params(axis='both', which='major', labelsize=TICK_FONTSIZE)\n",
    "\n",
    "# Global formatting\n",
    "ax[0].set_ylabel(\"Subgroup ATE\", fontsize=LABEL_FONTSIZE)\n",
    "ax[0].set_xlabel(\"Feature Rank\", fontsize=LABEL_FONTSIZE)\n",
    "ax[1].set_ylabel(\"Subgroup Size\", fontsize=LABEL_FONTSIZE)\n",
    "ax[1].set_xlabel(\"Feature Rank\", fontsize=LABEL_FONTSIZE)\n",
    "ax[1].set_ylim(0,1)\n",
    "ax[0].legend(fontsize=LEGEND_FONTSIZE)\n",
    "plt.tight_layout()\n",
    "\n",
    "# Save\n",
    "if SAVE:\n",
    "    plt.savefig(FIGURE_SAVEPATH + \"bart_interpret_facet.pdf\", bbox_inches=\"tight\", dpi=300)\n",
    "\n",
    "plt.show()"
   ]
  },
  {
   "cell_type": "code",
   "execution_count": null,
   "id": "aa2884fa-3071-4060-bb88-cacb0a7fe2a3",
   "metadata": {},
   "outputs": [],
   "source": []
  }
 ],
 "metadata": {
  "kernelspec": {
   "display_name": "Python 3 (ipykernel)",
   "language": "python",
   "name": "python3"
  },
  "language_info": {
   "codemirror_mode": {
    "name": "ipython",
    "version": 3
   },
   "file_extension": ".py",
   "mimetype": "text/x-python",
   "name": "python",
   "nbconvert_exporter": "python",
   "pygments_lexer": "ipython3",
   "version": "3.12.9"
  }
 },
 "nbformat": 4,
 "nbformat_minor": 5
}
