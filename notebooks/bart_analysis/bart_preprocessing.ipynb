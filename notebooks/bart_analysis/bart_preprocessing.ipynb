{
 "cells": [
  {
   "cell_type": "code",
   "execution_count": 1,
   "id": "c175007e-873c-4411-bf07-e54485592db6",
   "metadata": {},
   "outputs": [],
   "source": [
    "%load_ext autoreload\n",
    "%autoreload 2"
   ]
  },
  {
   "cell_type": "code",
   "execution_count": 2,
   "id": "ff31e1b0-e843-4672-8d88-7b1b49d4407e",
   "metadata": {},
   "outputs": [],
   "source": [
    "import pandas as pd\n",
    "import numpy as np"
   ]
  },
  {
   "cell_type": "code",
   "execution_count": 3,
   "id": "95f7d3bc-ee23-414d-bcd5-86aadf4088fc",
   "metadata": {},
   "outputs": [],
   "source": [
    "# Load data\n",
    "bart_df = pd.read_csv(\"welfarenolabel3.csv\")"
   ]
  },
  {
   "cell_type": "code",
   "execution_count": 4,
   "id": "6b6f59ad-c276-4fb0-8ebf-ce90aa5febb1",
   "metadata": {},
   "outputs": [],
   "source": [
    "# Zero imputation\n",
    "bart_df[bart_df == -999] = 0\n",
    "bart_df = bart_df.drop([\"_merge\", \"_mergescore\"], axis='columns')"
   ]
  },
  {
   "cell_type": "code",
   "execution_count": 5,
   "id": "dac56f8e-a88e-47eb-be0e-1f5c84bae5cc",
   "metadata": {},
   "outputs": [],
   "source": [
    "# Extract treatment\n",
    "W = 1 - bart_df['w'].values\n",
    "# Calculate propensities\n",
    "pis = W.mean() * np.ones(len(W))\n",
    "# Extract outcomes\n",
    "y = bart_df['y'].values"
   ]
  },
  {
   "cell_type": "code",
   "execution_count": 6,
   "id": "13d70637-03a2-4d41-a9b7-73252d0da07b",
   "metadata": {},
   "outputs": [],
   "source": [
    "# Munge pre-treatment covariates\n",
    "cts_covs = bart_df.columns[bart_df.dtypes != 'object']\n",
    "cts_covs = list(set(cts_covs) - set(['y', 'w']))\n",
    "discrete_covs = bart_df.columns[bart_df.dtypes == 'object'].tolist()\n",
    "# Construct design matrix\n",
    "Xdf = pd.get_dummies(\n",
    "    bart_df[discrete_covs + cts_covs],\n",
    "    columns=discrete_covs,\n",
    "    dummy_na=True,\n",
    "    drop_first=True,\n",
    ").astype(float).fillna(0)\n",
    "Xdf -= Xdf.mean()\n",
    "Xdf = Xdf.loc[:, Xdf.std() > 0]\n",
    "Xdf /= Xdf.std()\n",
    "X = Xdf.values"
   ]
  },
  {
   "cell_type": "code",
   "execution_count": 7,
   "id": "0b68f740-51f3-44b3-86cc-aa9a3f55a4dc",
   "metadata": {},
   "outputs": [],
   "source": [
    "# Recombine\n",
    "cols = [\"outcome\", \"treatment\"] + list(Xdf.columns.values)\n",
    "bart_proc_df = pd.DataFrame(np.hstack((y.reshape(-1,1), W.reshape(-1,1), X)), columns=cols)"
   ]
  },
  {
   "cell_type": "code",
   "execution_count": 8,
   "id": "83aa7922-b64d-44b1-b324-92cdc0863d87",
   "metadata": {},
   "outputs": [],
   "source": [
    "# Save\n",
    "bart_proc_df.to_csv(\"bart_dataset_processed.tsv.gz\", sep=\"\\t\", index=False, compression=\"gzip\")"
   ]
  }
 ],
 "metadata": {
  "kernelspec": {
   "display_name": "Python 3 (ipykernel)",
   "language": "python",
   "name": "python3"
  },
  "language_info": {
   "codemirror_mode": {
    "name": "ipython",
    "version": 3
   },
   "file_extension": ".py",
   "mimetype": "text/x-python",
   "name": "python",
   "nbconvert_exporter": "python",
   "pygments_lexer": "ipython3",
   "version": "3.12.9"
  }
 },
 "nbformat": 4,
 "nbformat_minor": 5
}
