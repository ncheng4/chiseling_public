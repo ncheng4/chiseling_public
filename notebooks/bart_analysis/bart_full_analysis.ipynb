{
 "cells": [
  {
   "cell_type": "code",
   "execution_count": 1,
   "id": "1f7014a7-73a5-4fbd-80ec-29154af8a597",
   "metadata": {},
   "outputs": [],
   "source": [
    "import numpy as np\n",
    "import pandas as pd\n",
    "import scipy.stats\n",
    "import matplotlib.pyplot as plt\n",
    "\n",
    "import sys\n",
    "sys.path.append(\"../../../\")\n",
    "\n",
    "from chiseling.dgps.bart_dataset import BARTDataset\n",
    "from chiseling.source.strategies.chiseling import Chiseling\n",
    "from chiseling.source.strategies.data_splitting_strategy import DataSplittingStrategy\n",
    "from chiseling.source.strategies.simul_data_splitting_strategy import SimulDataSplittingStrategy\n",
    "from chiseling.source.learners.baselearners_causal import make_interpretable_causal_random_forest_classifier_learner\n",
    "from chiseling.source.learners.baselearners_causal import make_causal_random_forest_classifier_learner\n",
    "from chiseling.source.protocol.IRST import UnitRegistrar\n",
    "from chiseling.source.protocol.utils import aipw_intercept_pseudo_outcome"
   ]
  },
  {
   "cell_type": "markdown",
   "id": "b0228c9a-42c0-4363-9825-3cf830a2da8d",
   "metadata": {},
   "source": [
    "### Config"
   ]
  },
  {
   "cell_type": "code",
   "execution_count": 2,
   "id": "fbec3b22-c38a-4303-8179-e694eeec9790",
   "metadata": {},
   "outputs": [],
   "source": [
    "BART_PATH = \"./bart_dataset_processed.tsv.gz\"\n",
    "RANDOM_SEED = 42\n",
    "\n",
    "alpha = 0.05\n",
    "test_thresh = 0.5\n",
    "test_thresh_interpret = 0.45\n",
    "n_min = 30\n",
    "n_burn_in = 1000\n",
    "smoother = \"isotonic\"\n",
    "train_ratio_space = [1000 / 36501, 0.2, 0.5, 0.8]\n",
    "\n",
    "FIGURE_SAVEPATH = \"../../../figures/\"\n",
    "SAVE = False"
   ]
  },
  {
   "cell_type": "markdown",
   "id": "b360aff8-97e9-4678-9dcb-8e90eadd5c20",
   "metadata": {},
   "source": [
    "### Run random forest analysis"
   ]
  },
  {
   "cell_type": "code",
   "execution_count": 3,
   "id": "639ede65-d1cd-4442-8591-a92c0dc9f08a",
   "metadata": {},
   "outputs": [],
   "source": [
    "np.random.seed(RANDOM_SEED)"
   ]
  },
  {
   "cell_type": "code",
   "execution_count": 4,
   "id": "7553231b-433d-4e2c-af2a-1ca6dc5668d5",
   "metadata": {},
   "outputs": [],
   "source": [
    "# Get the data\n",
    "bart_sampler = BARTDataset(bart_path=BART_PATH, random_seed=RANDOM_SEED)\n",
    "Y = bart_sampler.bart_df.loc[:,\"outcome\"].values\n",
    "TX = bart_sampler.bart_df.iloc[:,1:].values"
   ]
  },
  {
   "cell_type": "code",
   "execution_count": 5,
   "id": "4f11c062-3ae1-44dd-bba3-2d48e362aab7",
   "metadata": {},
   "outputs": [
    {
     "name": "stdout",
     "output_type": "stream",
     "text": [
      "mean = 0.3379563354995775, se = 0.004316635480104617\n"
     ]
    }
   ],
   "source": [
    "# Construct pseudo-outcome\n",
    "pY = aipw_intercept_pseudo_outcome(TX[:,0],\n",
    "                                   TX[:,1:],\n",
    "                                   Y,\n",
    "                                   bart_sampler.get_propensity(),\n",
    "                                   random_seed=RANDOM_SEED)\n",
    "print(\"mean = {}, se = {}\".format(pY.mean(), np.sqrt(pY.var() / pY.shape[0])))\n",
    "# Subtract off test_thresh\n",
    "pY = pY - test_thresh"
   ]
  },
  {
   "cell_type": "code",
   "execution_count": 6,
   "id": "b2dd6309-e61d-4ec3-a6f0-90ef134a5d84",
   "metadata": {},
   "outputs": [],
   "source": [
    "# Make the learner\n",
    "learner = make_causal_random_forest_classifier_learner(random_seed=RANDOM_SEED)"
   ]
  },
  {
   "cell_type": "code",
   "execution_count": 7,
   "id": "db825d14-083a-4727-9abb-fa95a54f7bd1",
   "metadata": {},
   "outputs": [],
   "source": [
    "chiseling = Chiseling(X=TX,\n",
    "                      Y=Y,\n",
    "                      test_thresh=test_thresh,\n",
    "                      alpha=alpha,\n",
    "                      learner=learner,\n",
    "                      n_burn_in=n_burn_in,\n",
    "                      pY=pY,\n",
    "                      binary=False,\n",
    "                      alpha_init=0,\n",
    "                      refit_batch_prop=0.05,\n",
    "                      reveal_batch_prop=0.01,\n",
    "                      margin_width=1,\n",
    "                      n_min=n_min,\n",
    "                      alpha_min='auto',\n",
    "        \t\t\t  use_learner_weights=False,\n",
    "        \t\t\t  skip_const_predictor=False,\n",
    "        \t\t\t  shrink_to_boundary=True,\n",
    "        \t\t\t  tiebreak=False,\n",
    "        \t\t\t  random_seed=RANDOM_SEED)"
   ]
  },
  {
   "cell_type": "code",
   "execution_count": 8,
   "id": "c89eea50-c748-4d57-af0e-09e91b7e264c",
   "metadata": {},
   "outputs": [],
   "source": [
    "chiseling.run_strategy()"
   ]
  },
  {
   "cell_type": "code",
   "execution_count": 9,
   "id": "c0c8cb64-137f-4a70-8225-a3145fc3aa45",
   "metadata": {},
   "outputs": [
    {
     "data": {
      "text/html": [
       "<div>\n",
       "<style scoped>\n",
       "    .dataframe tbody tr th:only-of-type {\n",
       "        vertical-align: middle;\n",
       "    }\n",
       "\n",
       "    .dataframe tbody tr th {\n",
       "        vertical-align: top;\n",
       "    }\n",
       "\n",
       "    .dataframe thead th {\n",
       "        text-align: right;\n",
       "    }\n",
       "</style>\n",
       "<table border=\"1\" class=\"dataframe\">\n",
       "  <thead>\n",
       "    <tr style=\"text-align: right;\">\n",
       "      <th></th>\n",
       "      <th>stage_number</th>\n",
       "      <th>mean</th>\n",
       "      <th>variance</th>\n",
       "      <th>sample_size</th>\n",
       "      <th>test_stat</th>\n",
       "      <th>alloc_alpha</th>\n",
       "      <th>remaining_alpha</th>\n",
       "      <th>crit_val</th>\n",
       "      <th>rejection</th>\n",
       "    </tr>\n",
       "  </thead>\n",
       "  <tbody>\n",
       "    <tr>\n",
       "      <th>0</th>\n",
       "      <td>-1</td>\n",
       "      <td>-0.162044</td>\n",
       "      <td>0.680136</td>\n",
       "      <td>36501</td>\n",
       "      <td>-37.539344</td>\n",
       "      <td>0.000000</td>\n",
       "      <td>0.05000</td>\n",
       "      <td>inf</td>\n",
       "      <td>False</td>\n",
       "    </tr>\n",
       "    <tr>\n",
       "      <th>1</th>\n",
       "      <td>20</td>\n",
       "      <td>0.065323</td>\n",
       "      <td>0.773090</td>\n",
       "      <td>1351</td>\n",
       "      <td>2.730725</td>\n",
       "      <td>0.005007</td>\n",
       "      <td>0.04522</td>\n",
       "      <td>2.575358</td>\n",
       "      <td>True</td>\n",
       "    </tr>\n",
       "  </tbody>\n",
       "</table>\n",
       "</div>"
      ],
      "text/plain": [
       "   stage_number      mean  variance  sample_size  test_stat  alloc_alpha  \\\n",
       "0            -1 -0.162044  0.680136        36501 -37.539344     0.000000   \n",
       "1            20  0.065323  0.773090         1351   2.730725     0.005007   \n",
       "\n",
       "   remaining_alpha  crit_val  rejection  \n",
       "0          0.05000       inf      False  \n",
       "1          0.04522  2.575358       True  "
      ]
     },
     "execution_count": 9,
     "metadata": {},
     "output_type": "execute_result"
    }
   ],
   "source": [
    "chiseling.protocol.testing_history"
   ]
  },
  {
   "cell_type": "code",
   "execution_count": 10,
   "id": "c0a74583-4500-44d1-8020-287f2a8cd831",
   "metadata": {},
   "outputs": [
    {
     "data": {
      "text/plain": [
       "np.float64(0.03805526604884368)"
      ]
     },
     "execution_count": 10,
     "metadata": {},
     "output_type": "execute_result"
    }
   ],
   "source": [
    "chiseling.protocol.protocol_metadata.reg_mass_est.min()"
   ]
  },
  {
   "cell_type": "markdown",
   "id": "10a5acda-bd6f-44ac-a240-78937bf766bc",
   "metadata": {},
   "source": [
    "Inspect the rejected region"
   ]
  },
  {
   "cell_type": "code",
   "execution_count": 11,
   "id": "d274b577-0b65-4921-a546-85950ced5d6b",
   "metadata": {},
   "outputs": [],
   "source": [
    "# Get region\n",
    "region = chiseling.protocol.get_rejected_region()"
   ]
  },
  {
   "cell_type": "code",
   "execution_count": 12,
   "id": "fca94e86-3023-4ac0-92c2-f17e23391c1b",
   "metadata": {},
   "outputs": [],
   "source": [
    "# Register units and check region membership\n",
    "unit_reg = UnitRegistrar(random_seed=RANDOM_SEED)\n",
    "regTX = unit_reg.register_units(TX)\n",
    "in_reg_indics = region.in_region(regTX)"
   ]
  },
  {
   "cell_type": "code",
   "execution_count": 13,
   "id": "aa25384c-a768-444e-b995-5761911f7967",
   "metadata": {},
   "outputs": [],
   "source": [
    "# Get original dataframe and subset to region units\n",
    "bart_df = bart_sampler.bart_df\n",
    "region_bart_df = bart_df.loc[in_reg_indics]"
   ]
  },
  {
   "cell_type": "code",
   "execution_count": 14,
   "id": "5122cbab-55c5-44fa-bd91-9e9aa1508fa1",
   "metadata": {},
   "outputs": [
    {
     "data": {
      "text/plain": [
       "treatment\n",
       "0.0    0.132353\n",
       "1.0    0.795426\n",
       "Name: outcome, dtype: float64"
      ]
     },
     "execution_count": 14,
     "metadata": {},
     "output_type": "execute_result"
    }
   ],
   "source": [
    "# Check subgroup treatment effect\n",
    "region_bart_df.groupby(\"treatment\").outcome.mean()"
   ]
  },
  {
   "cell_type": "markdown",
   "id": "2a7f5fbf-3dd2-4e89-b6d0-20f8010dee43",
   "metadata": {},
   "source": [
    "### Run some data splitting analyses"
   ]
  },
  {
   "cell_type": "code",
   "execution_count": 15,
   "id": "dc60da20-c5fd-4226-8518-4a86a29ccb95",
   "metadata": {},
   "outputs": [],
   "source": [
    "np.random.seed(RANDOM_SEED)"
   ]
  },
  {
   "cell_type": "code",
   "execution_count": 16,
   "id": "8b2c9c85-84dc-444c-af79-2475051d2bc1",
   "metadata": {},
   "outputs": [],
   "source": [
    "# Get the data\n",
    "bart_sampler = BARTDataset(bart_path=BART_PATH, random_seed=RANDOM_SEED)\n",
    "Y = bart_sampler.bart_df.loc[:,\"outcome\"].values\n",
    "TX = bart_sampler.bart_df.iloc[:,1:].values"
   ]
  },
  {
   "cell_type": "code",
   "execution_count": 17,
   "id": "0b50bff1-4ad9-4dbb-9335-57ca4f9dd9d7",
   "metadata": {},
   "outputs": [
    {
     "name": "stdout",
     "output_type": "stream",
     "text": [
      "mean = 0.3379563354995775, se = 0.004316635480104617\n"
     ]
    }
   ],
   "source": [
    "# Construct pseudo-outcome\n",
    "pY = aipw_intercept_pseudo_outcome(TX[:,0],\n",
    "                                   TX[:,1:],\n",
    "                                   Y,\n",
    "                                   bart_sampler.get_propensity(),\n",
    "                                   random_seed=RANDOM_SEED)\n",
    "print(\"mean = {}, se = {}\".format(pY.mean(), np.sqrt(pY.var() / pY.shape[0])))"
   ]
  },
  {
   "cell_type": "code",
   "execution_count": 18,
   "id": "aec080d1-4da5-488a-9920-c7f4b8d658c6",
   "metadata": {},
   "outputs": [],
   "source": [
    "# Make the learner\n",
    "learner = make_causal_random_forest_classifier_learner(random_seed=RANDOM_SEED)"
   ]
  },
  {
   "cell_type": "code",
   "execution_count": 19,
   "id": "ee21869b-8d4a-4943-ae0d-5c7f8246f094",
   "metadata": {},
   "outputs": [
    {
     "name": "stdout",
     "output_type": "stream",
     "text": [
      "train ratio = 0.027396509684666174, rejected = False\n",
      "train ratio = 0.2, rejected = False\n",
      "train ratio = 0.5, rejected = False\n",
      "train ratio = 0.8, rejected = False\n"
     ]
    }
   ],
   "source": [
    "# Run data splitting analyses\n",
    "for train_ratio in train_ratio_space:\n",
    "    datasplit = DataSplittingStrategy(X=TX,\n",
    "                                      Y=Y,\n",
    "                                      train_ratio=train_ratio,\n",
    "                                      learner=learner,\n",
    "                                      alpha=alpha,\n",
    "                                      test_thresh=test_thresh,\n",
    "                                      pY=pY,\n",
    "                                      binary=False,\n",
    "                                      randomize=True,\n",
    "                                      n_min=30,\n",
    "                                      random_seed=RANDOM_SEED)\n",
    "    datasplit.run_strategy()\n",
    "    print(\"train ratio = {}, rejected = {}\".format(train_ratio, datasplit.rejected))"
   ]
  },
  {
   "cell_type": "code",
   "execution_count": 20,
   "id": "06131e6a-a30a-4afd-a522-47e2c2e8073d",
   "metadata": {},
   "outputs": [
    {
     "name": "stdout",
     "output_type": "stream",
     "text": [
      "train ratio = 0.027396509684666174, rejected = False\n",
      "train ratio = 0.2, rejected = False\n",
      "train ratio = 0.5, rejected = False\n",
      "train ratio = 0.8, rejected = False\n"
     ]
    }
   ],
   "source": [
    "# Run simultaneous data splitting analyses\n",
    "for train_ratio in train_ratio_space:\n",
    "    datasplit = SimulDataSplittingStrategy(X=TX,\n",
    "                                           Y=Y,\n",
    "                                           train_ratio=train_ratio,\n",
    "                                           learner=learner,\n",
    "                                           alpha=alpha,\n",
    "                                           test_thresh=test_thresh,\n",
    "                                           n_regs=10,\n",
    "                                           pY=pY,\n",
    "                                           n_min=30,\n",
    "                                           binary=False,\n",
    "                                           randomize=True,\n",
    "                                           random_seed=RANDOM_SEED)\n",
    "    datasplit.run_strategy()\n",
    "    print(\"train ratio = {}, rejected = {}\".format(train_ratio, datasplit.rejected))"
   ]
  },
  {
   "cell_type": "markdown",
   "id": "6c4d5b46-eb71-431b-a2ce-014969cf053f",
   "metadata": {},
   "source": [
    "### Run interpretable random forest analysis"
   ]
  },
  {
   "cell_type": "code",
   "execution_count": 21,
   "id": "7417a5ee-ef63-4fe3-92e6-755ed6cb2650",
   "metadata": {},
   "outputs": [],
   "source": [
    "np.random.seed(RANDOM_SEED)"
   ]
  },
  {
   "cell_type": "code",
   "execution_count": 22,
   "id": "13c889e7-ba34-4f4e-ab90-9509ab57b02e",
   "metadata": {},
   "outputs": [],
   "source": [
    "# Get the data\n",
    "bart_sampler = BARTDataset(bart_path=BART_PATH, random_seed=RANDOM_SEED)\n",
    "Y = bart_sampler.bart_df.loc[:,\"outcome\"].values\n",
    "TX = bart_sampler.bart_df.iloc[:,1:].values"
   ]
  },
  {
   "cell_type": "code",
   "execution_count": 23,
   "id": "642ad5e8-19a0-4fca-a9fe-3997172f117a",
   "metadata": {},
   "outputs": [
    {
     "name": "stdout",
     "output_type": "stream",
     "text": [
      "mean = 0.3379563354995775, se = 0.004316635480104617\n"
     ]
    }
   ],
   "source": [
    "# Construct pseudo-outcome\n",
    "pY = aipw_intercept_pseudo_outcome(TX[:,0],\n",
    "                                   TX[:,1:],\n",
    "                                   Y,\n",
    "                                   bart_sampler.get_propensity(),\n",
    "                                   random_seed=RANDOM_SEED)\n",
    "print(\"mean = {}, se = {}\".format(pY.mean(), np.sqrt(pY.var() / pY.shape[0])))\n",
    "# Subtract off test_thresh_interpret\n",
    "pY = pY - test_thresh_interpret"
   ]
  },
  {
   "cell_type": "code",
   "execution_count": 24,
   "id": "a4d12bfc-a229-4805-9adc-7a0f3b8be3ea",
   "metadata": {},
   "outputs": [],
   "source": [
    "# Make the learner\n",
    "learner = make_interpretable_causal_random_forest_classifier_learner(smoother=smoother,\n",
    "                                                                     random_seed=RANDOM_SEED)"
   ]
  },
  {
   "cell_type": "code",
   "execution_count": 25,
   "id": "c8f22e24-3456-44ac-ab03-53137ef0a51a",
   "metadata": {},
   "outputs": [],
   "source": [
    "chiseling = Chiseling(X=TX,\n",
    "                      Y=Y,\n",
    "                      test_thresh=test_thresh_interpret,\n",
    "                      alpha=alpha,\n",
    "                      learner=learner,\n",
    "                      n_burn_in=n_burn_in,\n",
    "                      pY=pY,\n",
    "                      binary=False,\n",
    "                      alpha_init=0,\n",
    "                      refit_batch_prop=0.05,\n",
    "                      reveal_batch_prop=0.01,\n",
    "                      margin_width=1,\n",
    "                      n_min=n_min,\n",
    "                      alpha_min='auto',\n",
    "        \t\t\t  use_learner_weights=False,\n",
    "        \t\t\t  skip_const_predictor=False,\n",
    "        \t\t\t  shrink_to_boundary=False,\n",
    "        \t\t\t  tiebreak=False,\n",
    "        \t\t\t  random_seed=RANDOM_SEED)"
   ]
  },
  {
   "cell_type": "code",
   "execution_count": 26,
   "id": "4a980ed9-9544-4360-95e8-d5d7e7a47960",
   "metadata": {
    "scrolled": true
   },
   "outputs": [],
   "source": [
    "chiseling.run_strategy()"
   ]
  },
  {
   "cell_type": "code",
   "execution_count": 27,
   "id": "aa780000-f65e-4f07-99f0-0d82132c772f",
   "metadata": {},
   "outputs": [
    {
     "data": {
      "text/html": [
       "<div>\n",
       "<style scoped>\n",
       "    .dataframe tbody tr th:only-of-type {\n",
       "        vertical-align: middle;\n",
       "    }\n",
       "\n",
       "    .dataframe tbody tr th {\n",
       "        vertical-align: top;\n",
       "    }\n",
       "\n",
       "    .dataframe thead th {\n",
       "        text-align: right;\n",
       "    }\n",
       "</style>\n",
       "<table border=\"1\" class=\"dataframe\">\n",
       "  <thead>\n",
       "    <tr style=\"text-align: right;\">\n",
       "      <th></th>\n",
       "      <th>stage_number</th>\n",
       "      <th>mean</th>\n",
       "      <th>variance</th>\n",
       "      <th>sample_size</th>\n",
       "      <th>test_stat</th>\n",
       "      <th>alloc_alpha</th>\n",
       "      <th>remaining_alpha</th>\n",
       "      <th>crit_val</th>\n",
       "      <th>rejection</th>\n",
       "    </tr>\n",
       "  </thead>\n",
       "  <tbody>\n",
       "    <tr>\n",
       "      <th>0</th>\n",
       "      <td>-1</td>\n",
       "      <td>-0.112044</td>\n",
       "      <td>0.680136</td>\n",
       "      <td>36501</td>\n",
       "      <td>-25.956249</td>\n",
       "      <td>0.000000</td>\n",
       "      <td>0.050000</td>\n",
       "      <td>inf</td>\n",
       "      <td>False</td>\n",
       "    </tr>\n",
       "    <tr>\n",
       "      <th>1</th>\n",
       "      <td>2</td>\n",
       "      <td>-0.108649</td>\n",
       "      <td>0.682394</td>\n",
       "      <td>34497</td>\n",
       "      <td>-24.428597</td>\n",
       "      <td>0.001415</td>\n",
       "      <td>0.048654</td>\n",
       "      <td>2.985572</td>\n",
       "      <td>False</td>\n",
       "    </tr>\n",
       "    <tr>\n",
       "      <th>2</th>\n",
       "      <td>4</td>\n",
       "      <td>-0.105279</td>\n",
       "      <td>0.682967</td>\n",
       "      <td>33463</td>\n",
       "      <td>-23.303656</td>\n",
       "      <td>0.001460</td>\n",
       "      <td>0.047263</td>\n",
       "      <td>2.975471</td>\n",
       "      <td>False</td>\n",
       "    </tr>\n",
       "    <tr>\n",
       "      <th>3</th>\n",
       "      <td>7</td>\n",
       "      <td>-0.101493</td>\n",
       "      <td>0.685423</td>\n",
       "      <td>30230</td>\n",
       "      <td>-21.314484</td>\n",
       "      <td>0.004570</td>\n",
       "      <td>0.042889</td>\n",
       "      <td>2.606745</td>\n",
       "      <td>False</td>\n",
       "    </tr>\n",
       "    <tr>\n",
       "      <th>4</th>\n",
       "      <td>10</td>\n",
       "      <td>-0.100235</td>\n",
       "      <td>0.684609</td>\n",
       "      <td>29112</td>\n",
       "      <td>-20.669650</td>\n",
       "      <td>0.001588</td>\n",
       "      <td>0.041367</td>\n",
       "      <td>2.931477</td>\n",
       "      <td>False</td>\n",
       "    </tr>\n",
       "    <tr>\n",
       "      <th>5</th>\n",
       "      <td>12</td>\n",
       "      <td>-0.074221</td>\n",
       "      <td>0.697488</td>\n",
       "      <td>22368</td>\n",
       "      <td>-13.291465</td>\n",
       "      <td>0.009593</td>\n",
       "      <td>0.032082</td>\n",
       "      <td>2.341907</td>\n",
       "      <td>False</td>\n",
       "    </tr>\n",
       "    <tr>\n",
       "      <th>6</th>\n",
       "      <td>15</td>\n",
       "      <td>-0.069531</td>\n",
       "      <td>0.696501</td>\n",
       "      <td>20779</td>\n",
       "      <td>-12.009590</td>\n",
       "      <td>0.002282</td>\n",
       "      <td>0.029868</td>\n",
       "      <td>2.834596</td>\n",
       "      <td>False</td>\n",
       "    </tr>\n",
       "    <tr>\n",
       "      <th>7</th>\n",
       "      <td>18</td>\n",
       "      <td>-0.048840</td>\n",
       "      <td>0.708225</td>\n",
       "      <td>16131</td>\n",
       "      <td>-7.370971</td>\n",
       "      <td>0.006691</td>\n",
       "      <td>0.023333</td>\n",
       "      <td>2.473455</td>\n",
       "      <td>False</td>\n",
       "    </tr>\n",
       "    <tr>\n",
       "      <th>8</th>\n",
       "      <td>20</td>\n",
       "      <td>-0.039158</td>\n",
       "      <td>0.720279</td>\n",
       "      <td>14442</td>\n",
       "      <td>-5.544756</td>\n",
       "      <td>0.002448</td>\n",
       "      <td>0.020937</td>\n",
       "      <td>2.813725</td>\n",
       "      <td>False</td>\n",
       "    </tr>\n",
       "    <tr>\n",
       "      <th>9</th>\n",
       "      <td>22</td>\n",
       "      <td>-0.036933</td>\n",
       "      <td>0.729560</td>\n",
       "      <td>13519</td>\n",
       "      <td>-5.027525</td>\n",
       "      <td>0.001341</td>\n",
       "      <td>0.019622</td>\n",
       "      <td>2.961935</td>\n",
       "      <td>False</td>\n",
       "    </tr>\n",
       "    <tr>\n",
       "      <th>10</th>\n",
       "      <td>24</td>\n",
       "      <td>-0.032485</td>\n",
       "      <td>0.730381</td>\n",
       "      <td>12610</td>\n",
       "      <td>-4.268388</td>\n",
       "      <td>0.001322</td>\n",
       "      <td>0.018324</td>\n",
       "      <td>2.999072</td>\n",
       "      <td>False</td>\n",
       "    </tr>\n",
       "    <tr>\n",
       "      <th>11</th>\n",
       "      <td>27</td>\n",
       "      <td>-0.026203</td>\n",
       "      <td>0.726204</td>\n",
       "      <td>11348</td>\n",
       "      <td>-3.275551</td>\n",
       "      <td>0.001838</td>\n",
       "      <td>0.016516</td>\n",
       "      <td>2.903777</td>\n",
       "      <td>False</td>\n",
       "    </tr>\n",
       "    <tr>\n",
       "      <th>12</th>\n",
       "      <td>29</td>\n",
       "      <td>-0.015323</td>\n",
       "      <td>0.726051</td>\n",
       "      <td>9986</td>\n",
       "      <td>-1.797043</td>\n",
       "      <td>0.001988</td>\n",
       "      <td>0.014558</td>\n",
       "      <td>2.880000</td>\n",
       "      <td>False</td>\n",
       "    </tr>\n",
       "    <tr>\n",
       "      <th>13</th>\n",
       "      <td>31</td>\n",
       "      <td>-0.001639</td>\n",
       "      <td>0.723990</td>\n",
       "      <td>8967</td>\n",
       "      <td>-0.182452</td>\n",
       "      <td>0.001490</td>\n",
       "      <td>0.013087</td>\n",
       "      <td>2.969600</td>\n",
       "      <td>False</td>\n",
       "    </tr>\n",
       "    <tr>\n",
       "      <th>14</th>\n",
       "      <td>34</td>\n",
       "      <td>0.020469</td>\n",
       "      <td>0.744990</td>\n",
       "      <td>7356</td>\n",
       "      <td>2.033943</td>\n",
       "      <td>0.002359</td>\n",
       "      <td>0.010753</td>\n",
       "      <td>2.825665</td>\n",
       "      <td>False</td>\n",
       "    </tr>\n",
       "    <tr>\n",
       "      <th>15</th>\n",
       "      <td>37</td>\n",
       "      <td>0.031919</td>\n",
       "      <td>0.752794</td>\n",
       "      <td>5401</td>\n",
       "      <td>2.703630</td>\n",
       "      <td>0.002870</td>\n",
       "      <td>0.007906</td>\n",
       "      <td>2.746154</td>\n",
       "      <td>False</td>\n",
       "    </tr>\n",
       "    <tr>\n",
       "      <th>16</th>\n",
       "      <td>40</td>\n",
       "      <td>0.050194</td>\n",
       "      <td>0.749299</td>\n",
       "      <td>3809</td>\n",
       "      <td>3.578737</td>\n",
       "      <td>0.002344</td>\n",
       "      <td>0.005576</td>\n",
       "      <td>2.808949</td>\n",
       "      <td>True</td>\n",
       "    </tr>\n",
       "  </tbody>\n",
       "</table>\n",
       "</div>"
      ],
      "text/plain": [
       "    stage_number      mean  variance  sample_size  test_stat  alloc_alpha  \\\n",
       "0             -1 -0.112044  0.680136        36501 -25.956249     0.000000   \n",
       "1              2 -0.108649  0.682394        34497 -24.428597     0.001415   \n",
       "2              4 -0.105279  0.682967        33463 -23.303656     0.001460   \n",
       "3              7 -0.101493  0.685423        30230 -21.314484     0.004570   \n",
       "4             10 -0.100235  0.684609        29112 -20.669650     0.001588   \n",
       "5             12 -0.074221  0.697488        22368 -13.291465     0.009593   \n",
       "6             15 -0.069531  0.696501        20779 -12.009590     0.002282   \n",
       "7             18 -0.048840  0.708225        16131  -7.370971     0.006691   \n",
       "8             20 -0.039158  0.720279        14442  -5.544756     0.002448   \n",
       "9             22 -0.036933  0.729560        13519  -5.027525     0.001341   \n",
       "10            24 -0.032485  0.730381        12610  -4.268388     0.001322   \n",
       "11            27 -0.026203  0.726204        11348  -3.275551     0.001838   \n",
       "12            29 -0.015323  0.726051         9986  -1.797043     0.001988   \n",
       "13            31 -0.001639  0.723990         8967  -0.182452     0.001490   \n",
       "14            34  0.020469  0.744990         7356   2.033943     0.002359   \n",
       "15            37  0.031919  0.752794         5401   2.703630     0.002870   \n",
       "16            40  0.050194  0.749299         3809   3.578737     0.002344   \n",
       "\n",
       "    remaining_alpha  crit_val  rejection  \n",
       "0          0.050000       inf      False  \n",
       "1          0.048654  2.985572      False  \n",
       "2          0.047263  2.975471      False  \n",
       "3          0.042889  2.606745      False  \n",
       "4          0.041367  2.931477      False  \n",
       "5          0.032082  2.341907      False  \n",
       "6          0.029868  2.834596      False  \n",
       "7          0.023333  2.473455      False  \n",
       "8          0.020937  2.813725      False  \n",
       "9          0.019622  2.961935      False  \n",
       "10         0.018324  2.999072      False  \n",
       "11         0.016516  2.903777      False  \n",
       "12         0.014558  2.880000      False  \n",
       "13         0.013087  2.969600      False  \n",
       "14         0.010753  2.825665      False  \n",
       "15         0.007906  2.746154      False  \n",
       "16         0.005576  2.808949       True  "
      ]
     },
     "execution_count": 27,
     "metadata": {},
     "output_type": "execute_result"
    }
   ],
   "source": [
    "chiseling.protocol.testing_history"
   ]
  },
  {
   "cell_type": "code",
   "execution_count": 28,
   "id": "51dfab91-ae63-477c-83aa-6f4eb7bf95e1",
   "metadata": {},
   "outputs": [
    {
     "data": {
      "text/plain": [
       "np.float64(0.10729275231683613)"
      ]
     },
     "execution_count": 28,
     "metadata": {},
     "output_type": "execute_result"
    }
   ],
   "source": [
    "chiseling.protocol.protocol_metadata.reg_mass_est.min()"
   ]
  },
  {
   "cell_type": "markdown",
   "id": "7064d70c-16ea-4161-b529-5c6c23558e0f",
   "metadata": {},
   "source": [
    "Inspect the rejected region"
   ]
  },
  {
   "cell_type": "code",
   "execution_count": 29,
   "id": "eed3cc0f-9d61-4896-9ad1-0e578ae02e58",
   "metadata": {},
   "outputs": [],
   "source": [
    "# Get region\n",
    "region = chiseling.protocol.get_rejected_region()"
   ]
  },
  {
   "cell_type": "code",
   "execution_count": 30,
   "id": "11c31b5e-f45d-4862-bb8a-f25c114d0ca1",
   "metadata": {},
   "outputs": [],
   "source": [
    "# Register units and check region membership\n",
    "unit_reg = UnitRegistrar(random_seed=RANDOM_SEED)\n",
    "regTX = unit_reg.register_units(TX)\n",
    "in_reg_indics = region.in_region(regTX)"
   ]
  },
  {
   "cell_type": "code",
   "execution_count": 31,
   "id": "93970e24-7429-483b-a878-4d06ad80b6c4",
   "metadata": {},
   "outputs": [],
   "source": [
    "# Get original dataframe and subset to region units\n",
    "bart_df = bart_sampler.bart_df\n",
    "region_bart_df = bart_df.loc[in_reg_indics]"
   ]
  },
  {
   "cell_type": "code",
   "execution_count": 32,
   "id": "c0603026-c14e-4276-9e9f-91ae923a49b2",
   "metadata": {},
   "outputs": [
    {
     "data": {
      "text/plain": [
       "treatment\n",
       "0.0    0.126767\n",
       "1.0    0.635417\n",
       "Name: outcome, dtype: float64"
      ]
     },
     "execution_count": 32,
     "metadata": {},
     "output_type": "execute_result"
    }
   ],
   "source": [
    "# Check subgroup treatment effect\n",
    "region_bart_df.groupby(\"treatment\").outcome.mean()"
   ]
  },
  {
   "cell_type": "code",
   "execution_count": 33,
   "id": "956faf16-e672-4fcf-b90e-e83e3ba84659",
   "metadata": {},
   "outputs": [],
   "source": [
    "# Get bounds of region\n",
    "box_lb = region_bart_df.iloc[:,2:].min(axis=0).values\n",
    "box_ub = region_bart_df.iloc[:,2:].max(axis=0).values"
   ]
  },
  {
   "cell_type": "code",
   "execution_count": 34,
   "id": "88638451-5488-479a-bf25-538a145330b4",
   "metadata": {},
   "outputs": [],
   "source": [
    "# Check whether each feature passes its inclusion creteria\n",
    "per_feature_inclusion_indics = ((box_lb <= bart_df.iloc[:,2:].values) &\n",
    "                                (bart_df.iloc[:,2:].values <= box_ub))"
   ]
  },
  {
   "cell_type": "code",
   "execution_count": 35,
   "id": "c544e2ad-7336-4e6c-ae01-05637d1b3592",
   "metadata": {},
   "outputs": [],
   "source": [
    "# Average inclusion rate\n",
    "avg_inclusion_rate = per_feature_inclusion_indics.mean(axis=0)"
   ]
  },
  {
   "cell_type": "code",
   "execution_count": 36,
   "id": "865eed34-58be-4432-96fe-b6172bc047d2",
   "metadata": {},
   "outputs": [
    {
     "data": {
      "image/png": "[encoded data removed]",
      "text/plain": [
       "<Figure size 600x350 with 1 Axes>"
      ]
     },
     "metadata": {},
     "output_type": "display_data"
    },
    {
     "name": "stdout",
     "output_type": "stream",
     "text": [
      "Number of inclusion rates < 1: 66\n"
     ]
    }
   ],
   "source": [
    "# Visualize average inclusion rate\n",
    "fig, ax = plt.subplots(1,1,figsize=(6,3.5))\n",
    "\n",
    "ax.hist(per_feature_inclusion_indics.mean(axis=0), bins=50)\n",
    "plt.show()\n",
    "\n",
    "print(\"Number of inclusion rates < 1:\", (per_feature_inclusion_indics.mean(axis=0) < 1).sum())"
   ]
  },
  {
   "cell_type": "code",
   "execution_count": 37,
   "id": "588a75b3-c3ac-4b02-8c45-64398d8c13fd",
   "metadata": {},
   "outputs": [
    {
     "name": "stdout",
     "output_type": "stream",
     "text": [
      "['wrkstat' 'racdif3_1' 'racdif4_0' 'income' 'income_num']\n",
      "[0.64247555 0.72630887 0.74247281 0.76849949 0.76849949]\n"
     ]
    }
   ],
   "source": [
    "# Sort features by average inclusion rate\n",
    "sorted_features = bart_df.columns.values[2:][np.argsort(avg_inclusion_rate)]\n",
    "sorted_avg_inclusion_rates = np.sort(avg_inclusion_rate)\n",
    "print(sorted_features[:5])\n",
    "print(sorted_avg_inclusion_rates[:5])"
   ]
  },
  {
   "cell_type": "code",
   "execution_count": 38,
   "id": "06141b06-4fe1-4ffd-a19b-068e2a1080c8",
   "metadata": {},
   "outputs": [
    {
     "name": "stdout",
     "output_type": "stream",
     "text": [
      "0.34125092463220186\n"
     ]
    }
   ],
   "source": [
    "# See how much of region is replicated by first five features\n",
    "top5_features = sorted_features[:5]\n",
    "top5_inclusion_indics = per_feature_inclusion_indics[:,np.isin(bart_df.columns.values[2:],\n",
    "                                                               top5_features)]\n",
    "top5_inclusion_rate = top5_inclusion_indics.all(axis=1).mean()\n",
    "print(top5_inclusion_rate)"
   ]
  },
  {
   "cell_type": "code",
   "execution_count": 39,
   "id": "ee1164d9-8283-42bf-b303-5263148d079c",
   "metadata": {},
   "outputs": [
    {
     "name": "stdout",
     "output_type": "stream",
     "text": [
      "wrkstat: inclusion rate = 0.6424755486151065, trt effect = 0.3699864187143975\n",
      "racdif3_1: inclusion rate = 0.7263088682501849, trt effect = 0.3605168262509372\n",
      "racdif4_0: inclusion rate = 0.7424728089641379, trt effect = 0.3595481257169242\n",
      "income: inclusion rate = 0.7684994931645708, trt effect = 0.3612158502277145\n",
      "income_num: inclusion rate = 0.7684994931645708, trt effect = 0.3612158502277145\n",
      "racdif1_1: inclusion rate = 0.7809101120517246, trt effect = 0.362430115354551\n",
      "race: inclusion rate = 0.7913755787512671, trt effect = 0.3583034179144053\n",
      "polviews: inclusion rate = 0.7926358181967618, trt effect = 0.3576614736170437\n",
      "earnrs: inclusion rate = 0.8264157146379552, trt effect = 0.35369563580186747\n",
      "partyid: inclusion rate = 0.8388537300347936, trt effect = 0.3517859420526546\n"
     ]
    },
    {
     "data": {
      "image/png": "[encoded data removed]",
      "text/plain": [
       "<Figure size 2400x800 with 10 Axes>"
      ]
     },
     "metadata": {},
     "output_type": "display_data"
    }
   ],
   "source": [
    "# Visualize top 10 features\n",
    "fig, ax = plt.subplots(2,5,figsize=(24,8))\n",
    "\n",
    "PANEL_COUNTER = 0\n",
    "AX0, AX1 = PANEL_COUNTER // 5, PANEL_COUNTER % 5\n",
    "\n",
    "for i in range(10):\n",
    "    feat = sorted_features[i]\n",
    "    # Calculate per feature subgroup ATE\n",
    "    feat_region_inds = (region_bart_df.loc[:,feat].min() <= bart_df.loc[:,feat])\n",
    "    feat_region_inds = feat_region_inds & (bart_df.loc[:,feat] <= region_bart_df.loc[:,feat].max())\n",
    "    feat_region_df = bart_df.loc[feat_region_inds]\n",
    "    feat_trt_effect_df = feat_region_df.groupby(\"treatment\").outcome.mean()\n",
    "    feat_trt_effect = feat_trt_effect_df[1] - feat_trt_effect_df[0]\n",
    "    # Plot\n",
    "    ax[AX0, AX1].hist(bart_df.loc[:,feat].values, bins=50, density=True)\n",
    "    ax[AX0, AX1].axvline(region_bart_df.loc[:,feat].min(), color=\"red\")\n",
    "    ax[AX0, AX1].axvline(region_bart_df.loc[:,feat].max(), color=\"green\")\n",
    "    ax[AX0, AX1].set_title(feat)\n",
    "    print(\"{}: inclusion rate = {}, trt effect = {}\".format(feat, sorted_avg_inclusion_rates[i], feat_trt_effect))\n",
    "    # Increment panel\n",
    "    PANEL_COUNTER += 1\n",
    "    AX0, AX1 = PANEL_COUNTER // 5, PANEL_COUNTER % 5\n",
    "    \n",
    "plt.show()"
   ]
  },
  {
   "cell_type": "code",
   "execution_count": 40,
   "id": "2840ba7f-85a9-4676-aed7-7d178845e4ac",
   "metadata": {},
   "outputs": [],
   "source": [
    "# Get indicators for points that were revealed randomly\n",
    "meta = chiseling.protocol.protocol_metadata\n",
    "rand_inds = meta[meta.is_random].orig_ind.values\n",
    "rand_indics = np.isin(np.arange(len(TX)), rand_inds)\n",
    "nonrand_indics = ~rand_indics"
   ]
  },
  {
   "cell_type": "code",
   "execution_count": 41,
   "id": "784fd889-fb1a-4937-853b-0ae6026c60fa",
   "metadata": {},
   "outputs": [],
   "source": [
    "# Calculate the running estimate of intersection subgroup ATE compared to per-feature subgroup ATE\n",
    "feat_region_inds = True\n",
    "subgroup_ATEs = []\n",
    "feat_subgroup_ATEs = []\n",
    "subgroup_sizes = []\n",
    "feat_subgroup_sizes = []\n",
    "for feat in sorted_features:\n",
    "    # Get the region indicators\n",
    "    per_feat_region_inds = nonrand_indics\n",
    "    per_feat_region_inds = per_feat_region_inds & (region_bart_df.loc[:,feat].min() <= bart_df.loc[:,feat])\n",
    "    per_feat_region_inds = per_feat_region_inds & (bart_df.loc[:,feat] <= region_bart_df.loc[:,feat].max())\n",
    "    feat_region_inds = feat_region_inds & per_feat_region_inds\n",
    "    # Calculate ATEs\n",
    "    per_feat_region_df = bart_df.loc[per_feat_region_inds]\n",
    "    per_feat_trt_effect_df = per_feat_region_df.groupby(\"treatment\").outcome.mean()\n",
    "    per_feat_trt_effect = per_feat_trt_effect_df[1] - per_feat_trt_effect_df[0]\n",
    "    feat_subgroup_ATEs.append(per_feat_trt_effect)\n",
    "    subgroup_region_df = bart_df.loc[feat_region_inds]\n",
    "    subgroup_trt_effect_df = subgroup_region_df.groupby(\"treatment\").outcome.mean()\n",
    "    subgroup_trt_effect = subgroup_trt_effect_df[1] - subgroup_trt_effect_df[0]\n",
    "    subgroup_ATEs.append(subgroup_trt_effect)\n",
    "    # Calculate sizes\n",
    "    subgroup_sizes.append(feat_region_inds.mean())\n",
    "    feat_subgroup_sizes.append(per_feat_region_inds.mean())\n",
    "subgroup_ATEs = np.array(subgroup_ATEs)\n",
    "feat_subgroup_ATEs = np.array(feat_subgroup_ATEs)\n",
    "subgroup_sizes = np.array(subgroup_sizes)\n",
    "feat_subgroup_sizes = np.array(feat_subgroup_sizes)"
   ]
  },
  {
   "cell_type": "code",
   "execution_count": 42,
   "id": "a2712d5f-580e-4bfe-98e4-728496648c35",
   "metadata": {},
   "outputs": [
    {
     "data": {
      "image/png": "[encoded data removed]",
      "text/plain": [
       "<Figure size 1200x500 with 2 Axes>"
      ]
     },
     "metadata": {},
     "output_type": "display_data"
    }
   ],
   "source": [
    "fig, ax = plt.subplots(1,2,figsize=(12,5))\n",
    "\n",
    "LABEL_FONTSIZE = 18\n",
    "MARKERSIZE = 25\n",
    "LINEWIDTH = 1\n",
    "LINEALPHA = 0.6\n",
    "TICK_FONTSIZE = 13\n",
    "LEGEND_FONTSIZE = 13\n",
    "FULL_COLOR = \"#2032DA\"\n",
    "PER_COLOR = \"#69C1B9\"\n",
    "FINAL_COLOR = \"#2032DA\"\n",
    "ATE_COLOR = \"red\"\n",
    "\n",
    "N_FEATURES = 40\n",
    "FULL_TRT_EFFECT = bart_df.groupby(\"treatment\").outcome.mean()[1] - bart_df.groupby(\"treatment\").outcome.mean()[0]\n",
    "\n",
    "ax[0].plot(np.arange(1,1+N_FEATURES), subgroup_ATEs[:N_FEATURES], color=FULL_COLOR, linewidth=LINEWIDTH, alpha=LINEALPHA)\n",
    "ax[0].scatter(np.arange(1,1+N_FEATURES), subgroup_ATEs[:N_FEATURES], s=MARKERSIZE, label=\"Running Intersection\",\n",
    "              color=FULL_COLOR)\n",
    "ax[0].plot(np.arange(1,1+N_FEATURES), feat_subgroup_ATEs[:N_FEATURES], color=PER_COLOR, linewidth=LINEWIDTH, alpha=LINEALPHA)\n",
    "ax[0].scatter(np.arange(1,1+N_FEATURES), feat_subgroup_ATEs[:N_FEATURES], s=MARKERSIZE, label=\"Single Feature\",\n",
    "              color=PER_COLOR)\n",
    "ax[0].axhline(subgroup_ATEs[-1], color=FINAL_COLOR, label=\"Final Subgroup\")\n",
    "ax[0].axhline(FULL_TRT_EFFECT, color=ATE_COLOR, label=\"Full Population\")\n",
    "ax[0].spines[['right', 'top']].set_visible(False)\n",
    "ax[0].tick_params(axis='both', which='major', labelsize=TICK_FONTSIZE)\n",
    "\n",
    "ax[1].plot(np.arange(1,1+N_FEATURES), subgroup_sizes[:N_FEATURES], color=FULL_COLOR, linewidth=LINEWIDTH, alpha=LINEALPHA)\n",
    "ax[1].scatter(np.arange(1,1+N_FEATURES), subgroup_sizes[:N_FEATURES], s=MARKERSIZE, label=\"Running Intersection\",\n",
    "              color=FULL_COLOR)\n",
    "ax[1].plot(np.arange(1,1+N_FEATURES), feat_subgroup_sizes[:N_FEATURES], color=PER_COLOR, linewidth=LINEWIDTH, alpha=LINEALPHA)\n",
    "ax[1].scatter(np.arange(1,1+N_FEATURES), feat_subgroup_sizes[:N_FEATURES], s=MARKERSIZE, label=\"Single Feature\",\n",
    "              color=PER_COLOR)\n",
    "ax[1].axhline(subgroup_sizes[-1], color=FINAL_COLOR, label=\"Final Subgroup\")\n",
    "ax[1].spines[['right', 'top']].set_visible(False)\n",
    "ax[1].tick_params(axis='both', which='major', labelsize=TICK_FONTSIZE)\n",
    "\n",
    "# Global formatting\n",
    "ax[0].set_ylabel(\"Subgroup ATE\", fontsize=LABEL_FONTSIZE)\n",
    "ax[0].set_xlabel(\"Feature Rank\", fontsize=LABEL_FONTSIZE)\n",
    "ax[1].set_ylabel(\"Subgroup Size\", fontsize=LABEL_FONTSIZE)\n",
    "ax[1].set_xlabel(\"Feature Rank\", fontsize=LABEL_FONTSIZE)\n",
    "ax[1].set_ylim(0,1)\n",
    "ax[0].legend(fontsize=LEGEND_FONTSIZE)\n",
    "plt.tight_layout()\n",
    "\n",
    "# Save\n",
    "if SAVE:\n",
    "    plt.savefig(FIGURE_SAVEPATH + \"bart_interpret.pdf\", bbox_inches=\"tight\", dpi=300)\n",
    "\n",
    "plt.show()"
   ]
  },
  {
   "cell_type": "code",
   "execution_count": null,
   "id": "aa2884fa-3071-4060-bb88-cacb0a7fe2a3",
   "metadata": {},
   "outputs": [],
   "source": []
  }
 ],
 "metadata": {
  "kernelspec": {
   "display_name": "Python 3 (ipykernel)",
   "language": "python",
   "name": "python3"
  },
  "language_info": {
   "codemirror_mode": {
    "name": "ipython",
    "version": 3
   },
   "file_extension": ".py",
   "mimetype": "text/x-python",
   "name": "python",
   "nbconvert_exporter": "python",
   "pygments_lexer": "ipython3",
   "version": "3.12.9"
  }
 },
 "nbformat": 4,
 "nbformat_minor": 5
}
