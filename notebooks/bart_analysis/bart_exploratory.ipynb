{
 "cells": [
  {
   "cell_type": "code",
   "execution_count": 1,
   "id": "1f7014a7-73a5-4fbd-80ec-29154af8a597",
   "metadata": {},
   "outputs": [],
   "source": [
    "import numpy as np\n",
    "import pandas as pd\n",
    "import scipy.stats\n",
    "import matplotlib.pyplot as plt\n",
    "\n",
    "import sys\n",
    "sys.path.append(\"../../../\")\n",
    "\n",
    "from chiseling.dgps.bart_dataset import BARTDataset"
   ]
  },
  {
   "cell_type": "markdown",
   "id": "b0228c9a-42c0-4363-9825-3cf830a2da8d",
   "metadata": {},
   "source": [
    "### Config"
   ]
  },
  {
   "cell_type": "code",
   "execution_count": 2,
   "id": "fbec3b22-c38a-4303-8179-e694eeec9790",
   "metadata": {},
   "outputs": [],
   "source": [
    "BART_PATH = \"./bart_dataset_processed.tsv.gz\""
   ]
  },
  {
   "cell_type": "code",
   "execution_count": 3,
   "id": "13c889e7-ba34-4f4e-ab90-9509ab57b02e",
   "metadata": {},
   "outputs": [],
   "source": [
    "# Get the data\n",
    "bart_sampler = BARTDataset(bart_path=BART_PATH, random_seed=42)\n",
    "bart_df = bart_sampler.bart_df\n",
    "\n",
    "orig_df = pd.read_csv(\"welfarenolabel3.csv\", sep=\",\")"
   ]
  },
  {
   "cell_type": "code",
   "execution_count": 4,
   "id": "b8a77f56-e686-4640-a6f2-596270321799",
   "metadata": {},
   "outputs": [
    {
     "name": "stdout",
     "output_type": "stream",
     "text": [
      "(36501, 154)\n",
      "(36501, 211)\n"
     ]
    }
   ],
   "source": [
    "# Print dimensions\n",
    "print(bart_df.shape)\n",
    "print(orig_df.shape)"
   ]
  },
  {
   "cell_type": "code",
   "execution_count": 5,
   "id": "ee1164d9-8283-42bf-b303-5263148d079c",
   "metadata": {},
   "outputs": [
    {
     "data": {
      "text/plain": [
       "array(['outcome', 'treatment', 'occ_miss', 'polviews', 'parborn_miss',\n",
       "       'wrkstat', 'granborn_miss', 'rincome_miss', 'wrkstat_miss',\n",
       "       'family16_miss', 'd_2000', 'earnrs', 'childs_miss', 'sphrs1',\n",
       "       'educ_miss', 'childs', 'sphrs2_miss', 'd_1993', 'd_2008', 'year',\n",
       "       'preteen', 'occ80_miss', 'agekdbrn_miss', 'earnrs_miss', 'hrs2',\n",
       "       'mawork_miss', 'speduc_miss', 'agekdbrn', 'hrs2_miss', 'maeduc',\n",
       "       'd_1994', 'sibs', 'd_1990', 'babies_miss', 'unrelat', 'paeduc',\n",
       "       'widowed_miss', 'adults', 'mawork', 'paeduc_miss', 'wrkgovt',\n",
       "       'sphrs2', 'spind80', 'parborn', 'spdeg_miss', 'born_miss',\n",
       "       'indus80_miss', 'evwork_miss', 'evwork', 'degree_miss',\n",
       "       'spwrksta_miss', 'spocc80_miss', 'occ80', 'spind80_miss', 'd_1991',\n",
       "       'prestige', 'd_2004', 'reg16', 'degree', 'hompop', 'hrs1_miss',\n",
       "       'spevwork_miss', 'maeduc_miss', 'babies', 'spevwork', 'spwrksta',\n",
       "       'divorce_miss', 'rincome', 'educ', 'd_1986', 'wrkgovt_miss',\n",
       "       'agewed', 'spdeg', 'income', 'd_1998', 'mobile16_miss', 'marital',\n",
       "       'prestg80_miss', 'income86_miss', 'occ', 'granborn',\n",
       "       'preteen_miss', 'indus80', 'race', 'hrs1', 'd_2006',\n",
       "       'marital_miss', 'sppres80_miss', 'd_1988', 'd_1996',\n",
       "       'commute_miss', 'polviews_miss', 'partyid', 'born', 'commute',\n",
       "       'prestige_miss', 'age_miss', 'mawkborn_miss', 'adults_miss', 'age',\n",
       "       'family16', 'teens', 'mobile16', 'wrkslf', 'income_miss',\n",
       "       'teens_miss', 'madeg_miss', 'res16', 'sppres80', 'mawkborn', 'id',\n",
       "       'temp', 'attblack_miss', 'res16_miss', 'income86', 'agewed_miss',\n",
       "       'speduc', 'd_2002', 'prestg80', 'hompop_miss', 'unrelat_miss',\n",
       "       'padeg', 'd_1987', 'sex', 'wrkslf_miss', 'attblack',\n",
       "       'partyid_miss', 'd_2010', 'spocc80', 'd_1989', 'polviews_num',\n",
       "       'income_num', 'padeg_miss', 'madeg', 'sphrs1_miss', 'sibs_miss',\n",
       "       'widowed', 'divorce', 'racdif1_0', 'racdif1_1', 'racdif1_dk',\n",
       "       'racdif1_na', 'racdif2_0', 'racdif2_1', 'racdif2_dk', 'racdif2_na',\n",
       "       'racdif3_0', 'racdif3_1', 'racdif3_dk', 'racdif3_na', 'racdif4_0',\n",
       "       'racdif4_1', 'racdif4_dk', 'racdif4_na'], dtype=object)"
      ]
     },
     "execution_count": 5,
     "metadata": {},
     "output_type": "execute_result"
    }
   ],
   "source": [
    "# Show columns\n",
    "bart_df.columns.values"
   ]
  },
  {
   "cell_type": "markdown",
   "id": "2f0d446b-9f40-4b3f-bba8-f1fb4e29b690",
   "metadata": {},
   "source": [
    "### Inspect some stuff"
   ]
  },
  {
   "cell_type": "code",
   "execution_count": 6,
   "id": "6a28db8c-7cc8-4272-a593-82564b5d1a15",
   "metadata": {},
   "outputs": [
    {
     "data": {
      "text/plain": [
       "income\n",
       "-999     4136\n",
       " 1        409\n",
       " 2        454\n",
       " 3        430\n",
       " 4        485\n",
       " 5        545\n",
       " 6        528\n",
       " 7        555\n",
       " 8        908\n",
       " 9       2900\n",
       " 10      2527\n",
       " 11      2816\n",
       " 12     19808\n",
       "Name: income, dtype: int64"
      ]
     },
     "execution_count": 6,
     "metadata": {},
     "output_type": "execute_result"
    }
   ],
   "source": [
    "orig_df.groupby(\"income\").income.count()"
   ]
  },
  {
   "cell_type": "code",
   "execution_count": 7,
   "id": "965f1fbe-6ab1-44b2-a900-3da125e050b2",
   "metadata": {},
   "outputs": [
    {
     "data": {
      "text/plain": [
       "income\n",
       "-2.280160     4136\n",
       "-2.036540      409\n",
       "-1.792920      454\n",
       "-1.549300      430\n",
       "-1.305680      485\n",
       "-1.062060      545\n",
       "-0.818441      528\n",
       "-0.574821      555\n",
       "-0.331201      908\n",
       "-0.087581     2900\n",
       " 0.156039     2527\n",
       " 0.399659     2816\n",
       " 0.643279    19808\n",
       "Name: income, dtype: int64"
      ]
     },
     "execution_count": 7,
     "metadata": {},
     "output_type": "execute_result"
    }
   ],
   "source": [
    "bart_df.groupby(\"income\").income.count()"
   ]
  },
  {
   "cell_type": "code",
   "execution_count": 8,
   "id": "b83d216b-66bc-4835-824e-50591194ff1d",
   "metadata": {},
   "outputs": [
    {
     "data": {
      "text/plain": [
       "np.float64(0.689049615079039)"
      ]
     },
     "execution_count": 8,
     "metadata": {},
     "output_type": "execute_result"
    }
   ],
   "source": [
    "(orig_df.income >= 10).mean()"
   ]
  },
  {
   "cell_type": "code",
   "execution_count": null,
   "id": "368af89c-55b1-4501-8a41-15ffd0e6aea5",
   "metadata": {},
   "outputs": [],
   "source": []
  }
 ],
 "metadata": {
  "kernelspec": {
   "display_name": "Python 3 (ipykernel)",
   "language": "python",
   "name": "python3"
  },
  "language_info": {
   "codemirror_mode": {
    "name": "ipython",
    "version": 3
   },
   "file_extension": ".py",
   "mimetype": "text/x-python",
   "name": "python",
   "nbconvert_exporter": "python",
   "pygments_lexer": "ipython3",
   "version": "3.12.9"
  }
 },
 "nbformat": 4,
 "nbformat_minor": 5
}
